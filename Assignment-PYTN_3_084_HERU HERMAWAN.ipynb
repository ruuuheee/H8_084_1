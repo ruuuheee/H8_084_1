{
 "cells": [
  {
   "cell_type": "markdown",
   "id": "383dee14",
   "metadata": {},
   "source": [
    "# IMPORT \n",
    "Import library yang diperlukan:"
   ]
  },
  {
   "cell_type": "code",
   "execution_count": 1,
   "id": "f5097bee",
   "metadata": {},
   "outputs": [],
   "source": [
    "import pandas as pd\n",
    "import numpy as np\n",
    "import matplotlib.pyplot as plt\n",
    "import seaborn as sns\n",
    "\n",
    "%matplotlib inline"
   ]
  },
  {
   "cell_type": "markdown",
   "id": "ce4596da",
   "metadata": {},
   "source": [
    "Mengimport dataset dari excel 'bank-additional.xlsx'."
   ]
  },
  {
   "cell_type": "code",
   "execution_count": 2,
   "id": "a3ffada5",
   "metadata": {},
   "outputs": [],
   "source": [
    "data = pd.read_excel('bank-additional.xlsx')"
   ]
  },
  {
   "cell_type": "markdown",
   "id": "4e4541bf",
   "metadata": {},
   "source": [
    "Menampilan head dataset:"
   ]
  },
  {
   "cell_type": "code",
   "execution_count": 3,
   "id": "8ab6e417",
   "metadata": {
    "scrolled": true
   },
   "outputs": [
    {
     "data": {
      "text/html": [
       "<div>\n",
       "<style scoped>\n",
       "    .dataframe tbody tr th:only-of-type {\n",
       "        vertical-align: middle;\n",
       "    }\n",
       "\n",
       "    .dataframe tbody tr th {\n",
       "        vertical-align: top;\n",
       "    }\n",
       "\n",
       "    .dataframe thead th {\n",
       "        text-align: right;\n",
       "    }\n",
       "</style>\n",
       "<table border=\"1\" class=\"dataframe\">\n",
       "  <thead>\n",
       "    <tr style=\"text-align: right;\">\n",
       "      <th></th>\n",
       "      <th>age</th>\n",
       "      <th>job</th>\n",
       "      <th>marital</th>\n",
       "      <th>education</th>\n",
       "      <th>default</th>\n",
       "      <th>housing</th>\n",
       "      <th>loan</th>\n",
       "      <th>contact</th>\n",
       "      <th>month</th>\n",
       "      <th>day_of_week</th>\n",
       "      <th>...</th>\n",
       "      <th>campaign</th>\n",
       "      <th>pdays</th>\n",
       "      <th>previous</th>\n",
       "      <th>poutcome</th>\n",
       "      <th>emp.var.rate</th>\n",
       "      <th>cons.price.idx</th>\n",
       "      <th>cons.conf.idx</th>\n",
       "      <th>euribor3m</th>\n",
       "      <th>nr.employed</th>\n",
       "      <th>y</th>\n",
       "    </tr>\n",
       "  </thead>\n",
       "  <tbody>\n",
       "    <tr>\n",
       "      <th>0</th>\n",
       "      <td>30</td>\n",
       "      <td>blue-collar</td>\n",
       "      <td>married</td>\n",
       "      <td>basic.9y</td>\n",
       "      <td>no</td>\n",
       "      <td>yes</td>\n",
       "      <td>no</td>\n",
       "      <td>cellular</td>\n",
       "      <td>may</td>\n",
       "      <td>fri</td>\n",
       "      <td>...</td>\n",
       "      <td>2</td>\n",
       "      <td>999</td>\n",
       "      <td>0</td>\n",
       "      <td>nonexistent</td>\n",
       "      <td>-1.8</td>\n",
       "      <td>92893</td>\n",
       "      <td>-46.2</td>\n",
       "      <td>1313</td>\n",
       "      <td>1900-07-30 11:01:00</td>\n",
       "      <td>no</td>\n",
       "    </tr>\n",
       "    <tr>\n",
       "      <th>1</th>\n",
       "      <td>39</td>\n",
       "      <td>services</td>\n",
       "      <td>single</td>\n",
       "      <td>high.school</td>\n",
       "      <td>no</td>\n",
       "      <td>no</td>\n",
       "      <td>no</td>\n",
       "      <td>telephone</td>\n",
       "      <td>may</td>\n",
       "      <td>fri</td>\n",
       "      <td>...</td>\n",
       "      <td>4</td>\n",
       "      <td>999</td>\n",
       "      <td>0</td>\n",
       "      <td>nonexistent</td>\n",
       "      <td>01:01:00</td>\n",
       "      <td>93994</td>\n",
       "      <td>-36.4</td>\n",
       "      <td>4855</td>\n",
       "      <td>5191</td>\n",
       "      <td>no</td>\n",
       "    </tr>\n",
       "    <tr>\n",
       "      <th>2</th>\n",
       "      <td>25</td>\n",
       "      <td>services</td>\n",
       "      <td>married</td>\n",
       "      <td>high.school</td>\n",
       "      <td>no</td>\n",
       "      <td>yes</td>\n",
       "      <td>no</td>\n",
       "      <td>telephone</td>\n",
       "      <td>jun</td>\n",
       "      <td>wed</td>\n",
       "      <td>...</td>\n",
       "      <td>1</td>\n",
       "      <td>999</td>\n",
       "      <td>0</td>\n",
       "      <td>nonexistent</td>\n",
       "      <td>01:04:00</td>\n",
       "      <td>94465</td>\n",
       "      <td>-41.8</td>\n",
       "      <td>4962</td>\n",
       "      <td>1900-08-04 20:01:00</td>\n",
       "      <td>no</td>\n",
       "    </tr>\n",
       "    <tr>\n",
       "      <th>3</th>\n",
       "      <td>38</td>\n",
       "      <td>services</td>\n",
       "      <td>married</td>\n",
       "      <td>basic.9y</td>\n",
       "      <td>no</td>\n",
       "      <td>unknown</td>\n",
       "      <td>unknown</td>\n",
       "      <td>telephone</td>\n",
       "      <td>jun</td>\n",
       "      <td>fri</td>\n",
       "      <td>...</td>\n",
       "      <td>3</td>\n",
       "      <td>999</td>\n",
       "      <td>0</td>\n",
       "      <td>nonexistent</td>\n",
       "      <td>01:04:00</td>\n",
       "      <td>94465</td>\n",
       "      <td>-41.8</td>\n",
       "      <td>4959</td>\n",
       "      <td>1900-08-04 20:01:00</td>\n",
       "      <td>no</td>\n",
       "    </tr>\n",
       "    <tr>\n",
       "      <th>4</th>\n",
       "      <td>47</td>\n",
       "      <td>admin.</td>\n",
       "      <td>married</td>\n",
       "      <td>university.degree</td>\n",
       "      <td>no</td>\n",
       "      <td>yes</td>\n",
       "      <td>no</td>\n",
       "      <td>cellular</td>\n",
       "      <td>nov</td>\n",
       "      <td>mon</td>\n",
       "      <td>...</td>\n",
       "      <td>1</td>\n",
       "      <td>999</td>\n",
       "      <td>0</td>\n",
       "      <td>nonexistent</td>\n",
       "      <td>-0.1</td>\n",
       "      <td>1900-01-03 21:02:00</td>\n",
       "      <td>-42.0</td>\n",
       "      <td>4191</td>\n",
       "      <td>1900-08-03 11:08:00</td>\n",
       "      <td>no</td>\n",
       "    </tr>\n",
       "  </tbody>\n",
       "</table>\n",
       "<p>5 rows × 21 columns</p>\n",
       "</div>"
      ],
      "text/plain": [
       "   age          job  marital          education default  housing     loan  \\\n",
       "0   30  blue-collar  married           basic.9y      no      yes       no   \n",
       "1   39     services   single        high.school      no       no       no   \n",
       "2   25     services  married        high.school      no      yes       no   \n",
       "3   38     services  married           basic.9y      no  unknown  unknown   \n",
       "4   47       admin.  married  university.degree      no      yes       no   \n",
       "\n",
       "     contact month day_of_week  ...  campaign  pdays  previous     poutcome  \\\n",
       "0   cellular   may         fri  ...         2    999         0  nonexistent   \n",
       "1  telephone   may         fri  ...         4    999         0  nonexistent   \n",
       "2  telephone   jun         wed  ...         1    999         0  nonexistent   \n",
       "3  telephone   jun         fri  ...         3    999         0  nonexistent   \n",
       "4   cellular   nov         mon  ...         1    999         0  nonexistent   \n",
       "\n",
       "  emp.var.rate       cons.price.idx cons.conf.idx  euribor3m  \\\n",
       "0         -1.8                92893         -46.2       1313   \n",
       "1     01:01:00                93994         -36.4       4855   \n",
       "2     01:04:00                94465         -41.8       4962   \n",
       "3     01:04:00                94465         -41.8       4959   \n",
       "4         -0.1  1900-01-03 21:02:00         -42.0       4191   \n",
       "\n",
       "           nr.employed   y  \n",
       "0  1900-07-30 11:01:00  no  \n",
       "1                 5191  no  \n",
       "2  1900-08-04 20:01:00  no  \n",
       "3  1900-08-04 20:01:00  no  \n",
       "4  1900-08-03 11:08:00  no  \n",
       "\n",
       "[5 rows x 21 columns]"
      ]
     },
     "execution_count": 3,
     "metadata": {},
     "output_type": "execute_result"
    }
   ],
   "source": [
    "data.head()"
   ]
  },
  {
   "cell_type": "markdown",
   "id": "fdd91433",
   "metadata": {},
   "source": [
    "Menampilkan jumlah dan dimensi dataset:"
   ]
  },
  {
   "cell_type": "code",
   "execution_count": 4,
   "id": "a0be7afe",
   "metadata": {},
   "outputs": [
    {
     "data": {
      "text/plain": [
       "(4119, 21)"
      ]
     },
     "execution_count": 4,
     "metadata": {},
     "output_type": "execute_result"
    }
   ],
   "source": [
    "data.shape"
   ]
  },
  {
   "cell_type": "markdown",
   "id": "d3e49d30",
   "metadata": {},
   "source": [
    "---"
   ]
  },
  {
   "cell_type": "markdown",
   "id": "ada4bb8f",
   "metadata": {},
   "source": [
    "# DATA ANALYSIS DAN VISUALISASI DATA"
   ]
  },
  {
   "cell_type": "markdown",
   "id": "c3c36158",
   "metadata": {},
   "source": [
    "Menampilkan informasi tipe data dan missing value:"
   ]
  },
  {
   "cell_type": "code",
   "execution_count": 5,
   "id": "32fb48c7",
   "metadata": {},
   "outputs": [
    {
     "name": "stdout",
     "output_type": "stream",
     "text": [
      "<class 'pandas.core.frame.DataFrame'>\n",
      "RangeIndex: 4119 entries, 0 to 4118\n",
      "Data columns (total 21 columns):\n",
      " #   Column          Non-Null Count  Dtype  \n",
      "---  ------          --------------  -----  \n",
      " 0   age             4119 non-null   int64  \n",
      " 1   job             4119 non-null   object \n",
      " 2   marital         4119 non-null   object \n",
      " 3   education       4119 non-null   object \n",
      " 4   default         4119 non-null   object \n",
      " 5   housing         4119 non-null   object \n",
      " 6   loan            4119 non-null   object \n",
      " 7   contact         4119 non-null   object \n",
      " 8   month           4119 non-null   object \n",
      " 9   day_of_week     4119 non-null   object \n",
      " 10  duration        4119 non-null   int64  \n",
      " 11  campaign        4119 non-null   int64  \n",
      " 12  pdays           4119 non-null   int64  \n",
      " 13  previous        4119 non-null   int64  \n",
      " 14  poutcome        4119 non-null   object \n",
      " 15  emp.var.rate    4119 non-null   object \n",
      " 16  cons.price.idx  4119 non-null   object \n",
      " 17  cons.conf.idx   4119 non-null   float64\n",
      " 18  euribor3m       4119 non-null   object \n",
      " 19  nr.employed     4119 non-null   object \n",
      " 20  y               4119 non-null   object \n",
      "dtypes: float64(1), int64(5), object(15)\n",
      "memory usage: 675.9+ KB\n"
     ]
    }
   ],
   "source": [
    "data.info()"
   ]
  },
  {
   "cell_type": "markdown",
   "id": "3170db28",
   "metadata": {},
   "source": [
    "Terlihat pada dataset tidak ada missing value. Namun missing value akan diperiksa lebih lanjut."
   ]
  },
  {
   "cell_type": "code",
   "execution_count": 6,
   "id": "fd3a36bd",
   "metadata": {},
   "outputs": [],
   "source": [
    "numerical = list(data.select_dtypes(include=['int64']).columns.values) + list(data.select_dtypes(include=['float64']).columns.values)\n",
    "categorical = list(data.select_dtypes(include=['object']))"
   ]
  },
  {
   "cell_type": "code",
   "execution_count": 7,
   "id": "532f10dc",
   "metadata": {},
   "outputs": [
    {
     "name": "stdout",
     "output_type": "stream",
     "text": [
      "Tipe numerical: \n",
      " ['age', 'duration', 'campaign', 'pdays', 'previous', 'cons.conf.idx']\n",
      "\n",
      "\n",
      "Tipe categorical: \n",
      " ['job', 'marital', 'education', 'default', 'housing', 'loan', 'contact', 'month', 'day_of_week', 'poutcome', 'emp.var.rate', 'cons.price.idx', 'euribor3m', 'nr.employed', 'y']\n"
     ]
    }
   ],
   "source": [
    "print('Tipe numerical:','\\n', numerical)\n",
    "print('\\n')\n",
    "print('Tipe categorical:','\\n', categorical)"
   ]
  },
  {
   "cell_type": "markdown",
   "id": "0b98b05d",
   "metadata": {},
   "source": [
    "Jika melihat penjelasan dataset, seharusnya kolom 'emp.var.rate', 'cons.price.idx', 'euribor3m', dan 'nr.employed' termasuk numerical.\n",
    "Oleh karena itu, perlu diubah dahulu menjadi numeric."
   ]
  },
  {
   "cell_type": "code",
   "execution_count": 8,
   "id": "1258c5b2",
   "metadata": {},
   "outputs": [],
   "source": [
    "numeric = ['emp.var.rate','cons.price.idx','euribor3m','nr.employed']\n",
    "for col in numeric:\n",
    "    data[col] = pd.to_numeric(data[col], errors='coerce')"
   ]
  },
  {
   "cell_type": "code",
   "execution_count": 9,
   "id": "2f1b0c6d",
   "metadata": {},
   "outputs": [],
   "source": [
    "numerical = numerical + numeric"
   ]
  },
  {
   "cell_type": "code",
   "execution_count": 10,
   "id": "bc45d28f",
   "metadata": {
    "scrolled": true
   },
   "outputs": [
    {
     "data": {
      "text/html": [
       "<div>\n",
       "<style scoped>\n",
       "    .dataframe tbody tr th:only-of-type {\n",
       "        vertical-align: middle;\n",
       "    }\n",
       "\n",
       "    .dataframe tbody tr th {\n",
       "        vertical-align: top;\n",
       "    }\n",
       "\n",
       "    .dataframe thead th {\n",
       "        text-align: right;\n",
       "    }\n",
       "</style>\n",
       "<table border=\"1\" class=\"dataframe\">\n",
       "  <thead>\n",
       "    <tr style=\"text-align: right;\">\n",
       "      <th></th>\n",
       "      <th>age</th>\n",
       "      <th>duration</th>\n",
       "      <th>campaign</th>\n",
       "      <th>pdays</th>\n",
       "      <th>previous</th>\n",
       "      <th>cons.conf.idx</th>\n",
       "      <th>emp.var.rate</th>\n",
       "      <th>cons.price.idx</th>\n",
       "      <th>euribor3m</th>\n",
       "      <th>nr.employed</th>\n",
       "    </tr>\n",
       "  </thead>\n",
       "  <tbody>\n",
       "    <tr>\n",
       "      <th>count</th>\n",
       "      <td>4119.000000</td>\n",
       "      <td>4119.000000</td>\n",
       "      <td>4119.000000</td>\n",
       "      <td>4119.000000</td>\n",
       "      <td>4119.000000</td>\n",
       "      <td>4119.000000</td>\n",
       "      <td>1735.000000</td>\n",
       "      <td>3733.000000</td>\n",
       "      <td>3898.000000</td>\n",
       "      <td>758.0</td>\n",
       "    </tr>\n",
       "    <tr>\n",
       "      <th>mean</th>\n",
       "      <td>40.113620</td>\n",
       "      <td>256.788055</td>\n",
       "      <td>2.537266</td>\n",
       "      <td>960.422190</td>\n",
       "      <td>0.190337</td>\n",
       "      <td>-40.499102</td>\n",
       "      <td>-1.590893</td>\n",
       "      <td>93618.966515</td>\n",
       "      <td>3352.500785</td>\n",
       "      <td>5191.0</td>\n",
       "    </tr>\n",
       "    <tr>\n",
       "      <th>std</th>\n",
       "      <td>10.313362</td>\n",
       "      <td>254.703736</td>\n",
       "      <td>2.568159</td>\n",
       "      <td>191.922786</td>\n",
       "      <td>0.541788</td>\n",
       "      <td>4.594578</td>\n",
       "      <td>0.959394</td>\n",
       "      <td>594.900642</td>\n",
       "      <td>2008.073121</td>\n",
       "      <td>0.0</td>\n",
       "    </tr>\n",
       "    <tr>\n",
       "      <th>min</th>\n",
       "      <td>18.000000</td>\n",
       "      <td>0.000000</td>\n",
       "      <td>1.000000</td>\n",
       "      <td>0.000000</td>\n",
       "      <td>0.000000</td>\n",
       "      <td>-50.800000</td>\n",
       "      <td>-3.400000</td>\n",
       "      <td>92201.000000</td>\n",
       "      <td>0.044444</td>\n",
       "      <td>5191.0</td>\n",
       "    </tr>\n",
       "    <tr>\n",
       "      <th>25%</th>\n",
       "      <td>32.000000</td>\n",
       "      <td>103.000000</td>\n",
       "      <td>1.000000</td>\n",
       "      <td>999.000000</td>\n",
       "      <td>0.000000</td>\n",
       "      <td>-42.700000</td>\n",
       "      <td>-1.800000</td>\n",
       "      <td>93075.000000</td>\n",
       "      <td>1299.000000</td>\n",
       "      <td>5191.0</td>\n",
       "    </tr>\n",
       "    <tr>\n",
       "      <th>50%</th>\n",
       "      <td>38.000000</td>\n",
       "      <td>181.000000</td>\n",
       "      <td>2.000000</td>\n",
       "      <td>999.000000</td>\n",
       "      <td>0.000000</td>\n",
       "      <td>-41.800000</td>\n",
       "      <td>-1.800000</td>\n",
       "      <td>93918.000000</td>\n",
       "      <td>4857.000000</td>\n",
       "      <td>5191.0</td>\n",
       "    </tr>\n",
       "    <tr>\n",
       "      <th>75%</th>\n",
       "      <td>47.000000</td>\n",
       "      <td>317.000000</td>\n",
       "      <td>3.000000</td>\n",
       "      <td>999.000000</td>\n",
       "      <td>0.000000</td>\n",
       "      <td>-36.400000</td>\n",
       "      <td>-1.100000</td>\n",
       "      <td>93994.000000</td>\n",
       "      <td>4961.000000</td>\n",
       "      <td>5191.0</td>\n",
       "    </tr>\n",
       "    <tr>\n",
       "      <th>max</th>\n",
       "      <td>88.000000</td>\n",
       "      <td>3643.000000</td>\n",
       "      <td>35.000000</td>\n",
       "      <td>999.000000</td>\n",
       "      <td>6.000000</td>\n",
       "      <td>-26.900000</td>\n",
       "      <td>-0.100000</td>\n",
       "      <td>94767.000000</td>\n",
       "      <td>5045.000000</td>\n",
       "      <td>5191.0</td>\n",
       "    </tr>\n",
       "  </tbody>\n",
       "</table>\n",
       "</div>"
      ],
      "text/plain": [
       "               age     duration     campaign        pdays     previous  \\\n",
       "count  4119.000000  4119.000000  4119.000000  4119.000000  4119.000000   \n",
       "mean     40.113620   256.788055     2.537266   960.422190     0.190337   \n",
       "std      10.313362   254.703736     2.568159   191.922786     0.541788   \n",
       "min      18.000000     0.000000     1.000000     0.000000     0.000000   \n",
       "25%      32.000000   103.000000     1.000000   999.000000     0.000000   \n",
       "50%      38.000000   181.000000     2.000000   999.000000     0.000000   \n",
       "75%      47.000000   317.000000     3.000000   999.000000     0.000000   \n",
       "max      88.000000  3643.000000    35.000000   999.000000     6.000000   \n",
       "\n",
       "       cons.conf.idx  emp.var.rate  cons.price.idx    euribor3m  nr.employed  \n",
       "count    4119.000000   1735.000000     3733.000000  3898.000000        758.0  \n",
       "mean      -40.499102     -1.590893    93618.966515  3352.500785       5191.0  \n",
       "std         4.594578      0.959394      594.900642  2008.073121          0.0  \n",
       "min       -50.800000     -3.400000    92201.000000     0.044444       5191.0  \n",
       "25%       -42.700000     -1.800000    93075.000000  1299.000000       5191.0  \n",
       "50%       -41.800000     -1.800000    93918.000000  4857.000000       5191.0  \n",
       "75%       -36.400000     -1.100000    93994.000000  4961.000000       5191.0  \n",
       "max       -26.900000     -0.100000    94767.000000  5045.000000       5191.0  "
      ]
     },
     "execution_count": 10,
     "metadata": {},
     "output_type": "execute_result"
    }
   ],
   "source": [
    "data[numerical].describe()"
   ]
  },
  {
   "cell_type": "markdown",
   "id": "4c2896da",
   "metadata": {},
   "source": [
    "----"
   ]
  },
  {
   "cell_type": "markdown",
   "id": "c28873de",
   "metadata": {},
   "source": [
    "Visualisasi data untuk melihat distribusi umur nasabah dan non-nasabah"
   ]
  },
  {
   "cell_type": "markdown",
   "id": "d736a57b",
   "metadata": {},
   "source": [
    "# DATA CLEANING"
   ]
  },
  {
   "cell_type": "markdown",
   "id": "862d8e63",
   "metadata": {},
   "source": [
    "Perlu dicaritahu lebih dahulu apakah ada missng data atau tidak."
   ]
  },
  {
   "cell_type": "code",
   "execution_count": 11,
   "id": "4c57789c",
   "metadata": {},
   "outputs": [
    {
     "data": {
      "text/plain": [
       "Index(['age', 'job', 'marital', 'education', 'default', 'housing', 'loan',\n",
       "       'contact', 'month', 'day_of_week', 'duration', 'campaign', 'pdays',\n",
       "       'previous', 'poutcome', 'emp.var.rate', 'cons.price.idx',\n",
       "       'cons.conf.idx', 'euribor3m', 'nr.employed', 'y'],\n",
       "      dtype='object')"
      ]
     },
     "execution_count": 11,
     "metadata": {},
     "output_type": "execute_result"
    }
   ],
   "source": [
    "data.columns"
   ]
  },
  {
   "cell_type": "code",
   "execution_count": 12,
   "id": "d5de4e30",
   "metadata": {},
   "outputs": [
    {
     "name": "stdout",
     "output_type": "stream",
     "text": [
      "job 12\n",
      "marital 4\n",
      "education 8\n",
      "default 3\n",
      "housing 3\n",
      "loan 3\n",
      "contact 2\n",
      "month 10\n",
      "day_of_week 5\n",
      "poutcome 3\n",
      "y 2\n"
     ]
    }
   ],
   "source": [
    "for col in data.columns:\n",
    "    if data[col].dtype == 'object':\n",
    "        print(col, data[col].nunique())"
   ]
  },
  {
   "cell_type": "code",
   "execution_count": 13,
   "id": "2b401787",
   "metadata": {
    "scrolled": false
   },
   "outputs": [
    {
     "data": {
      "text/plain": [
       "age                  0\n",
       "job                  0\n",
       "marital              0\n",
       "education            0\n",
       "default              0\n",
       "housing              0\n",
       "loan                 0\n",
       "contact              0\n",
       "month                0\n",
       "day_of_week          0\n",
       "duration             0\n",
       "campaign             0\n",
       "pdays                0\n",
       "previous             0\n",
       "poutcome             0\n",
       "emp.var.rate      2384\n",
       "cons.price.idx     386\n",
       "cons.conf.idx        0\n",
       "euribor3m          221\n",
       "nr.employed       3361\n",
       "y                    0\n",
       "dtype: int64"
      ]
     },
     "execution_count": 13,
     "metadata": {},
     "output_type": "execute_result"
    }
   ],
   "source": [
    "data.isnull().sum()"
   ]
  },
  {
   "cell_type": "markdown",
   "id": "3a8fedf4",
   "metadata": {},
   "source": [
    "Masih ada nilai 'NaN' yang harus diisi dengan suatu nilai. Kita akan isi 'NaN' dengan nilai mean."
   ]
  },
  {
   "cell_type": "code",
   "execution_count": 14,
   "id": "663b80ac",
   "metadata": {},
   "outputs": [],
   "source": [
    "data_NaN = ['emp.var.rate','cons.price.idx','euribor3m','nr.employed']\n",
    "\n",
    "for col in data_NaN:\n",
    "    data[col] = data[col].fillna(data[col].mean())"
   ]
  },
  {
   "cell_type": "code",
   "execution_count": 15,
   "id": "ad8d0b12",
   "metadata": {},
   "outputs": [
    {
     "data": {
      "text/plain": [
       "age               0\n",
       "job               0\n",
       "marital           0\n",
       "education         0\n",
       "default           0\n",
       "housing           0\n",
       "loan              0\n",
       "contact           0\n",
       "month             0\n",
       "day_of_week       0\n",
       "duration          0\n",
       "campaign          0\n",
       "pdays             0\n",
       "previous          0\n",
       "poutcome          0\n",
       "emp.var.rate      0\n",
       "cons.price.idx    0\n",
       "cons.conf.idx     0\n",
       "euribor3m         0\n",
       "nr.employed       0\n",
       "y                 0\n",
       "dtype: int64"
      ]
     },
     "execution_count": 15,
     "metadata": {},
     "output_type": "execute_result"
    }
   ],
   "source": [
    "data.isnull().sum()"
   ]
  },
  {
   "cell_type": "markdown",
   "id": "564e9a40",
   "metadata": {},
   "source": [
    "Semua 'NaN' telah diisi dengan nilai mean dari masing-masing kolom."
   ]
  },
  {
   "cell_type": "markdown",
   "id": "0a2f39af",
   "metadata": {},
   "source": [
    "---"
   ]
  },
  {
   "cell_type": "markdown",
   "id": "06298063",
   "metadata": {},
   "source": [
    "# DATA VISUALIZATION"
   ]
  },
  {
   "cell_type": "code",
   "execution_count": 16,
   "id": "c643418e",
   "metadata": {},
   "outputs": [
    {
     "data": {
      "image/png": "[encoded data removed]",
      "text/plain": [
       "<Figure size 720x432 with 1 Axes>"
      ]
     },
     "metadata": {
      "needs_background": "light"
     },
     "output_type": "display_data"
    },
    {
     "name": "stdout",
     "output_type": "stream",
     "text": [
      "Remark:\n",
      "Grafik di atas menunjukan distribusi nasabah dan non-nasabah berdasarkan umur. Terlihat nasabah deposito didominasi umur produktif. Klien pada rentang umur 30-40 tahun cukup banyak\n"
     ]
    }
   ],
   "source": [
    "plt.figure(figsize=(10,6))\n",
    "\n",
    "hue_order = ['yes','no']\n",
    "sns.histplot(data=data, x=data['age'],\n",
    "             multiple='layer',hue=data['y'],hue_order=hue_order, palette='seismic')\n",
    "\n",
    "plt.title('Distribusi nasabah dan non-nasabah deposito berdasarkan umur',fontsize=15)\n",
    "plt.xlabel('Umur', fontsize=15)\n",
    "plt.ylabel('Jumlah', fontsize=15)\n",
    "plt.show()\n",
    "\n",
    "print('Remark:')\n",
    "print('Grafik di atas menunjukan distribusi nasabah dan non-nasabah berdasarkan umur. Terlihat nasabah deposito didominasi umur produktif. Klien pada rentang umur 30-40 tahun cukup banyak')\n",
    "\n"
   ]
  },
  {
   "cell_type": "code",
   "execution_count": 17,
   "id": "dfb67569",
   "metadata": {
    "scrolled": false
   },
   "outputs": [
    {
     "data": {
      "image/png": "[encoded data removed]",
      "text/plain": [
       "<Figure size 576x432 with 1 Axes>"
      ]
     },
     "metadata": {
      "needs_background": "light"
     },
     "output_type": "display_data"
    },
    {
     "name": "stdout",
     "output_type": "stream",
     "text": [
      "Remark:\n",
      "Dengan semakin besar campaign, maka semakin besar juga potensi calon klien menjadi nasabah deposito\n"
     ]
    }
   ],
   "source": [
    "plt.figure(figsize=(8,6))\n",
    "\n",
    "hue_order = ['yes','no']\n",
    "sns.histplot(data=data, x=data['campaign'],\n",
    "             multiple='layer',hue=data['y'],hue_order=hue_order, palette='magma')\n",
    "\n",
    "plt.title('Distribusi nasabah dan non-nasabah deposito berdasarkan umur',fontsize=15)\n",
    "plt.xlabel('Campaign', fontsize=15)\n",
    "plt.ylabel('Jumlah', fontsize=15)\n",
    "plt.show()\n",
    "\n",
    "print('Remark:')\n",
    "print('Dengan semakin besar campaign, maka semakin besar juga potensi calon klien menjadi nasabah deposito')"
   ]
  },
  {
   "cell_type": "code",
   "execution_count": 18,
   "id": "276a9c04",
   "metadata": {},
   "outputs": [
    {
     "data": {
      "image/png": "[encoded data removed]",
      "text/plain": [
       "<Figure size 576x432 with 1 Axes>"
      ]
     },
     "metadata": {
      "needs_background": "light"
     },
     "output_type": "display_data"
    },
    {
     "name": "stdout",
     "output_type": "stream",
     "text": [
      "Remark:\n",
      "Dari grafik diatas, cicilan KPR tidak terlalu mempengaruhi klien untuk menjadi nasabah deposito atau tidak.\n"
     ]
    }
   ],
   "source": [
    "plt.figure(figsize=(8,6))\n",
    "\n",
    "hue_order = ['yes','no']\n",
    "sns.histplot(data=data, x=data['housing'],\n",
    "             multiple='layer',hue=data['y'],hue_order=hue_order,palette='seismic')\n",
    "\n",
    "plt.title('Distribusi nasabah dan non-nasabah deposito berdasarkan umur',fontsize=15)\n",
    "plt.xlabel('Cicilan KPR', fontsize=15)\n",
    "plt.ylabel('Jumlah', fontsize=15)\n",
    "plt.show()\n",
    "\n",
    "print('Remark:')\n",
    "print('Dari grafik diatas, cicilan KPR tidak terlalu mempengaruhi klien untuk menjadi nasabah deposito atau tidak.')"
   ]
  },
  {
   "cell_type": "markdown",
   "id": "ddf2bc07",
   "metadata": {},
   "source": [
    "# DATA PREPROCESING"
   ]
  },
  {
   "cell_type": "markdown",
   "id": "1cbb59ab",
   "metadata": {},
   "source": [
    "Encoding data categorical:"
   ]
  },
  {
   "cell_type": "code",
   "execution_count": 19,
   "id": "149db857",
   "metadata": {},
   "outputs": [],
   "source": [
    "from sklearn .preprocessing import LabelEncoder\n",
    "\n",
    "le = LabelEncoder()\n",
    "\n",
    "for col in data.columns:\n",
    "    if data[col].dtype == 'object':\n",
    "        data[col]=le.fit_transform(data[col])"
   ]
  },
  {
   "cell_type": "markdown",
   "id": "7fa8de6f",
   "metadata": {},
   "source": [
    "Scaling data set:"
   ]
  },
  {
   "cell_type": "code",
   "execution_count": 20,
   "id": "71b6727b",
   "metadata": {},
   "outputs": [],
   "source": [
    "from sklearn.preprocessing import StandardScaler\n",
    "\n",
    "scaler = StandardScaler()\n",
    "\n",
    "X = data.drop(['y'],axis=1)\n",
    "y = data['y']\n",
    "\n",
    "data = scaler.fit_transform(X)"
   ]
  },
  {
   "cell_type": "markdown",
   "id": "b6ca23ab",
   "metadata": {},
   "source": [
    "Split dataset menjadi data train dan data test:"
   ]
  },
  {
   "cell_type": "code",
   "execution_count": 21,
   "id": "1d848dbd",
   "metadata": {},
   "outputs": [],
   "source": [
    "from sklearn.model_selection import train_test_split\n",
    "\n",
    "x_train, x_test, y_train, y_test = train_test_split(X, y, test_size=0.2, random_state=0)"
   ]
  },
  {
   "cell_type": "markdown",
   "id": "1d85c3aa",
   "metadata": {},
   "source": [
    "# MODEL"
   ]
  },
  {
   "cell_type": "code",
   "execution_count": 22,
   "id": "81183b2e",
   "metadata": {},
   "outputs": [],
   "source": [
    "#LOGISTIC REGRESSION\n",
    "\n",
    "from sklearn.linear_model import LogisticRegression\n",
    "\n",
    "LR = LogisticRegression(max_iter=300,solver='liblinear')\n",
    "\n",
    "LR.fit(x_train,y_train)\n",
    "y_pred_LR = LR.predict(x_test)"
   ]
  },
  {
   "cell_type": "code",
   "execution_count": 23,
   "id": "d08098b2",
   "metadata": {},
   "outputs": [],
   "source": [
    "#KNN\n",
    "\n",
    "from sklearn.neighbors import KNeighborsClassifier\n",
    "\n",
    "KNN = KNeighborsClassifier(n_neighbors=1)\n",
    "\n",
    "KNN.fit(x_train,y_train)\n",
    "y_pred_KNN = KNN.predict(x_test)"
   ]
  },
  {
   "cell_type": "code",
   "execution_count": 24,
   "id": "67117ad6",
   "metadata": {},
   "outputs": [],
   "source": [
    "#SVM\n",
    "\n",
    "from sklearn.svm import SVC\n",
    "\n",
    "SVM = SVC(max_iter=2000)\n",
    "\n",
    "SVM.fit(x_train,y_train)\n",
    "y_pred_SVM = SVM.predict(x_test)"
   ]
  },
  {
   "cell_type": "code",
   "execution_count": 25,
   "id": "fae41a7c",
   "metadata": {},
   "outputs": [],
   "source": [
    "#Naive Bayes\n",
    "\n",
    "from sklearn.naive_bayes import GaussianNB\n",
    "\n",
    "NB = GaussianNB()\n",
    "\n",
    "NB.fit(x_train,y_train)\n",
    "y_pred_NB = NB.predict(x_test)"
   ]
  },
  {
   "cell_type": "code",
   "execution_count": 26,
   "id": "00aadf30",
   "metadata": {},
   "outputs": [],
   "source": [
    "#Decision Tree\n",
    "\n",
    "from sklearn.tree import DecisionTreeClassifier\n",
    "\n",
    "DT = DecisionTreeClassifier()\n",
    "\n",
    "DT.fit(x_train,y_train)\n",
    "y_pred_DT = DT.predict(x_test)"
   ]
  },
  {
   "cell_type": "code",
   "execution_count": 27,
   "id": "f3c1765f",
   "metadata": {},
   "outputs": [],
   "source": [
    "#Random Forest\n",
    "\n",
    "from sklearn.ensemble import RandomForestClassifier\n",
    "\n",
    "RFC = RandomForestClassifier(n_estimators=200)\n",
    "\n",
    "RFC.fit(x_train,y_train)\n",
    "y_pred_RFC = RFC.predict(x_test)"
   ]
  },
  {
   "cell_type": "markdown",
   "id": "e54accbc",
   "metadata": {},
   "source": [
    "# RESULT"
   ]
  },
  {
   "cell_type": "code",
   "execution_count": 28,
   "id": "37f0f9a6",
   "metadata": {},
   "outputs": [],
   "source": [
    "from sklearn.metrics import classification_report, confusion_matrix, accuracy_score"
   ]
  },
  {
   "cell_type": "markdown",
   "id": "87a47b4d",
   "metadata": {},
   "source": [
    "SCORE / ACCURACY"
   ]
  },
  {
   "cell_type": "code",
   "execution_count": 29,
   "id": "7bae3720",
   "metadata": {
    "scrolled": false
   },
   "outputs": [
    {
     "data": {
      "image/png": "[encoded data removed]",
      "text/plain": [
       "<Figure size 720x360 with 1 Axes>"
      ]
     },
     "metadata": {
      "needs_background": "light"
     },
     "output_type": "display_data"
    },
    {
     "name": "stdout",
     "output_type": "stream",
     "text": [
      "Score Tertinggi =  0.917\n"
     ]
    },
    {
     "data": {
      "text/html": [
       "<div>\n",
       "<style scoped>\n",
       "    .dataframe tbody tr th:only-of-type {\n",
       "        vertical-align: middle;\n",
       "    }\n",
       "\n",
       "    .dataframe tbody tr th {\n",
       "        vertical-align: top;\n",
       "    }\n",
       "\n",
       "    .dataframe thead th {\n",
       "        text-align: right;\n",
       "    }\n",
       "</style>\n",
       "<table border=\"1\" class=\"dataframe\">\n",
       "  <thead>\n",
       "    <tr style=\"text-align: right;\">\n",
       "      <th></th>\n",
       "      <th>Score</th>\n",
       "    </tr>\n",
       "  </thead>\n",
       "  <tbody>\n",
       "    <tr>\n",
       "      <th>Logistic Reg</th>\n",
       "      <td>0.917476</td>\n",
       "    </tr>\n",
       "    <tr>\n",
       "      <th>Support Vector Machine</th>\n",
       "      <td>0.907767</td>\n",
       "    </tr>\n",
       "    <tr>\n",
       "      <th>Random Forest</th>\n",
       "      <td>0.902913</td>\n",
       "    </tr>\n",
       "    <tr>\n",
       "      <th>K-Nearest Neighbors</th>\n",
       "      <td>0.882282</td>\n",
       "    </tr>\n",
       "    <tr>\n",
       "      <th>Decision Tree</th>\n",
       "      <td>0.868932</td>\n",
       "    </tr>\n",
       "    <tr>\n",
       "      <th>Naive Bayes</th>\n",
       "      <td>0.862864</td>\n",
       "    </tr>\n",
       "  </tbody>\n",
       "</table>\n",
       "</div>"
      ],
      "text/plain": [
       "                           Score\n",
       "Logistic Reg            0.917476\n",
       "Support Vector Machine  0.907767\n",
       "Random Forest           0.902913\n",
       "K-Nearest Neighbors     0.882282\n",
       "Decision Tree           0.868932\n",
       "Naive Bayes             0.862864"
      ]
     },
     "execution_count": 29,
     "metadata": {},
     "output_type": "execute_result"
    }
   ],
   "source": [
    "LR = accuracy_score(y_test, y_pred_LR)\n",
    "KNN = accuracy_score(y_test, y_pred_KNN)\n",
    "SVM = accuracy_score(y_test, y_pred_SVM)\n",
    "NB = accuracy_score(y_test, y_pred_NB)\n",
    "DT = accuracy_score(y_test, y_pred_DT)\n",
    "RFC = accuracy_score(y_test, y_pred_RFC)\n",
    "\n",
    "score = pd.DataFrame([[LR],[KNN],[SVM],[NB],[DT],[RFC]],\n",
    "                     index=['Logistic Reg','K-Nearest Neighbors','Support Vector Machine','Naive Bayes','Decision Tree','Random Forest'])\n",
    "score.columns = ['Score']\n",
    "\n",
    "score = score.sort_values(by=['Score'],axis=0,ascending=False)\n",
    "\n",
    "plt.figure(figsize=(10,5))\n",
    "sns.barplot(y=score.index,x=score['Score'],palette='coolwarm',order=score.index)\n",
    "plt.show()\n",
    "\n",
    "max = round(score.max(0)[0],ndigits=3)\n",
    "print('Score Tertinggi = ', max)\n",
    "score"
   ]
  },
  {
   "cell_type": "code",
   "execution_count": 30,
   "id": "36c6c783",
   "metadata": {},
   "outputs": [
    {
     "name": "stdout",
     "output_type": "stream",
     "text": [
      "Score Terbesar =  [0.91747573]\n"
     ]
    }
   ],
   "source": [
    "max = score.max(0).values\n",
    "print('Score Terbesar = ', max)"
   ]
  },
  {
   "cell_type": "markdown",
   "id": "eed6a308",
   "metadata": {},
   "source": [
    "CLASSIFICATION REPORT & CONFUSION MATRIX"
   ]
  },
  {
   "cell_type": "code",
   "execution_count": 31,
   "id": "25b70a06",
   "metadata": {},
   "outputs": [
    {
     "name": "stdout",
     "output_type": "stream",
     "text": [
      "Confusion Matrix Logistic Regression: \n",
      "\n",
      "[[724  24]\n",
      " [ 44  32]]\n",
      "\n",
      "\n",
      "Classification Report: \n",
      "               precision    recall  f1-score   support\n",
      "\n",
      "           0       0.94      0.97      0.96       748\n",
      "           1       0.57      0.42      0.48        76\n",
      "\n",
      "    accuracy                           0.92       824\n",
      "   macro avg       0.76      0.69      0.72       824\n",
      "weighted avg       0.91      0.92      0.91       824\n",
      "\n"
     ]
    }
   ],
   "source": [
    "print('Confusion Matrix Logistic Regression:',\"\\n\")\n",
    "print(confusion_matrix(y_test,y_pred_LR))\n",
    "\n",
    "print(\"\\n\")\n",
    "\n",
    "print('Classification Report:',\"\\n\",\n",
    "      classification_report(y_test,y_pred_LR))"
   ]
  },
  {
   "cell_type": "code",
   "execution_count": 32,
   "id": "32aad979",
   "metadata": {},
   "outputs": [
    {
     "name": "stdout",
     "output_type": "stream",
     "text": [
      "Confusion Matrix K-Nearest Neighbors: \n",
      "\n",
      "[[696  52]\n",
      " [ 45  31]]\n",
      "\n",
      "\n",
      "Classification Report: \n",
      "               precision    recall  f1-score   support\n",
      "\n",
      "           0       0.94      0.93      0.93       748\n",
      "           1       0.37      0.41      0.39        76\n",
      "\n",
      "    accuracy                           0.88       824\n",
      "   macro avg       0.66      0.67      0.66       824\n",
      "weighted avg       0.89      0.88      0.88       824\n",
      "\n"
     ]
    }
   ],
   "source": [
    "print('Confusion Matrix K-Nearest Neighbors:',\"\\n\")\n",
    "print(confusion_matrix(y_test,y_pred_KNN))\n",
    "\n",
    "print(\"\\n\")\n",
    "\n",
    "print('Classification Report:',\"\\n\",\n",
    "      classification_report(y_test,y_pred_KNN))"
   ]
  },
  {
   "cell_type": "code",
   "execution_count": 33,
   "id": "17757612",
   "metadata": {},
   "outputs": [
    {
     "name": "stdout",
     "output_type": "stream",
     "text": [
      "Confusion Matrix Support Vector Machine: \n",
      "\n",
      "[[748   0]\n",
      " [ 76   0]]\n",
      "\n",
      "\n",
      "Classification Report: \n",
      "               precision    recall  f1-score   support\n",
      "\n",
      "           0       0.91      1.00      0.95       748\n",
      "           1       0.00      0.00      0.00        76\n",
      "\n",
      "    accuracy                           0.91       824\n",
      "   macro avg       0.45      0.50      0.48       824\n",
      "weighted avg       0.82      0.91      0.86       824\n",
      "\n"
     ]
    },
    {
     "name": "stderr",
     "output_type": "stream",
     "text": [
      "/Users/heruhermawan/miniforge3/envs/tf_m1/lib/python3.8/site-packages/sklearn/metrics/_classification.py:1318: UndefinedMetricWarning: Precision and F-score are ill-defined and being set to 0.0 in labels with no predicted samples. Use `zero_division` parameter to control this behavior.\n",
      "  _warn_prf(average, modifier, msg_start, len(result))\n",
      "/Users/heruhermawan/miniforge3/envs/tf_m1/lib/python3.8/site-packages/sklearn/metrics/_classification.py:1318: UndefinedMetricWarning: Precision and F-score are ill-defined and being set to 0.0 in labels with no predicted samples. Use `zero_division` parameter to control this behavior.\n",
      "  _warn_prf(average, modifier, msg_start, len(result))\n",
      "/Users/heruhermawan/miniforge3/envs/tf_m1/lib/python3.8/site-packages/sklearn/metrics/_classification.py:1318: UndefinedMetricWarning: Precision and F-score are ill-defined and being set to 0.0 in labels with no predicted samples. Use `zero_division` parameter to control this behavior.\n",
      "  _warn_prf(average, modifier, msg_start, len(result))\n"
     ]
    }
   ],
   "source": [
    "print('Confusion Matrix Support Vector Machine:',\"\\n\")\n",
    "print(confusion_matrix(y_test,y_pred_SVM))\n",
    "\n",
    "print(\"\\n\")\n",
    "\n",
    "print('Classification Report:',\"\\n\",\n",
    "      classification_report(y_test,y_pred_SVM))"
   ]
  },
  {
   "cell_type": "code",
   "execution_count": 34,
   "id": "309425f2",
   "metadata": {},
   "outputs": [
    {
     "name": "stdout",
     "output_type": "stream",
     "text": [
      "Confusion Matrix Decision Tree: \n",
      "\n",
      "[[679  69]\n",
      " [ 39  37]]\n",
      "\n",
      "\n",
      "Classification Report: \n",
      "               precision    recall  f1-score   support\n",
      "\n",
      "           0       0.95      0.91      0.93       748\n",
      "           1       0.35      0.49      0.41        76\n",
      "\n",
      "    accuracy                           0.87       824\n",
      "   macro avg       0.65      0.70      0.67       824\n",
      "weighted avg       0.89      0.87      0.88       824\n",
      "\n"
     ]
    }
   ],
   "source": [
    "print('Confusion Matrix Decision Tree:',\"\\n\")\n",
    "print(confusion_matrix(y_test,y_pred_DT))\n",
    "\n",
    "print(\"\\n\")\n",
    "\n",
    "print('Classification Report:',\"\\n\",\n",
    "      classification_report(y_test,y_pred_DT))"
   ]
  },
  {
   "cell_type": "code",
   "execution_count": 35,
   "id": "e7760492",
   "metadata": {},
   "outputs": [
    {
     "name": "stdout",
     "output_type": "stream",
     "text": [
      "Confusion Matrix Random Forest: \n",
      "\n",
      "[[713  35]\n",
      " [ 45  31]]\n",
      "\n",
      "\n",
      "Classification Report: \n",
      "               precision    recall  f1-score   support\n",
      "\n",
      "           0       0.94      0.95      0.95       748\n",
      "           1       0.47      0.41      0.44        76\n",
      "\n",
      "    accuracy                           0.90       824\n",
      "   macro avg       0.71      0.68      0.69       824\n",
      "weighted avg       0.90      0.90      0.90       824\n",
      "\n"
     ]
    }
   ],
   "source": [
    "print('Confusion Matrix Random Forest:',\"\\n\")\n",
    "print(confusion_matrix(y_test,y_pred_RFC))\n",
    "\n",
    "print(\"\\n\")\n",
    "\n",
    "print('Classification Report:',\"\\n\",\n",
    "      classification_report(y_test,y_pred_RFC))"
   ]
  },
  {
   "cell_type": "code",
   "execution_count": 36,
   "id": "688f1065",
   "metadata": {},
   "outputs": [
    {
     "name": "stdout",
     "output_type": "stream",
     "text": [
      "Confusion Matrix Naive Bayes: \n",
      "\n",
      "[[673  75]\n",
      " [ 38  38]]\n",
      "\n",
      "\n",
      "Classification Report: \n",
      "               precision    recall  f1-score   support\n",
      "\n",
      "           0       0.95      0.90      0.92       748\n",
      "           1       0.34      0.50      0.40        76\n",
      "\n",
      "    accuracy                           0.86       824\n",
      "   macro avg       0.64      0.70      0.66       824\n",
      "weighted avg       0.89      0.86      0.87       824\n",
      "\n"
     ]
    }
   ],
   "source": [
    "print('Confusion Matrix Naive Bayes:',\"\\n\")\n",
    "print(confusion_matrix(y_test,y_pred_NB))\n",
    "\n",
    "print(\"\\n\")\n",
    "\n",
    "print('Classification Report:',\"\\n\",\n",
    "      classification_report(y_test,y_pred_NB))"
   ]
  },
  {
   "cell_type": "code",
   "execution_count": 37,
   "id": "4d639cd9",
   "metadata": {},
   "outputs": [],
   "source": [
    "#from sklearn.model_selection import GridSearchCV\n",
    "\n",
    "#param_grid = {'C': [0.1,1, 10, 100],\n",
    "#              'gamma': [0.1,0.01,0.001,0.0001],\n",
    "#              'kernel': ['rbf']} \n",
    "\n",
    "#grid = GridSearchCV(SVC(),param_grid,refit=True,verbose=1)\n",
    "\n",
    "\n",
    "#grid.fit(x_train, y_train)\n",
    "\n",
    "#print('Best Grid Param: ',grid.best_params_)\n",
    "#print('Best Grid Estimator : ',grid.best_estimator_)\n",
    "\n",
    "#grid_pred = grid.predict(x_test)"
   ]
  },
  {
   "cell_type": "code",
   "execution_count": 38,
   "id": "c0a308c7",
   "metadata": {},
   "outputs": [],
   "source": [
    "#print(confusion_matrix(y_test,grid_pred))\n",
    "#print(classification_report(y_test,grid_pred))\n",
    "#print(accuracy_score(y_test,grid_pred))"
   ]
  },
  {
   "cell_type": "markdown",
   "id": "46f4e68d",
   "metadata": {},
   "source": [
    "# CONCLUSION"
   ]
  },
  {
   "cell_type": "code",
   "execution_count": 39,
   "id": "517165a9",
   "metadata": {},
   "outputs": [
    {
     "name": "stdout",
     "output_type": "stream",
     "text": [
      "Score Tertinggi =  0.9174757281553398\n"
     ]
    }
   ],
   "source": [
    "max = score.max(0)[0]\n",
    "print('Score Tertinggi = ', max)"
   ]
  },
  {
   "cell_type": "markdown",
   "id": "90ed6dc8",
   "metadata": {},
   "source": [
    "Dari hasil pembuatan model di atas, Algoritma terbaik dengan score accuracy tertinggi adalah LOGISTIC REGRESSION."
   ]
  },
  {
   "cell_type": "markdown",
   "id": "2fb1b57b",
   "metadata": {},
   "source": [
    "Kemudian, model tersebut digunakan pada dataset \"bank-additional-full.xlsx\""
   ]
  },
  {
   "cell_type": "code",
   "execution_count": 40,
   "id": "ca71a7e4",
   "metadata": {},
   "outputs": [
    {
     "name": "stdout",
     "output_type": "stream",
     "text": [
      "job 12\n",
      "marital 4\n",
      "education 8\n",
      "default 3\n",
      "housing 3\n",
      "loan 3\n",
      "contact 2\n",
      "month 10\n",
      "day_of_week 5\n",
      "poutcome 3\n",
      "y 2\n"
     ]
    },
    {
     "name": "stderr",
     "output_type": "stream",
     "text": [
      "/Users/heruhermawan/miniforge3/envs/tf_m1/lib/python3.8/site-packages/sklearn/svm/_base.py:284: ConvergenceWarning: Solver terminated early (max_iter=2000).  Consider pre-processing your data with StandardScaler or MinMaxScaler.\n",
      "  warnings.warn(\n"
     ]
    },
    {
     "data": {
      "image/png": "[encoded data removed]",
      "text/plain": [
       "<Figure size 720x360 with 1 Axes>"
      ]
     },
     "metadata": {
      "needs_background": "light"
     },
     "output_type": "display_data"
    },
    {
     "name": "stdout",
     "output_type": "stream",
     "text": [
      "Score Tertinggi =  0.919\n"
     ]
    },
    {
     "data": {
      "text/html": [
       "<div>\n",
       "<style scoped>\n",
       "    .dataframe tbody tr th:only-of-type {\n",
       "        vertical-align: middle;\n",
       "    }\n",
       "\n",
       "    .dataframe tbody tr th {\n",
       "        vertical-align: top;\n",
       "    }\n",
       "\n",
       "    .dataframe thead th {\n",
       "        text-align: right;\n",
       "    }\n",
       "</style>\n",
       "<table border=\"1\" class=\"dataframe\">\n",
       "  <thead>\n",
       "    <tr style=\"text-align: right;\">\n",
       "      <th></th>\n",
       "      <th>Score</th>\n",
       "    </tr>\n",
       "  </thead>\n",
       "  <tbody>\n",
       "    <tr>\n",
       "      <th>Random Forest</th>\n",
       "      <td>0.919034</td>\n",
       "    </tr>\n",
       "    <tr>\n",
       "      <th>Logistic Reg</th>\n",
       "      <td>0.909444</td>\n",
       "    </tr>\n",
       "    <tr>\n",
       "      <th>K-Nearest Neighbors</th>\n",
       "      <td>0.895120</td>\n",
       "    </tr>\n",
       "    <tr>\n",
       "      <th>Decision Tree</th>\n",
       "      <td>0.891357</td>\n",
       "    </tr>\n",
       "    <tr>\n",
       "      <th>Naive Bayes</th>\n",
       "      <td>0.859068</td>\n",
       "    </tr>\n",
       "    <tr>\n",
       "      <th>Support Vector Machine</th>\n",
       "      <td>0.690459</td>\n",
       "    </tr>\n",
       "  </tbody>\n",
       "</table>\n",
       "</div>"
      ],
      "text/plain": [
       "                           Score\n",
       "Random Forest           0.919034\n",
       "Logistic Reg            0.909444\n",
       "K-Nearest Neighbors     0.895120\n",
       "Decision Tree           0.891357\n",
       "Naive Bayes             0.859068\n",
       "Support Vector Machine  0.690459"
      ]
     },
     "execution_count": 40,
     "metadata": {},
     "output_type": "execute_result"
    }
   ],
   "source": [
    "#Import dataset\n",
    "\n",
    "data = pd.read_excel('bank-additional-full.xlsx')\n",
    "\n",
    "numerical = list(data.select_dtypes(include=['int64']).columns.values) + list(data.select_dtypes(include=['float64']).columns.values)\n",
    "categorical = list(data.select_dtypes(include=['object']))\n",
    "\n",
    "\n",
    "numeric = ['emp.var.rate','cons.price.idx','euribor3m','nr.employed']\n",
    "for col in numeric:\n",
    "    data[col] = pd.to_numeric(data[col], errors='coerce')\n",
    "\n",
    "numerical = numerical + numeric\n",
    "\n",
    "for col in data.columns:\n",
    "    if data[col].dtype == 'object':\n",
    "        print(col, data[col].nunique())\n",
    "\n",
    "data_NaN = ['emp.var.rate','cons.price.idx','euribor3m','nr.employed']\n",
    "\n",
    "for col in data_NaN:\n",
    "    data[col] = data[col].fillna(data[col].mean())\n",
    "\n",
    "\n",
    "le = LabelEncoder()\n",
    "\n",
    "for col in data.columns:\n",
    "    if data[col].dtype == 'object':\n",
    "        data[col]=le.fit_transform(data[col])\n",
    "\n",
    "scaler = StandardScaler()\n",
    "\n",
    "X = data.drop(['y'],axis=1)\n",
    "y = data['y']\n",
    "\n",
    "data = scaler.fit_transform(X)\n",
    "\n",
    "x_train, x_test, y_train, y_test = train_test_split(X, y, test_size=0.2, random_state=0)\n",
    "\n",
    "LR = LogisticRegression(max_iter=300,solver='liblinear')\n",
    "LR.fit(x_train,y_train)\n",
    "y_pred_LR = LR.predict(x_test)\n",
    "\n",
    "KNN = KNeighborsClassifier(n_neighbors=1)\n",
    "KNN.fit(x_train,y_train)\n",
    "y_pred_KNN = KNN.predict(x_test)\n",
    "\n",
    "SVM = SVC(max_iter=2000)\n",
    "SVM.fit(x_train,y_train)\n",
    "y_pred_SVM = SVM.predict(x_test)\n",
    "\n",
    "NB = GaussianNB()\n",
    "NB.fit(x_train,y_train)\n",
    "y_pred_NB = NB.predict(x_test)\n",
    "\n",
    "DT = DecisionTreeClassifier()\n",
    "DT.fit(x_train,y_train)\n",
    "y_pred_DT = DT.predict(x_test)\n",
    "\n",
    "RFC = RandomForestClassifier(n_estimators=100)\n",
    "RFC.fit(x_train,y_train)\n",
    "y_pred_RFC = RFC.predict(x_test)\n",
    "\n",
    "#Visualisasi\n",
    "\n",
    "LR = accuracy_score(y_test, y_pred_LR)\n",
    "KNN = accuracy_score(y_test, y_pred_KNN)\n",
    "SVM = accuracy_score(y_test, y_pred_SVM)\n",
    "NB = accuracy_score(y_test, y_pred_NB)\n",
    "DT = accuracy_score(y_test, y_pred_DT)\n",
    "RFC = accuracy_score(y_test, y_pred_RFC)\n",
    "\n",
    "score = pd.DataFrame([[LR],[KNN],[SVM],[NB],[DT],[RFC]],\n",
    "                     index=['Logistic Reg','K-Nearest Neighbors','Support Vector Machine','Naive Bayes','Decision Tree','Random Forest'])\n",
    "score.columns = ['Score']\n",
    "\n",
    "score = score.sort_values(by=['Score'],axis=0,ascending=False)\n",
    "\n",
    "plt.figure(figsize=(10,5))\n",
    "sns.barplot(y=score.index,x=score['Score'],palette='coolwarm',order=score.index)\n",
    "plt.show()\n",
    "\n",
    "max = round(score.max(0)[0],ndigits=3)\n",
    "print('Score Tertinggi = ', max)\n",
    "score"
   ]
  },
  {
   "cell_type": "code",
   "execution_count": 41,
   "id": "973a4e0a",
   "metadata": {},
   "outputs": [
    {
     "name": "stdout",
     "output_type": "stream",
     "text": [
      "Score=  0.919\n",
      "\n",
      "\n",
      "Confusion Matrix:  \n",
      " [[7078  241]\n",
      " [ 426  493]]\n",
      "\n",
      "\n",
      "Classification Report:  \n",
      "               precision    recall  f1-score   support\n",
      "\n",
      "           0       0.94      0.97      0.96      7319\n",
      "           1       0.67      0.54      0.60       919\n",
      "\n",
      "    accuracy                           0.92      8238\n",
      "   macro avg       0.81      0.75      0.78      8238\n",
      "weighted avg       0.91      0.92      0.92      8238\n",
      "\n"
     ]
    }
   ],
   "source": [
    "print('Score= ', round(RFC,ndigits=3))\n",
    "print('\\n')\n",
    "print('Confusion Matrix: ','\\n', confusion_matrix(y_test, y_pred_RFC))\n",
    "print('\\n')\n",
    "print('Classification Report: ','\\n', classification_report(y_test, y_pred_RFC))"
   ]
  },
  {
   "cell_type": "markdown",
   "id": "2d25c956",
   "metadata": {},
   "source": [
    "Kemudian, model tersebut digunakan pada dataset \"bank-full.xlsx\""
   ]
  },
  {
   "cell_type": "code",
   "execution_count": 42,
   "id": "ffc575b4",
   "metadata": {},
   "outputs": [
    {
     "name": "stderr",
     "output_type": "stream",
     "text": [
      "/Users/heruhermawan/miniforge3/envs/tf_m1/lib/python3.8/site-packages/sklearn/svm/_base.py:284: ConvergenceWarning: Solver terminated early (max_iter=2000).  Consider pre-processing your data with StandardScaler or MinMaxScaler.\n",
      "  warnings.warn(\n"
     ]
    },
    {
     "data": {
      "image/png": "[encoded data removed]",
      "text/plain": [
       "<Figure size 720x360 with 1 Axes>"
      ]
     },
     "metadata": {
      "needs_background": "light"
     },
     "output_type": "display_data"
    },
    {
     "name": "stdout",
     "output_type": "stream",
     "text": [
      "Score Tertinggi =  0.901\n"
     ]
    },
    {
     "data": {
      "text/html": [
       "<div>\n",
       "<style scoped>\n",
       "    .dataframe tbody tr th:only-of-type {\n",
       "        vertical-align: middle;\n",
       "    }\n",
       "\n",
       "    .dataframe tbody tr th {\n",
       "        vertical-align: top;\n",
       "    }\n",
       "\n",
       "    .dataframe thead th {\n",
       "        text-align: right;\n",
       "    }\n",
       "</style>\n",
       "<table border=\"1\" class=\"dataframe\">\n",
       "  <thead>\n",
       "    <tr style=\"text-align: right;\">\n",
       "      <th></th>\n",
       "      <th>Score</th>\n",
       "    </tr>\n",
       "  </thead>\n",
       "  <tbody>\n",
       "    <tr>\n",
       "      <th>Random Forest</th>\n",
       "      <td>0.901250</td>\n",
       "    </tr>\n",
       "    <tr>\n",
       "      <th>Logistic Reg</th>\n",
       "      <td>0.888201</td>\n",
       "    </tr>\n",
       "    <tr>\n",
       "      <th>Decision Tree</th>\n",
       "      <td>0.868959</td>\n",
       "    </tr>\n",
       "    <tr>\n",
       "      <th>K-Nearest Neighbors</th>\n",
       "      <td>0.851156</td>\n",
       "    </tr>\n",
       "    <tr>\n",
       "      <th>Naive Bayes</th>\n",
       "      <td>0.841203</td>\n",
       "    </tr>\n",
       "    <tr>\n",
       "      <th>Support Vector Machine</th>\n",
       "      <td>0.179808</td>\n",
       "    </tr>\n",
       "  </tbody>\n",
       "</table>\n",
       "</div>"
      ],
      "text/plain": [
       "                           Score\n",
       "Random Forest           0.901250\n",
       "Logistic Reg            0.888201\n",
       "Decision Tree           0.868959\n",
       "K-Nearest Neighbors     0.851156\n",
       "Naive Bayes             0.841203\n",
       "Support Vector Machine  0.179808"
      ]
     },
     "execution_count": 42,
     "metadata": {},
     "output_type": "execute_result"
    }
   ],
   "source": [
    "#Import dataset\n",
    "\n",
    "data = pd.read_excel('bank-full.xlsx')\n",
    "\n",
    "numerical = list(data.select_dtypes(include=['int64']).columns.values) + list(data.select_dtypes(include=['float64']).columns.values)\n",
    "categorical = list(data.select_dtypes(include=['object']))\n",
    "\n",
    "#numeric = ['emp.var.rate','cons.price.idx','euribor3m','nr.employed']\n",
    "#for col in numeric:\n",
    "#    data[col] = pd.to_numeric(data[col], errors='coerce')\n",
    "\n",
    "#numerical = numerical + numeric\n",
    "\n",
    "#data_NaN = ['emp.var.rate','cons.price.idx','euribor3m','nr.employed']\n",
    "\n",
    "#for col in data_NaN:\n",
    "#    data[col] = data[col].fillna(data[col].mean())\n",
    "\n",
    "\n",
    "le = LabelEncoder()\n",
    "\n",
    "for col in data.columns:\n",
    "    if data[col].dtype == 'object':\n",
    "        data[col]=le.fit_transform(data[col])\n",
    "\n",
    "scaler = StandardScaler()\n",
    "\n",
    "X = data.drop(['y'],axis=1)\n",
    "y = data['y']\n",
    "\n",
    "data = scaler.fit_transform(X)\n",
    "\n",
    "x_train, x_test, y_train, y_test = train_test_split(X, y, test_size=0.2, random_state=0)\n",
    "\n",
    "LR = LogisticRegression(max_iter=300,solver='liblinear')\n",
    "LR.fit(x_train,y_train)\n",
    "y_pred_LR = LR.predict(x_test)\n",
    "\n",
    "KNN = KNeighborsClassifier(n_neighbors=1)\n",
    "KNN.fit(x_train,y_train)\n",
    "y_pred_KNN = KNN.predict(x_test)\n",
    "\n",
    "SVM = SVC(max_iter=2000)\n",
    "SVM.fit(x_train,y_train)\n",
    "y_pred_SVM = SVM.predict(x_test)\n",
    "\n",
    "NB = GaussianNB()\n",
    "NB.fit(x_train,y_train)\n",
    "y_pred_NB = NB.predict(x_test)\n",
    "\n",
    "DT = DecisionTreeClassifier()\n",
    "DT.fit(x_train,y_train)\n",
    "y_pred_DT = DT.predict(x_test)\n",
    "\n",
    "RFC = RandomForestClassifier(n_estimators=100)\n",
    "RFC.fit(x_train,y_train)\n",
    "y_pred_RFC = RFC.predict(x_test)\n",
    "\n",
    "#Visualisasi\n",
    "\n",
    "LR = accuracy_score(y_test, y_pred_LR)\n",
    "KNN = accuracy_score(y_test, y_pred_KNN)\n",
    "SVM = accuracy_score(y_test, y_pred_SVM)\n",
    "NB = accuracy_score(y_test, y_pred_NB)\n",
    "DT = accuracy_score(y_test, y_pred_DT)\n",
    "RFC = accuracy_score(y_test, y_pred_RFC)\n",
    "\n",
    "score = pd.DataFrame([[LR],[KNN],[SVM],[NB],[DT],[RFC]],\n",
    "                     index=['Logistic Reg','K-Nearest Neighbors','Support Vector Machine','Naive Bayes','Decision Tree','Random Forest'])\n",
    "score.columns = ['Score']\n",
    "\n",
    "score = score.sort_values(by=['Score'],axis=0,ascending=False)\n",
    "\n",
    "plt.figure(figsize=(10,5))\n",
    "sns.barplot(y=score.index,x=score['Score'],palette='coolwarm',order=score.index)\n",
    "plt.show()\n",
    "\n",
    "max = round(score.max(0)[0],ndigits=3)\n",
    "print('Score Tertinggi = ', max)\n",
    "score"
   ]
  },
  {
   "cell_type": "code",
   "execution_count": 43,
   "id": "cb6857a0",
   "metadata": {},
   "outputs": [
    {
     "data": {
      "text/html": [
       "<div>\n",
       "<style scoped>\n",
       "    .dataframe tbody tr th:only-of-type {\n",
       "        vertical-align: middle;\n",
       "    }\n",
       "\n",
       "    .dataframe tbody tr th {\n",
       "        vertical-align: top;\n",
       "    }\n",
       "\n",
       "    .dataframe thead th {\n",
       "        text-align: right;\n",
       "    }\n",
       "</style>\n",
       "<table border=\"1\" class=\"dataframe\">\n",
       "  <thead>\n",
       "    <tr style=\"text-align: right;\">\n",
       "      <th></th>\n",
       "      <th>age</th>\n",
       "      <th>job</th>\n",
       "      <th>marital</th>\n",
       "      <th>education</th>\n",
       "      <th>default</th>\n",
       "      <th>balance</th>\n",
       "      <th>housing</th>\n",
       "      <th>loan</th>\n",
       "      <th>contact</th>\n",
       "      <th>day</th>\n",
       "      <th>month</th>\n",
       "      <th>duration</th>\n",
       "      <th>campaign</th>\n",
       "      <th>pdays</th>\n",
       "      <th>previous</th>\n",
       "      <th>poutcome</th>\n",
       "      <th>y</th>\n",
       "    </tr>\n",
       "  </thead>\n",
       "  <tbody>\n",
       "    <tr>\n",
       "      <th>0</th>\n",
       "      <td>58</td>\n",
       "      <td>management</td>\n",
       "      <td>married</td>\n",
       "      <td>tertiary</td>\n",
       "      <td>no</td>\n",
       "      <td>2143</td>\n",
       "      <td>yes</td>\n",
       "      <td>no</td>\n",
       "      <td>unknown</td>\n",
       "      <td>5</td>\n",
       "      <td>may</td>\n",
       "      <td>261</td>\n",
       "      <td>1</td>\n",
       "      <td>-1</td>\n",
       "      <td>0</td>\n",
       "      <td>unknown</td>\n",
       "      <td>no</td>\n",
       "    </tr>\n",
       "    <tr>\n",
       "      <th>1</th>\n",
       "      <td>44</td>\n",
       "      <td>technician</td>\n",
       "      <td>single</td>\n",
       "      <td>secondary</td>\n",
       "      <td>no</td>\n",
       "      <td>29</td>\n",
       "      <td>yes</td>\n",
       "      <td>no</td>\n",
       "      <td>unknown</td>\n",
       "      <td>5</td>\n",
       "      <td>may</td>\n",
       "      <td>151</td>\n",
       "      <td>1</td>\n",
       "      <td>-1</td>\n",
       "      <td>0</td>\n",
       "      <td>unknown</td>\n",
       "      <td>no</td>\n",
       "    </tr>\n",
       "    <tr>\n",
       "      <th>2</th>\n",
       "      <td>33</td>\n",
       "      <td>entrepreneur</td>\n",
       "      <td>married</td>\n",
       "      <td>secondary</td>\n",
       "      <td>no</td>\n",
       "      <td>2</td>\n",
       "      <td>yes</td>\n",
       "      <td>yes</td>\n",
       "      <td>unknown</td>\n",
       "      <td>5</td>\n",
       "      <td>may</td>\n",
       "      <td>76</td>\n",
       "      <td>1</td>\n",
       "      <td>-1</td>\n",
       "      <td>0</td>\n",
       "      <td>unknown</td>\n",
       "      <td>no</td>\n",
       "    </tr>\n",
       "    <tr>\n",
       "      <th>3</th>\n",
       "      <td>47</td>\n",
       "      <td>blue-collar</td>\n",
       "      <td>married</td>\n",
       "      <td>unknown</td>\n",
       "      <td>no</td>\n",
       "      <td>1506</td>\n",
       "      <td>yes</td>\n",
       "      <td>no</td>\n",
       "      <td>unknown</td>\n",
       "      <td>5</td>\n",
       "      <td>may</td>\n",
       "      <td>92</td>\n",
       "      <td>1</td>\n",
       "      <td>-1</td>\n",
       "      <td>0</td>\n",
       "      <td>unknown</td>\n",
       "      <td>no</td>\n",
       "    </tr>\n",
       "    <tr>\n",
       "      <th>4</th>\n",
       "      <td>33</td>\n",
       "      <td>unknown</td>\n",
       "      <td>single</td>\n",
       "      <td>unknown</td>\n",
       "      <td>no</td>\n",
       "      <td>1</td>\n",
       "      <td>no</td>\n",
       "      <td>no</td>\n",
       "      <td>unknown</td>\n",
       "      <td>5</td>\n",
       "      <td>may</td>\n",
       "      <td>198</td>\n",
       "      <td>1</td>\n",
       "      <td>-1</td>\n",
       "      <td>0</td>\n",
       "      <td>unknown</td>\n",
       "      <td>no</td>\n",
       "    </tr>\n",
       "  </tbody>\n",
       "</table>\n",
       "</div>"
      ],
      "text/plain": [
       "   age           job  marital  education default  balance housing loan  \\\n",
       "0   58    management  married   tertiary      no     2143     yes   no   \n",
       "1   44    technician   single  secondary      no       29     yes   no   \n",
       "2   33  entrepreneur  married  secondary      no        2     yes  yes   \n",
       "3   47   blue-collar  married    unknown      no     1506     yes   no   \n",
       "4   33       unknown   single    unknown      no        1      no   no   \n",
       "\n",
       "   contact  day month  duration  campaign  pdays  previous poutcome   y  \n",
       "0  unknown    5   may       261         1     -1         0  unknown  no  \n",
       "1  unknown    5   may       151         1     -1         0  unknown  no  \n",
       "2  unknown    5   may        76         1     -1         0  unknown  no  \n",
       "3  unknown    5   may        92         1     -1         0  unknown  no  \n",
       "4  unknown    5   may       198         1     -1         0  unknown  no  "
      ]
     },
     "execution_count": 43,
     "metadata": {},
     "output_type": "execute_result"
    }
   ],
   "source": [
    "data = pd.read_excel('bank-full.xlsx')\n",
    "data.head()"
   ]
  },
  {
   "cell_type": "code",
   "execution_count": 44,
   "id": "d007ac0d",
   "metadata": {
    "scrolled": true
   },
   "outputs": [
    {
     "name": "stdout",
     "output_type": "stream",
     "text": [
      "Score=  0.901\n",
      "\n",
      "\n",
      "Confusion Matrix:  \n",
      " [[7699  281]\n",
      " [ 612  451]]\n",
      "\n",
      "\n",
      "Classification Report:  \n",
      "               precision    recall  f1-score   support\n",
      "\n",
      "           0       0.93      0.96      0.95      7980\n",
      "           1       0.62      0.42      0.50      1063\n",
      "\n",
      "    accuracy                           0.90      9043\n",
      "   macro avg       0.77      0.69      0.72      9043\n",
      "weighted avg       0.89      0.90      0.89      9043\n",
      "\n"
     ]
    }
   ],
   "source": [
    "print('Score= ', round(RFC,ndigits=3))\n",
    "print('\\n')\n",
    "print('Confusion Matrix: ','\\n', confusion_matrix(y_test, y_pred_RFC))\n",
    "print('\\n')\n",
    "print('Classification Report: ','\\n', classification_report(y_test, y_pred_RFC))"
   ]
  },
  {
   "cell_type": "markdown",
   "id": "3fc53ac6",
   "metadata": {},
   "source": [
    "Hasil model algoritma masih sangat baik"
   ]
  }
 ],
 "metadata": {
  "kernelspec": {
   "display_name": "Python 3 (ipykernel)",
   "language": "python",
   "name": "python3"
  },
  "language_info": {
   "codemirror_mode": {
    "name": "ipython",
    "version": 3
   },
   "file_extension": ".py",
   "mimetype": "text/x-python",
   "name": "python",
   "nbconvert_exporter": "python",
   "pygments_lexer": "ipython3",
   "version": "3.8.12"
  }
 },
 "nbformat": 4,
 "nbformat_minor": 5
}
