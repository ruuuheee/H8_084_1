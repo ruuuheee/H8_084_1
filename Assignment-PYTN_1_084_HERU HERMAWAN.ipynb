{
 "cells": [
  {
   "cell_type": "markdown",
   "metadata": {},
   "source": [
    "<img src = \"https://global-uploads.webflow.com/5f0d53c042a9ed6288de7f8d/5f6337ae2cfaa10946ceeb06_Hacktiv8%20logo%20horizontal%2001%20black-p-500.png\" width = 400>\n",
    "<h1 align=center><font size = 5>Hacktiv8 PTP Introduction to Data Science Projects 1 // Publication-Grade Plot</font></h1>"
   ]
  },
  {
   "cell_type": "markdown",
   "metadata": {},
   "source": [
    "Title: Hacktiv8 PTP Introduction to Data Science Projects 1: Publication-Grade Plot\\\n",
    "Last Updated: September 20, 2020\\\n",
    "Author: Raka Ardhi"
   ]
  },
  {
   "cell_type": "markdown",
   "metadata": {},
   "source": [
    "## Publication-grade Plot Introduction\n",
    "\n",
    "The aim of this projects is to introduce you to data visualization with Python as concrete and as consistent as possible. Using what you’ve learned; download the London Crime Dataset from Kaggle. This dataset is a record of crime in major metropolitan areas, such as London, occurs in distinct patterns. This data covers the number of criminal reports by month, LSOA borough, and major/minor category from Jan 2008-Dec 2016.\n",
    "\n",
    "This dataset contains:\n",
    "\n",
    "* `lsoa_code`: this represents a policing area\n",
    "* `borough`: the london borough for which the statistic is related\n",
    "* `major_category`: the major crime category\n",
    "* `minor_category`: the minor crime category\n",
    "* `value`: the count of the crime for that particular borough, in that particular month\n",
    "* `year`: the year of the summary statistic\n",
    "* `month`: the month of the summary statistic\n",
    "\n",
    "Formulate a question and derive a statistical hypothesis test to answer the question. You have to demonstrate that you’re able to make decisions using data in a scientific manner. And the important things, Visualized the data. Examples of questions can be:\n",
    "\n",
    "* What is the change in the number of crime incidents from 2011 to 2016?\n",
    "* What were the top 3 crimes per borough in 2016?\n",
    "\n",
    "Please make sure that you have completed the session for this course, namely Advanced Visualization which is part of this Program.\n",
    "\n",
    "Note: You can take a look at Project Rubric below:\n",
    "\n",
    "Criteria |\tMeet Expectations\n",
    "---|---\n",
    "Area Plot |\tMengimplementasikan Area Plot Menggunakan `Matplotlib` Dengan Data Yang Relevan Dan Sesuai Dengan Kegunaan Plot/Grafik\n",
    "Histogram |\tMengimplementasikan Histogram Menggunakan `Matplotlib` Dengan Data Yang Relevan Dan Sesuai Dengan Kegunaan Plot/Grafik.\n",
    "Bar Chart | Mengimplementasikan Bar Chart Menggunakan `Matplotlib` Dengan Data Yang Relevan Dan Sesuai Dengan Kegunaan Plot/Grafik.\n",
    "Pie Chart |\tMengimplementasikan Pie Chart Menggunakan `Matplotlib` Dengan Data Yang Relevan Dan Sesuai Dengan Kegunaan Plot/Grafik.\n",
    "Box Plot |\tMengimplementasikan Box Plot Menggunakan `Matplotlib` Dengan Data Yang Relevan Dan Sesuai Dengan Kegunaan Plot/Grafik.\n",
    "Scatter Plot |\tMengimplementasikan Scatter Plot Menggunakan `Matplotlib` Dengan Data Yang Relevan Dan Sesuai Dengan Kegunaan Plot/Grafik.\n",
    "Word Clouds |\tMengimplementasikan Word Clouds Menggunakan `Wordclouds` Library Dengan Data Yang Relevan Dan Sesuai Dengan Kegunaan Plot/Grafik.\n",
    "Folium Maps |\tMengimplementasikan London Maps Menggunakan `Folium`.\n",
    "Preprocessing |\tStudent Melakukan Preproses Dataset Sebelum Menerapkan Visualisasi. | | Apakah Kode Berjalan Tanpa Ada Eror?\n",
    "Apakah Kode Berjalan Tanpa Ada Eror? |\tSeluruh Kode Berfungsi Dan Dibuat Dengan Benar.\n",
    "Area Plot |\tMenarik Informasi/Kesimpulan Berdasarkan Area Plot Yang Telah Student Buat\n",
    "Histogram |\tMenarik Informasi/Kesimpulan Berdasarkan Histogram Yang Telah Student Buat\n",
    "Bar Chart |\tMenarik Informasi/Kesimpulan Berdasarkan Bar Chart Yang Telah Student Buat\n",
    "Pie Chart |\tMenarik Informasi/Kesimpulan Berdasarkan Pie Chart Yang Telah Student Buat\n",
    "Box Plot |\tMenarik Informasi/Kesimpulan Berdasarkan Box Plot Yang Telah Student Buat\n",
    "Scatter Plot |\tMenarik Informasi/Kesimpulan Berdasarkan Scatter Plot Yang Telah Student Buat\n",
    "Overall Analysis |\tMenarik Informasi/Kesimpulan Dari Keseluruhan Plot Yang Dapat Menjawab Hipotesis.\n",
    "\n",
    "**Focus on \"Graded-Function\" sections.**\n",
    "\n",
    "------------"
   ]
  },
  {
   "cell_type": "markdown",
   "metadata": {},
   "source": [
    "## Exploring Datasets with *pandas* <a id=\"0\"></a>\n",
    "\n",
    "*pandas* is an essential data analysis toolkit for Python. From their [website](http://pandas.pydata.org/):\n",
    ">*pandas* is a Python package providing fast, flexible, and expressive data structures designed to make working with “relational” or “labeled” data both easy and intuitive. It aims to be the fundamental high-level building block for doing practical, **real world** data analysis in Python.\n",
    "\n",
    "The course heavily relies on *pandas* for data wrangling, analysis, and visualization. We encourage you to spend some time and  familizare yourself with the *pandas* API Reference: http://pandas.pydata.org/pandas-docs/stable/api.html."
   ]
  },
  {
   "cell_type": "markdown",
   "metadata": {},
   "source": [
    "The first thing we'll do is import two key data analysis modules: *pandas* and **Numpy**."
   ]
  },
  {
   "cell_type": "code",
   "execution_count": 1,
   "metadata": {},
   "outputs": [],
   "source": [
    "import numpy as np\n",
    "import pandas as pd\n",
    "import folium\n",
    "import seaborn as sns\n",
    "import matplotlib.pyplot as plt\n",
    "\n",
    "%matplotlib inline"
   ]
  },
  {
   "cell_type": "code",
   "execution_count": 2,
   "metadata": {},
   "outputs": [
    {
     "name": "stdout",
     "output_type": "stream",
     "text": [
      "Data read into a pandas dataframe!\n"
     ]
    }
   ],
   "source": [
    "df = pd.read_csv('london_crime_by_lsoa.csv')\n",
    "\n",
    "print ('Data read into a pandas dataframe!')"
   ]
  },
  {
   "cell_type": "code",
   "execution_count": 3,
   "metadata": {},
   "outputs": [
    {
     "data": {
      "text/html": [
       "<div>\n",
       "<style scoped>\n",
       "    .dataframe tbody tr th:only-of-type {\n",
       "        vertical-align: middle;\n",
       "    }\n",
       "\n",
       "    .dataframe tbody tr th {\n",
       "        vertical-align: top;\n",
       "    }\n",
       "\n",
       "    .dataframe thead th {\n",
       "        text-align: right;\n",
       "    }\n",
       "</style>\n",
       "<table border=\"1\" class=\"dataframe\">\n",
       "  <thead>\n",
       "    <tr style=\"text-align: right;\">\n",
       "      <th></th>\n",
       "      <th>lsoa_code</th>\n",
       "      <th>borough</th>\n",
       "      <th>major_category</th>\n",
       "      <th>minor_category</th>\n",
       "      <th>value</th>\n",
       "      <th>year</th>\n",
       "      <th>month</th>\n",
       "    </tr>\n",
       "  </thead>\n",
       "  <tbody>\n",
       "    <tr>\n",
       "      <th>0</th>\n",
       "      <td>E01001116</td>\n",
       "      <td>Croydon</td>\n",
       "      <td>Burglary</td>\n",
       "      <td>Burglary in Other Buildings</td>\n",
       "      <td>0</td>\n",
       "      <td>2016</td>\n",
       "      <td>11</td>\n",
       "    </tr>\n",
       "    <tr>\n",
       "      <th>1</th>\n",
       "      <td>E01001646</td>\n",
       "      <td>Greenwich</td>\n",
       "      <td>Violence Against the Person</td>\n",
       "      <td>Other violence</td>\n",
       "      <td>0</td>\n",
       "      <td>2016</td>\n",
       "      <td>11</td>\n",
       "    </tr>\n",
       "    <tr>\n",
       "      <th>2</th>\n",
       "      <td>E01000677</td>\n",
       "      <td>Bromley</td>\n",
       "      <td>Violence Against the Person</td>\n",
       "      <td>Other violence</td>\n",
       "      <td>0</td>\n",
       "      <td>2015</td>\n",
       "      <td>5</td>\n",
       "    </tr>\n",
       "    <tr>\n",
       "      <th>3</th>\n",
       "      <td>E01003774</td>\n",
       "      <td>Redbridge</td>\n",
       "      <td>Burglary</td>\n",
       "      <td>Burglary in Other Buildings</td>\n",
       "      <td>0</td>\n",
       "      <td>2016</td>\n",
       "      <td>3</td>\n",
       "    </tr>\n",
       "    <tr>\n",
       "      <th>4</th>\n",
       "      <td>E01004563</td>\n",
       "      <td>Wandsworth</td>\n",
       "      <td>Robbery</td>\n",
       "      <td>Personal Property</td>\n",
       "      <td>0</td>\n",
       "      <td>2008</td>\n",
       "      <td>6</td>\n",
       "    </tr>\n",
       "  </tbody>\n",
       "</table>\n",
       "</div>"
      ],
      "text/plain": [
       "   lsoa_code     borough               major_category  \\\n",
       "0  E01001116     Croydon                     Burglary   \n",
       "1  E01001646   Greenwich  Violence Against the Person   \n",
       "2  E01000677     Bromley  Violence Against the Person   \n",
       "3  E01003774   Redbridge                     Burglary   \n",
       "4  E01004563  Wandsworth                      Robbery   \n",
       "\n",
       "                minor_category  value  year  month  \n",
       "0  Burglary in Other Buildings      0  2016     11  \n",
       "1               Other violence      0  2016     11  \n",
       "2               Other violence      0  2015      5  \n",
       "3  Burglary in Other Buildings      0  2016      3  \n",
       "4            Personal Property      0  2008      6  "
      ]
     },
     "execution_count": 3,
     "metadata": {},
     "output_type": "execute_result"
    }
   ],
   "source": [
    "# Let's view the top 5 rows of the dataset using the head() function.\n",
    "df.head()"
   ]
  },
  {
   "cell_type": "code",
   "execution_count": 4,
   "metadata": {},
   "outputs": [
    {
     "data": {
      "text/html": [
       "<div>\n",
       "<style scoped>\n",
       "    .dataframe tbody tr th:only-of-type {\n",
       "        vertical-align: middle;\n",
       "    }\n",
       "\n",
       "    .dataframe tbody tr th {\n",
       "        vertical-align: top;\n",
       "    }\n",
       "\n",
       "    .dataframe thead th {\n",
       "        text-align: right;\n",
       "    }\n",
       "</style>\n",
       "<table border=\"1\" class=\"dataframe\">\n",
       "  <thead>\n",
       "    <tr style=\"text-align: right;\">\n",
       "      <th></th>\n",
       "      <th>lsoa_code</th>\n",
       "      <th>borough</th>\n",
       "      <th>major_category</th>\n",
       "      <th>minor_category</th>\n",
       "      <th>value</th>\n",
       "      <th>year</th>\n",
       "      <th>month</th>\n",
       "    </tr>\n",
       "  </thead>\n",
       "  <tbody>\n",
       "    <tr>\n",
       "      <th>13490599</th>\n",
       "      <td>E01000504</td>\n",
       "      <td>Brent</td>\n",
       "      <td>Criminal Damage</td>\n",
       "      <td>Criminal Damage To Dwelling</td>\n",
       "      <td>0</td>\n",
       "      <td>2015</td>\n",
       "      <td>2</td>\n",
       "    </tr>\n",
       "    <tr>\n",
       "      <th>13490600</th>\n",
       "      <td>E01002504</td>\n",
       "      <td>Hillingdon</td>\n",
       "      <td>Robbery</td>\n",
       "      <td>Personal Property</td>\n",
       "      <td>1</td>\n",
       "      <td>2015</td>\n",
       "      <td>6</td>\n",
       "    </tr>\n",
       "    <tr>\n",
       "      <th>13490601</th>\n",
       "      <td>E01004165</td>\n",
       "      <td>Sutton</td>\n",
       "      <td>Burglary</td>\n",
       "      <td>Burglary in a Dwelling</td>\n",
       "      <td>0</td>\n",
       "      <td>2011</td>\n",
       "      <td>2</td>\n",
       "    </tr>\n",
       "    <tr>\n",
       "      <th>13490602</th>\n",
       "      <td>E01001134</td>\n",
       "      <td>Croydon</td>\n",
       "      <td>Robbery</td>\n",
       "      <td>Business Property</td>\n",
       "      <td>0</td>\n",
       "      <td>2011</td>\n",
       "      <td>5</td>\n",
       "    </tr>\n",
       "    <tr>\n",
       "      <th>13490603</th>\n",
       "      <td>E01003413</td>\n",
       "      <td>Merton</td>\n",
       "      <td>Violence Against the Person</td>\n",
       "      <td>Wounding/GBH</td>\n",
       "      <td>0</td>\n",
       "      <td>2015</td>\n",
       "      <td>6</td>\n",
       "    </tr>\n",
       "  </tbody>\n",
       "</table>\n",
       "</div>"
      ],
      "text/plain": [
       "          lsoa_code     borough               major_category  \\\n",
       "13490599  E01000504       Brent              Criminal Damage   \n",
       "13490600  E01002504  Hillingdon                      Robbery   \n",
       "13490601  E01004165      Sutton                     Burglary   \n",
       "13490602  E01001134     Croydon                      Robbery   \n",
       "13490603  E01003413      Merton  Violence Against the Person   \n",
       "\n",
       "                       minor_category  value  year  month  \n",
       "13490599  Criminal Damage To Dwelling      0  2015      2  \n",
       "13490600            Personal Property      1  2015      6  \n",
       "13490601       Burglary in a Dwelling      0  2011      2  \n",
       "13490602            Business Property      0  2011      5  \n",
       "13490603                 Wounding/GBH      0  2015      6  "
      ]
     },
     "execution_count": 4,
     "metadata": {},
     "output_type": "execute_result"
    }
   ],
   "source": [
    "# We can also veiw the bottom 5 rows of the dataset using the tail() function.\n",
    "df.tail()"
   ]
  },
  {
   "cell_type": "code",
   "execution_count": 5,
   "metadata": {},
   "outputs": [],
   "source": [
    "df = df.rename(\n",
    "    columns={\n",
    "        'lsoa_code': 'Kode Area Polisi',\n",
    "        'borough': 'Wilayah',\n",
    "        'major_category': 'Kejahatan Mayor',\n",
    "        'minor_category': 'Kejahatan Minor',\n",
    "        'value': 'Jumlah Kasus',\n",
    "        'year': 'Tahun',\n",
    "        'month': 'Bulan'\n",
    "    },\n",
    ")"
   ]
  },
  {
   "cell_type": "markdown",
   "metadata": {},
   "source": [
    "When analyzing a dataset, it's always a good idea to start by getting basic information about your dataframe. We can do this by using the `info()` method."
   ]
  },
  {
   "cell_type": "code",
   "execution_count": 6,
   "metadata": {},
   "outputs": [
    {
     "name": "stdout",
     "output_type": "stream",
     "text": [
      "<class 'pandas.core.frame.DataFrame'>\n",
      "RangeIndex: 13490604 entries, 0 to 13490603\n",
      "Data columns (total 7 columns):\n",
      " #   Column            Dtype \n",
      "---  ------            ----- \n",
      " 0   Kode Area Polisi  object\n",
      " 1   Wilayah           object\n",
      " 2   Kejahatan Mayor   object\n",
      " 3   Kejahatan Minor   object\n",
      " 4   Jumlah Kasus      int64 \n",
      " 5   Tahun             int64 \n",
      " 6   Bulan             int64 \n",
      "dtypes: int64(3), object(4)\n",
      "memory usage: 720.5+ MB\n"
     ]
    }
   ],
   "source": [
    "df.info()"
   ]
  },
  {
   "cell_type": "markdown",
   "metadata": {},
   "source": [
    "To get the list of column headers we can call upon the dataframe's `.columns` parameter."
   ]
  },
  {
   "cell_type": "code",
   "execution_count": 7,
   "metadata": {},
   "outputs": [
    {
     "data": {
      "text/plain": [
       "array(['Kode Area Polisi', 'Wilayah', 'Kejahatan Mayor',\n",
       "       'Kejahatan Minor', 'Jumlah Kasus', 'Tahun', 'Bulan'], dtype=object)"
      ]
     },
     "execution_count": 7,
     "metadata": {},
     "output_type": "execute_result"
    }
   ],
   "source": [
    "df.columns.values"
   ]
  },
  {
   "cell_type": "markdown",
   "metadata": {},
   "source": [
    "Similarly, to get the list of indicies we use the `.index` parameter."
   ]
  },
  {
   "cell_type": "code",
   "execution_count": 8,
   "metadata": {},
   "outputs": [
    {
     "data": {
      "text/plain": [
       "array([       0,        1,        2, ..., 13490601, 13490602, 13490603])"
      ]
     },
     "execution_count": 8,
     "metadata": {},
     "output_type": "execute_result"
    }
   ],
   "source": [
    "df.index.values"
   ]
  },
  {
   "cell_type": "markdown",
   "metadata": {},
   "source": [
    "To view the dimensions of the dataframe, we use the `.shape` parameter."
   ]
  },
  {
   "cell_type": "code",
   "execution_count": 9,
   "metadata": {},
   "outputs": [
    {
     "data": {
      "text/plain": [
       "(13490604, 7)"
      ]
     },
     "execution_count": 9,
     "metadata": {},
     "output_type": "execute_result"
    }
   ],
   "source": [
    "df.shape"
   ]
  },
  {
   "cell_type": "markdown",
   "metadata": {},
   "source": [
    "Pemeriksaan missing value"
   ]
  },
  {
   "cell_type": "code",
   "execution_count": 10,
   "metadata": {},
   "outputs": [
    {
     "data": {
      "text/plain": [
       "Kode Area Polisi    0\n",
       "Wilayah             0\n",
       "Kejahatan Mayor     0\n",
       "Kejahatan Minor     0\n",
       "Jumlah Kasus        0\n",
       "Tahun               0\n",
       "Bulan               0\n",
       "dtype: int64"
      ]
     },
     "execution_count": 10,
     "metadata": {},
     "output_type": "execute_result"
    }
   ],
   "source": [
    "df.isnull().sum()"
   ]
  },
  {
   "cell_type": "markdown",
   "metadata": {},
   "source": [
    "Tidak ada missing value."
   ]
  },
  {
   "cell_type": "markdown",
   "metadata": {},
   "source": [
    "Melihat tipe data setiap kolom."
   ]
  },
  {
   "cell_type": "code",
   "execution_count": 11,
   "metadata": {
    "scrolled": true
   },
   "outputs": [
    {
     "name": "stdout",
     "output_type": "stream",
     "text": [
      "<class 'pandas.core.frame.DataFrame'>\n",
      "RangeIndex: 13490604 entries, 0 to 13490603\n",
      "Data columns (total 7 columns):\n",
      " #   Column            Dtype \n",
      "---  ------            ----- \n",
      " 0   Kode Area Polisi  object\n",
      " 1   Wilayah           object\n",
      " 2   Kejahatan Mayor   object\n",
      " 3   Kejahatan Minor   object\n",
      " 4   Jumlah Kasus      int64 \n",
      " 5   Tahun             int64 \n",
      " 6   Bulan             int64 \n",
      "dtypes: int64(3), object(4)\n",
      "memory usage: 720.5+ MB\n"
     ]
    }
   ],
   "source": [
    "df.info()"
   ]
  },
  {
   "cell_type": "markdown",
   "metadata": {},
   "source": [
    "Melihat nilai unik untuk setiap kolong bertipe objek."
   ]
  },
  {
   "cell_type": "code",
   "execution_count": 12,
   "metadata": {},
   "outputs": [
    {
     "name": "stdout",
     "output_type": "stream",
     "text": [
      "Kode Area Polisi 4835\n",
      "Wilayah 33\n",
      "Kejahatan Mayor 9\n",
      "Kejahatan Minor 32\n"
     ]
    }
   ],
   "source": [
    "for col in df.columns:\n",
    "    if df[col].dtype=='object':\n",
    "        print(col, df[col].nunique())"
   ]
  },
  {
   "cell_type": "markdown",
   "metadata": {},
   "source": [
    "Let's make one dataset that contains value 1 in value features."
   ]
  },
  {
   "cell_type": "code",
   "execution_count": 13,
   "metadata": {},
   "outputs": [],
   "source": [
    "criminal = df[df['Jumlah Kasus'] == 1]"
   ]
  },
  {
   "cell_type": "markdown",
   "metadata": {},
   "source": [
    "**Data Frame Total Kejahatan Mayor Per Tahun**"
   ]
  },
  {
   "cell_type": "code",
   "execution_count": 14,
   "metadata": {},
   "outputs": [
    {
     "data": {
      "text/html": [
       "<div>\n",
       "<style scoped>\n",
       "    .dataframe tbody tr th:only-of-type {\n",
       "        vertical-align: middle;\n",
       "    }\n",
       "\n",
       "    .dataframe tbody tr th {\n",
       "        vertical-align: top;\n",
       "    }\n",
       "\n",
       "    .dataframe thead th {\n",
       "        text-align: right;\n",
       "    }\n",
       "</style>\n",
       "<table border=\"1\" class=\"dataframe\">\n",
       "  <thead>\n",
       "    <tr style=\"text-align: right;\">\n",
       "      <th></th>\n",
       "      <th>2008</th>\n",
       "      <th>2009</th>\n",
       "      <th>2010</th>\n",
       "      <th>2011</th>\n",
       "      <th>2012</th>\n",
       "      <th>2013</th>\n",
       "      <th>2014</th>\n",
       "      <th>2015</th>\n",
       "      <th>2016</th>\n",
       "      <th>Total</th>\n",
       "    </tr>\n",
       "    <tr>\n",
       "      <th>Kejahatan Mayor</th>\n",
       "      <th></th>\n",
       "      <th></th>\n",
       "      <th></th>\n",
       "      <th></th>\n",
       "      <th></th>\n",
       "      <th></th>\n",
       "      <th></th>\n",
       "      <th></th>\n",
       "      <th></th>\n",
       "      <th></th>\n",
       "    </tr>\n",
       "  </thead>\n",
       "  <tbody>\n",
       "    <tr>\n",
       "      <th>Theft and Handling</th>\n",
       "      <td>283692</td>\n",
       "      <td>279492</td>\n",
       "      <td>290924</td>\n",
       "      <td>309292</td>\n",
       "      <td>334054</td>\n",
       "      <td>306372</td>\n",
       "      <td>279880</td>\n",
       "      <td>284022</td>\n",
       "      <td>294133</td>\n",
       "      <td>2661861</td>\n",
       "    </tr>\n",
       "    <tr>\n",
       "      <th>Violence Against the Person</th>\n",
       "      <td>159844</td>\n",
       "      <td>160777</td>\n",
       "      <td>157894</td>\n",
       "      <td>146901</td>\n",
       "      <td>150014</td>\n",
       "      <td>146181</td>\n",
       "      <td>185349</td>\n",
       "      <td>218740</td>\n",
       "      <td>232381</td>\n",
       "      <td>1558081</td>\n",
       "    </tr>\n",
       "    <tr>\n",
       "      <th>Burglary</th>\n",
       "      <td>88092</td>\n",
       "      <td>90619</td>\n",
       "      <td>86826</td>\n",
       "      <td>93315</td>\n",
       "      <td>93392</td>\n",
       "      <td>87222</td>\n",
       "      <td>76053</td>\n",
       "      <td>70489</td>\n",
       "      <td>68285</td>\n",
       "      <td>754293</td>\n",
       "    </tr>\n",
       "    <tr>\n",
       "      <th>Criminal Damage</th>\n",
       "      <td>91872</td>\n",
       "      <td>85565</td>\n",
       "      <td>77897</td>\n",
       "      <td>70914</td>\n",
       "      <td>62158</td>\n",
       "      <td>56206</td>\n",
       "      <td>59279</td>\n",
       "      <td>62976</td>\n",
       "      <td>64071</td>\n",
       "      <td>630938</td>\n",
       "    </tr>\n",
       "    <tr>\n",
       "      <th>Drugs</th>\n",
       "      <td>68804</td>\n",
       "      <td>60549</td>\n",
       "      <td>58674</td>\n",
       "      <td>57550</td>\n",
       "      <td>51776</td>\n",
       "      <td>50278</td>\n",
       "      <td>44435</td>\n",
       "      <td>39785</td>\n",
       "      <td>38914</td>\n",
       "      <td>470765</td>\n",
       "    </tr>\n",
       "    <tr>\n",
       "      <th>Robbery</th>\n",
       "      <td>29627</td>\n",
       "      <td>29568</td>\n",
       "      <td>32341</td>\n",
       "      <td>36679</td>\n",
       "      <td>35260</td>\n",
       "      <td>29337</td>\n",
       "      <td>22150</td>\n",
       "      <td>21383</td>\n",
       "      <td>22528</td>\n",
       "      <td>258873</td>\n",
       "    </tr>\n",
       "    <tr>\n",
       "      <th>Other Notifiable Offences</th>\n",
       "      <td>10112</td>\n",
       "      <td>10644</td>\n",
       "      <td>10768</td>\n",
       "      <td>10264</td>\n",
       "      <td>10675</td>\n",
       "      <td>10811</td>\n",
       "      <td>13037</td>\n",
       "      <td>14229</td>\n",
       "      <td>15809</td>\n",
       "      <td>106349</td>\n",
       "    </tr>\n",
       "    <tr>\n",
       "      <th>Fraud or Forgery</th>\n",
       "      <td>5325</td>\n",
       "      <td>0</td>\n",
       "      <td>0</td>\n",
       "      <td>0</td>\n",
       "      <td>0</td>\n",
       "      <td>0</td>\n",
       "      <td>0</td>\n",
       "      <td>0</td>\n",
       "      <td>0</td>\n",
       "      <td>5325</td>\n",
       "    </tr>\n",
       "    <tr>\n",
       "      <th>Sexual Offences</th>\n",
       "      <td>1273</td>\n",
       "      <td>0</td>\n",
       "      <td>0</td>\n",
       "      <td>0</td>\n",
       "      <td>0</td>\n",
       "      <td>0</td>\n",
       "      <td>0</td>\n",
       "      <td>0</td>\n",
       "      <td>0</td>\n",
       "      <td>1273</td>\n",
       "    </tr>\n",
       "  </tbody>\n",
       "</table>\n",
       "</div>"
      ],
      "text/plain": [
       "                               2008    2009    2010    2011    2012    2013  \\\n",
       "Kejahatan Mayor                                                               \n",
       "Theft and Handling           283692  279492  290924  309292  334054  306372   \n",
       "Violence Against the Person  159844  160777  157894  146901  150014  146181   \n",
       "Burglary                      88092   90619   86826   93315   93392   87222   \n",
       "Criminal Damage               91872   85565   77897   70914   62158   56206   \n",
       "Drugs                         68804   60549   58674   57550   51776   50278   \n",
       "Robbery                       29627   29568   32341   36679   35260   29337   \n",
       "Other Notifiable Offences     10112   10644   10768   10264   10675   10811   \n",
       "Fraud or Forgery               5325       0       0       0       0       0   \n",
       "Sexual Offences                1273       0       0       0       0       0   \n",
       "\n",
       "                               2014    2015    2016    Total  \n",
       "Kejahatan Mayor                                               \n",
       "Theft and Handling           279880  284022  294133  2661861  \n",
       "Violence Against the Person  185349  218740  232381  1558081  \n",
       "Burglary                      76053   70489   68285   754293  \n",
       "Criminal Damage               59279   62976   64071   630938  \n",
       "Drugs                         44435   39785   38914   470765  \n",
       "Robbery                       22150   21383   22528   258873  \n",
       "Other Notifiable Offences     13037   14229   15809   106349  \n",
       "Fraud or Forgery                  0       0       0     5325  \n",
       "Sexual Offences                   0       0       0     1273  "
      ]
     },
     "execution_count": 14,
     "metadata": {},
     "output_type": "execute_result"
    }
   ],
   "source": [
    "years = list(np.sort(df['Tahun'].unique()))\n",
    "major = df['Kejahatan Mayor'].unique()\n",
    "\n",
    "data_criminal = {}\n",
    "\n",
    "for year in years:\n",
    "    data_crime_per_year = df[\n",
    "        df['Tahun'] == year].groupby('Kejahatan Mayor',as_index=True)['Jumlah Kasus'].sum()\n",
    "    \n",
    "    data_criminal[year] = pd.Series(\n",
    "        data=map(int,data_crime_per_year.reset_index()['Jumlah Kasus'].values),\n",
    "        index=data_crime_per_year.index)\n",
    "    \n",
    "data_criminal_per_year = pd.DataFrame(data=data_criminal)\n",
    "data_criminal_per_year['Total'] = data_criminal_per_year[years].sum(axis=1)\n",
    "\n",
    "data_criminal_per_year.sort_values(by='Total',ascending=False, inplace=True)\n",
    "\n",
    "data_criminal_per_year.head(10)"
   ]
  },
  {
   "cell_type": "markdown",
   "metadata": {},
   "source": [
    "**Data Frame Total Kejahatan Mayor Per Wilayah**"
   ]
  },
  {
   "cell_type": "code",
   "execution_count": 15,
   "metadata": {},
   "outputs": [
    {
     "data": {
      "text/html": [
       "<div>\n",
       "<style scoped>\n",
       "    .dataframe tbody tr th:only-of-type {\n",
       "        vertical-align: middle;\n",
       "    }\n",
       "\n",
       "    .dataframe tbody tr th {\n",
       "        vertical-align: top;\n",
       "    }\n",
       "\n",
       "    .dataframe thead th {\n",
       "        text-align: right;\n",
       "    }\n",
       "</style>\n",
       "<table border=\"1\" class=\"dataframe\">\n",
       "  <thead>\n",
       "    <tr style=\"text-align: right;\">\n",
       "      <th></th>\n",
       "      <th>2008</th>\n",
       "      <th>2009</th>\n",
       "      <th>2010</th>\n",
       "      <th>2011</th>\n",
       "      <th>2012</th>\n",
       "      <th>2013</th>\n",
       "      <th>2014</th>\n",
       "      <th>2015</th>\n",
       "      <th>2016</th>\n",
       "      <th>Total</th>\n",
       "    </tr>\n",
       "  </thead>\n",
       "  <tbody>\n",
       "    <tr>\n",
       "      <th>Westminster</th>\n",
       "      <td>47846</td>\n",
       "      <td>48456</td>\n",
       "      <td>48116</td>\n",
       "      <td>54243</td>\n",
       "      <td>59226</td>\n",
       "      <td>53852</td>\n",
       "      <td>47564</td>\n",
       "      <td>47395</td>\n",
       "      <td>48330</td>\n",
       "      <td>455028</td>\n",
       "    </tr>\n",
       "    <tr>\n",
       "      <th>Lambeth</th>\n",
       "      <td>31717</td>\n",
       "      <td>31225</td>\n",
       "      <td>31671</td>\n",
       "      <td>33224</td>\n",
       "      <td>33473</td>\n",
       "      <td>31868</td>\n",
       "      <td>31765</td>\n",
       "      <td>33164</td>\n",
       "      <td>34071</td>\n",
       "      <td>292178</td>\n",
       "    </tr>\n",
       "    <tr>\n",
       "      <th>Southwark</th>\n",
       "      <td>33470</td>\n",
       "      <td>30623</td>\n",
       "      <td>31320</td>\n",
       "      <td>30723</td>\n",
       "      <td>30737</td>\n",
       "      <td>31128</td>\n",
       "      <td>28912</td>\n",
       "      <td>30260</td>\n",
       "      <td>31636</td>\n",
       "      <td>278809</td>\n",
       "    </tr>\n",
       "    <tr>\n",
       "      <th>Camden</th>\n",
       "      <td>32010</td>\n",
       "      <td>31612</td>\n",
       "      <td>31804</td>\n",
       "      <td>33956</td>\n",
       "      <td>31472</td>\n",
       "      <td>28435</td>\n",
       "      <td>27198</td>\n",
       "      <td>29477</td>\n",
       "      <td>29183</td>\n",
       "      <td>275147</td>\n",
       "    </tr>\n",
       "    <tr>\n",
       "      <th>Newham</th>\n",
       "      <td>29752</td>\n",
       "      <td>28610</td>\n",
       "      <td>30728</td>\n",
       "      <td>27978</td>\n",
       "      <td>30067</td>\n",
       "      <td>27577</td>\n",
       "      <td>28005</td>\n",
       "      <td>29217</td>\n",
       "      <td>30090</td>\n",
       "      <td>262024</td>\n",
       "    </tr>\n",
       "    <tr>\n",
       "      <th>Croydon</th>\n",
       "      <td>29516</td>\n",
       "      <td>29784</td>\n",
       "      <td>29373</td>\n",
       "      <td>29830</td>\n",
       "      <td>30189</td>\n",
       "      <td>27444</td>\n",
       "      <td>27357</td>\n",
       "      <td>28089</td>\n",
       "      <td>28712</td>\n",
       "      <td>260294</td>\n",
       "    </tr>\n",
       "    <tr>\n",
       "      <th>Ealing</th>\n",
       "      <td>28947</td>\n",
       "      <td>28617</td>\n",
       "      <td>31360</td>\n",
       "      <td>29537</td>\n",
       "      <td>28832</td>\n",
       "      <td>25917</td>\n",
       "      <td>24978</td>\n",
       "      <td>26247</td>\n",
       "      <td>27127</td>\n",
       "      <td>251562</td>\n",
       "    </tr>\n",
       "    <tr>\n",
       "      <th>Islington</th>\n",
       "      <td>26273</td>\n",
       "      <td>25485</td>\n",
       "      <td>24693</td>\n",
       "      <td>24980</td>\n",
       "      <td>26268</td>\n",
       "      <td>23784</td>\n",
       "      <td>24679</td>\n",
       "      <td>27032</td>\n",
       "      <td>27092</td>\n",
       "      <td>230286</td>\n",
       "    </tr>\n",
       "    <tr>\n",
       "      <th>Tower Hamlets</th>\n",
       "      <td>23578</td>\n",
       "      <td>21959</td>\n",
       "      <td>23072</td>\n",
       "      <td>24712</td>\n",
       "      <td>26784</td>\n",
       "      <td>26258</td>\n",
       "      <td>25504</td>\n",
       "      <td>27493</td>\n",
       "      <td>29253</td>\n",
       "      <td>228613</td>\n",
       "    </tr>\n",
       "    <tr>\n",
       "      <th>Brent</th>\n",
       "      <td>23504</td>\n",
       "      <td>24748</td>\n",
       "      <td>25512</td>\n",
       "      <td>27669</td>\n",
       "      <td>26357</td>\n",
       "      <td>23759</td>\n",
       "      <td>24426</td>\n",
       "      <td>24883</td>\n",
       "      <td>26693</td>\n",
       "      <td>227551</td>\n",
       "    </tr>\n",
       "    <tr>\n",
       "      <th>Hackney</th>\n",
       "      <td>22004</td>\n",
       "      <td>20718</td>\n",
       "      <td>20175</td>\n",
       "      <td>21395</td>\n",
       "      <td>27095</td>\n",
       "      <td>25633</td>\n",
       "      <td>24893</td>\n",
       "      <td>26941</td>\n",
       "      <td>28265</td>\n",
       "      <td>217119</td>\n",
       "    </tr>\n",
       "    <tr>\n",
       "      <th>Lewisham</th>\n",
       "      <td>27054</td>\n",
       "      <td>25182</td>\n",
       "      <td>24532</td>\n",
       "      <td>24201</td>\n",
       "      <td>23652</td>\n",
       "      <td>22074</td>\n",
       "      <td>21101</td>\n",
       "      <td>23437</td>\n",
       "      <td>23904</td>\n",
       "      <td>215137</td>\n",
       "    </tr>\n",
       "    <tr>\n",
       "      <th>Haringey</th>\n",
       "      <td>25724</td>\n",
       "      <td>23704</td>\n",
       "      <td>22156</td>\n",
       "      <td>23179</td>\n",
       "      <td>23231</td>\n",
       "      <td>20705</td>\n",
       "      <td>22773</td>\n",
       "      <td>24626</td>\n",
       "      <td>27174</td>\n",
       "      <td>213272</td>\n",
       "    </tr>\n",
       "    <tr>\n",
       "      <th>Barnet</th>\n",
       "      <td>23944</td>\n",
       "      <td>23449</td>\n",
       "      <td>23416</td>\n",
       "      <td>24007</td>\n",
       "      <td>23573</td>\n",
       "      <td>22510</td>\n",
       "      <td>22572</td>\n",
       "      <td>24036</td>\n",
       "      <td>24684</td>\n",
       "      <td>212191</td>\n",
       "    </tr>\n",
       "    <tr>\n",
       "      <th>Hillingdon</th>\n",
       "      <td>24318</td>\n",
       "      <td>24605</td>\n",
       "      <td>23421</td>\n",
       "      <td>24282</td>\n",
       "      <td>22103</td>\n",
       "      <td>20248</td>\n",
       "      <td>23128</td>\n",
       "      <td>23234</td>\n",
       "      <td>24341</td>\n",
       "      <td>209680</td>\n",
       "    </tr>\n",
       "    <tr>\n",
       "      <th>Wandsworth</th>\n",
       "      <td>23330</td>\n",
       "      <td>23021</td>\n",
       "      <td>22815</td>\n",
       "      <td>21384</td>\n",
       "      <td>24457</td>\n",
       "      <td>22290</td>\n",
       "      <td>21364</td>\n",
       "      <td>22401</td>\n",
       "      <td>23679</td>\n",
       "      <td>204741</td>\n",
       "    </tr>\n",
       "    <tr>\n",
       "      <th>Waltham Forest</th>\n",
       "      <td>24080</td>\n",
       "      <td>24761</td>\n",
       "      <td>24818</td>\n",
       "      <td>23714</td>\n",
       "      <td>22647</td>\n",
       "      <td>21903</td>\n",
       "      <td>20271</td>\n",
       "      <td>20969</td>\n",
       "      <td>20716</td>\n",
       "      <td>203879</td>\n",
       "    </tr>\n",
       "    <tr>\n",
       "      <th>Enfield</th>\n",
       "      <td>21980</td>\n",
       "      <td>21147</td>\n",
       "      <td>20808</td>\n",
       "      <td>21041</td>\n",
       "      <td>21069</td>\n",
       "      <td>21574</td>\n",
       "      <td>21700</td>\n",
       "      <td>22076</td>\n",
       "      <td>22485</td>\n",
       "      <td>193880</td>\n",
       "    </tr>\n",
       "    <tr>\n",
       "      <th>Hounslow</th>\n",
       "      <td>20204</td>\n",
       "      <td>19783</td>\n",
       "      <td>19665</td>\n",
       "      <td>21105</td>\n",
       "      <td>22724</td>\n",
       "      <td>19749</td>\n",
       "      <td>20005</td>\n",
       "      <td>21286</td>\n",
       "      <td>22251</td>\n",
       "      <td>186772</td>\n",
       "    </tr>\n",
       "    <tr>\n",
       "      <th>Hammersmith and Fulham</th>\n",
       "      <td>21114</td>\n",
       "      <td>21211</td>\n",
       "      <td>21941</td>\n",
       "      <td>22151</td>\n",
       "      <td>21030</td>\n",
       "      <td>18605</td>\n",
       "      <td>19185</td>\n",
       "      <td>19848</td>\n",
       "      <td>20174</td>\n",
       "      <td>185259</td>\n",
       "    </tr>\n",
       "    <tr>\n",
       "      <th>Bromley</th>\n",
       "      <td>24015</td>\n",
       "      <td>21858</td>\n",
       "      <td>19572</td>\n",
       "      <td>19868</td>\n",
       "      <td>19622</td>\n",
       "      <td>18945</td>\n",
       "      <td>19668</td>\n",
       "      <td>20637</td>\n",
       "      <td>20164</td>\n",
       "      <td>184349</td>\n",
       "    </tr>\n",
       "    <tr>\n",
       "      <th>Redbridge</th>\n",
       "      <td>20873</td>\n",
       "      <td>20837</td>\n",
       "      <td>20652</td>\n",
       "      <td>21994</td>\n",
       "      <td>21424</td>\n",
       "      <td>19793</td>\n",
       "      <td>19590</td>\n",
       "      <td>18897</td>\n",
       "      <td>19502</td>\n",
       "      <td>183562</td>\n",
       "    </tr>\n",
       "    <tr>\n",
       "      <th>Greenwich</th>\n",
       "      <td>22010</td>\n",
       "      <td>19851</td>\n",
       "      <td>18626</td>\n",
       "      <td>18552</td>\n",
       "      <td>20028</td>\n",
       "      <td>18948</td>\n",
       "      <td>19894</td>\n",
       "      <td>20929</td>\n",
       "      <td>22730</td>\n",
       "      <td>181568</td>\n",
       "    </tr>\n",
       "    <tr>\n",
       "      <th>Kensington and Chelsea</th>\n",
       "      <td>20663</td>\n",
       "      <td>18742</td>\n",
       "      <td>19481</td>\n",
       "      <td>19146</td>\n",
       "      <td>19757</td>\n",
       "      <td>17702</td>\n",
       "      <td>17840</td>\n",
       "      <td>19070</td>\n",
       "      <td>19580</td>\n",
       "      <td>171981</td>\n",
       "    </tr>\n",
       "    <tr>\n",
       "      <th>Barking and Dagenham</th>\n",
       "      <td>17656</td>\n",
       "      <td>17713</td>\n",
       "      <td>17130</td>\n",
       "      <td>16686</td>\n",
       "      <td>15990</td>\n",
       "      <td>15759</td>\n",
       "      <td>15426</td>\n",
       "      <td>16346</td>\n",
       "      <td>16741</td>\n",
       "      <td>149447</td>\n",
       "    </tr>\n",
       "    <tr>\n",
       "      <th>Havering</th>\n",
       "      <td>15395</td>\n",
       "      <td>14538</td>\n",
       "      <td>14957</td>\n",
       "      <td>15496</td>\n",
       "      <td>15965</td>\n",
       "      <td>15089</td>\n",
       "      <td>14734</td>\n",
       "      <td>15870</td>\n",
       "      <td>16903</td>\n",
       "      <td>138947</td>\n",
       "    </tr>\n",
       "    <tr>\n",
       "      <th>Harrow</th>\n",
       "      <td>13774</td>\n",
       "      <td>13948</td>\n",
       "      <td>13945</td>\n",
       "      <td>12801</td>\n",
       "      <td>12803</td>\n",
       "      <td>11914</td>\n",
       "      <td>11909</td>\n",
       "      <td>12601</td>\n",
       "      <td>13153</td>\n",
       "      <td>116848</td>\n",
       "    </tr>\n",
       "    <tr>\n",
       "      <th>Merton</th>\n",
       "      <td>13875</td>\n",
       "      <td>13561</td>\n",
       "      <td>13595</td>\n",
       "      <td>13548</td>\n",
       "      <td>12856</td>\n",
       "      <td>11595</td>\n",
       "      <td>11596</td>\n",
       "      <td>12273</td>\n",
       "      <td>12755</td>\n",
       "      <td>115654</td>\n",
       "    </tr>\n",
       "    <tr>\n",
       "      <th>Bexley</th>\n",
       "      <td>15305</td>\n",
       "      <td>14445</td>\n",
       "      <td>13166</td>\n",
       "      <td>11325</td>\n",
       "      <td>11669</td>\n",
       "      <td>11552</td>\n",
       "      <td>11844</td>\n",
       "      <td>11990</td>\n",
       "      <td>12840</td>\n",
       "      <td>114136</td>\n",
       "    </tr>\n",
       "    <tr>\n",
       "      <th>Sutton</th>\n",
       "      <td>12943</td>\n",
       "      <td>12240</td>\n",
       "      <td>12032</td>\n",
       "      <td>11068</td>\n",
       "      <td>10948</td>\n",
       "      <td>10057</td>\n",
       "      <td>10443</td>\n",
       "      <td>10598</td>\n",
       "      <td>10658</td>\n",
       "      <td>100987</td>\n",
       "    </tr>\n",
       "    <tr>\n",
       "      <th>Richmond upon Thames</th>\n",
       "      <td>11106</td>\n",
       "      <td>10618</td>\n",
       "      <td>10601</td>\n",
       "      <td>10896</td>\n",
       "      <td>11168</td>\n",
       "      <td>10439</td>\n",
       "      <td>10456</td>\n",
       "      <td>10413</td>\n",
       "      <td>11074</td>\n",
       "      <td>96771</td>\n",
       "    </tr>\n",
       "    <tr>\n",
       "      <th>Kingston upon Thames</th>\n",
       "      <td>10661</td>\n",
       "      <td>10163</td>\n",
       "      <td>10171</td>\n",
       "      <td>10155</td>\n",
       "      <td>9956</td>\n",
       "      <td>9191</td>\n",
       "      <td>9288</td>\n",
       "      <td>9738</td>\n",
       "      <td>9983</td>\n",
       "      <td>89306</td>\n",
       "    </tr>\n",
       "    <tr>\n",
       "      <th>City of London</th>\n",
       "      <td>0</td>\n",
       "      <td>0</td>\n",
       "      <td>0</td>\n",
       "      <td>69</td>\n",
       "      <td>157</td>\n",
       "      <td>110</td>\n",
       "      <td>115</td>\n",
       "      <td>151</td>\n",
       "      <td>178</td>\n",
       "      <td>780</td>\n",
       "    </tr>\n",
       "  </tbody>\n",
       "</table>\n",
       "</div>"
      ],
      "text/plain": [
       "                         2008   2009   2010   2011   2012   2013   2014  \\\n",
       "Westminster             47846  48456  48116  54243  59226  53852  47564   \n",
       "Lambeth                 31717  31225  31671  33224  33473  31868  31765   \n",
       "Southwark               33470  30623  31320  30723  30737  31128  28912   \n",
       "Camden                  32010  31612  31804  33956  31472  28435  27198   \n",
       "Newham                  29752  28610  30728  27978  30067  27577  28005   \n",
       "Croydon                 29516  29784  29373  29830  30189  27444  27357   \n",
       "Ealing                  28947  28617  31360  29537  28832  25917  24978   \n",
       "Islington               26273  25485  24693  24980  26268  23784  24679   \n",
       "Tower Hamlets           23578  21959  23072  24712  26784  26258  25504   \n",
       "Brent                   23504  24748  25512  27669  26357  23759  24426   \n",
       "Hackney                 22004  20718  20175  21395  27095  25633  24893   \n",
       "Lewisham                27054  25182  24532  24201  23652  22074  21101   \n",
       "Haringey                25724  23704  22156  23179  23231  20705  22773   \n",
       "Barnet                  23944  23449  23416  24007  23573  22510  22572   \n",
       "Hillingdon              24318  24605  23421  24282  22103  20248  23128   \n",
       "Wandsworth              23330  23021  22815  21384  24457  22290  21364   \n",
       "Waltham Forest          24080  24761  24818  23714  22647  21903  20271   \n",
       "Enfield                 21980  21147  20808  21041  21069  21574  21700   \n",
       "Hounslow                20204  19783  19665  21105  22724  19749  20005   \n",
       "Hammersmith and Fulham  21114  21211  21941  22151  21030  18605  19185   \n",
       "Bromley                 24015  21858  19572  19868  19622  18945  19668   \n",
       "Redbridge               20873  20837  20652  21994  21424  19793  19590   \n",
       "Greenwich               22010  19851  18626  18552  20028  18948  19894   \n",
       "Kensington and Chelsea  20663  18742  19481  19146  19757  17702  17840   \n",
       "Barking and Dagenham    17656  17713  17130  16686  15990  15759  15426   \n",
       "Havering                15395  14538  14957  15496  15965  15089  14734   \n",
       "Harrow                  13774  13948  13945  12801  12803  11914  11909   \n",
       "Merton                  13875  13561  13595  13548  12856  11595  11596   \n",
       "Bexley                  15305  14445  13166  11325  11669  11552  11844   \n",
       "Sutton                  12943  12240  12032  11068  10948  10057  10443   \n",
       "Richmond upon Thames    11106  10618  10601  10896  11168  10439  10456   \n",
       "Kingston upon Thames    10661  10163  10171  10155   9956   9191   9288   \n",
       "City of London              0      0      0     69    157    110    115   \n",
       "\n",
       "                         2015   2016   Total  \n",
       "Westminster             47395  48330  455028  \n",
       "Lambeth                 33164  34071  292178  \n",
       "Southwark               30260  31636  278809  \n",
       "Camden                  29477  29183  275147  \n",
       "Newham                  29217  30090  262024  \n",
       "Croydon                 28089  28712  260294  \n",
       "Ealing                  26247  27127  251562  \n",
       "Islington               27032  27092  230286  \n",
       "Tower Hamlets           27493  29253  228613  \n",
       "Brent                   24883  26693  227551  \n",
       "Hackney                 26941  28265  217119  \n",
       "Lewisham                23437  23904  215137  \n",
       "Haringey                24626  27174  213272  \n",
       "Barnet                  24036  24684  212191  \n",
       "Hillingdon              23234  24341  209680  \n",
       "Wandsworth              22401  23679  204741  \n",
       "Waltham Forest          20969  20716  203879  \n",
       "Enfield                 22076  22485  193880  \n",
       "Hounslow                21286  22251  186772  \n",
       "Hammersmith and Fulham  19848  20174  185259  \n",
       "Bromley                 20637  20164  184349  \n",
       "Redbridge               18897  19502  183562  \n",
       "Greenwich               20929  22730  181568  \n",
       "Kensington and Chelsea  19070  19580  171981  \n",
       "Barking and Dagenham    16346  16741  149447  \n",
       "Havering                15870  16903  138947  \n",
       "Harrow                  12601  13153  116848  \n",
       "Merton                  12273  12755  115654  \n",
       "Bexley                  11990  12840  114136  \n",
       "Sutton                  10598  10658  100987  \n",
       "Richmond upon Thames    10413  11074   96771  \n",
       "Kingston upon Thames     9738   9983   89306  \n",
       "City of London            151    178     780  "
      ]
     },
     "execution_count": 15,
     "metadata": {},
     "output_type": "execute_result"
    }
   ],
   "source": [
    "data = {}\n",
    "for year in years:\n",
    "    # Ambil semua data pada tahun = 'year', grouping berdasarkan 'Wilayah', summing 'Jumlah Kasus'\n",
    "    wilayah_per_tahun = df[\n",
    "        df['Tahun'] == year\n",
    "    ].groupby('Wilayah')['Jumlah Kasus'].sum()\n",
    "    \n",
    "    # menyiapkan Series untuk kebutuhan dataframe\n",
    "    data[year] = pd.Series(\n",
    "        data=map(int, wilayah_per_tahun.reset_index()['Jumlah Kasus'].values),\n",
    "        index=wilayah_per_tahun.index\n",
    "    )\n",
    "\n",
    "# Membuat dataframe dengan 'Wilayah' sebagai index dan years sebagai columns\n",
    "data_wilayah_crime = pd.DataFrame(\n",
    "    columns=years,\n",
    "    index=df['Wilayah'].unique(),\n",
    "    data=data\n",
    ")\n",
    "\n",
    "data_wilayah_crime['Total'] = data_wilayah_crime[years].sum(axis=1)\n",
    "\n",
    "data_wilayah_crime.sort_values(by='Total',ascending=False, inplace=True)\n",
    "\n",
    "data_wilayah_crime"
   ]
  },
  {
   "cell_type": "markdown",
   "metadata": {},
   "source": [
    "## Visualizing Data using Matplotlib<a id=\"8\"></a>\n",
    "\n",
    "### Matplotlib: Standard Python Visualization Library<a id=\"10\"></a>\n",
    "\n",
    "The primary plotting library we will explore in the course is [Matplotlib](http://matplotlib.org/).  As mentioned on their website: \n",
    ">Matplotlib is a Python 2D plotting library which produces publication quality figures in a variety of hardcopy formats and interactive environments across platforms. Matplotlib can be used in Python scripts, the Python and IPython shell, the jupyter notebook, web application servers, and four graphical user interface toolkits.\n",
    "\n",
    "If you are aspiring to create impactful visualization with python, Matplotlib is an essential tool to have at your disposal.\n",
    "\n",
    "**Matplotlib.Pyplot**\n",
    "\n",
    "One of the core aspects of Matplotlib is `matplotlib.pyplot`.\n",
    "\n",
    "Let's start by importing `Matplotlib` and `Matplotlib.pyplot` as follows:"
   ]
  },
  {
   "cell_type": "code",
   "execution_count": 16,
   "metadata": {},
   "outputs": [],
   "source": [
    "# we are using the inline backend\n",
    "%matplotlib inline \n",
    "\n",
    "import matplotlib as mpl\n",
    "import matplotlib.pyplot as plt"
   ]
  },
  {
   "cell_type": "code",
   "execution_count": 17,
   "metadata": {},
   "outputs": [],
   "source": [
    "mpl.style.use(['ggplot']) # optional: for ggplot-like style"
   ]
  },
  {
   "cell_type": "markdown",
   "metadata": {},
   "source": [
    "## Area Pots (Series/Dataframe) <a id=\"12\"></a>\n",
    "\n",
    "**What is a line plot and why use it?**\n",
    "\n",
    "An Area chart or area plot is a type of plot which displays information as a series of data points called 'markers' connected by straight line segments. It is a basic type of chart common in many fields. Use line plot when you have a continuous data set. These are best suited for trend-based visualizations of data over a period of time.\n",
    "\n",
    "**Questions:**\n",
    "\n",
    "Bagaimana trend jumlah kasus kejahatan setiap kategori mayor setiap tahunnya (2008-2016)?"
   ]
  },
  {
   "cell_type": "code",
   "execution_count": 18,
   "metadata": {},
   "outputs": [
    {
     "data": {
      "image/png": "[encoded data removed]",
      "text/plain": [
       "<Figure size 1152x576 with 1 Axes>"
      ]
     },
     "metadata": {},
     "output_type": "display_data"
    }
   ],
   "source": [
    "# Write your function below\n",
    "\n",
    "# Graded-Funtion Begin (~1 Lines)\n",
    "ax = data_criminal_per_year.transpose().iloc[:-1,:].plot(kind='area',\n",
    "                           figsize=(16,8),\n",
    "                            stacked=False,\n",
    "                            alpha=0.4,\n",
    "                            cmap='Spectral')\n",
    "\n",
    "ax.set_title('Trend Jumlah Kasus Kejahatan Mayor per Tahun',fontsize=16)\n",
    "ax.set_ylabel('Jumlah Kasus')\n",
    "ax.set_xlabel('Tahun')\n",
    "ax.legend(loc='lower right')\n",
    "\n",
    "plt.show()"
   ]
  },
  {
   "cell_type": "markdown",
   "metadata": {},
   "source": [
    "**Insight:**\n",
    "\n",
    "- Kejahatan mayor yang paling banyak terjadi adalah 'Theft and Handling'.\n",
    "- Ada peningkatan jumlah kejahatan 'Violence Against the Person' mulai tahin 2014 sampai 2016."
   ]
  },
  {
   "cell_type": "code",
   "execution_count": 19,
   "metadata": {},
   "outputs": [
    {
     "data": {
      "text/plain": [
       "<function matplotlib.pyplot.show(close=None, block=None)>"
      ]
     },
     "execution_count": 19,
     "metadata": {},
     "output_type": "execute_result"
    },
    {
     "data": {
      "image/png": "[encoded data removed]",
      "text/plain": [
       "<Figure size 720x360 with 1 Axes>"
      ]
     },
     "metadata": {},
     "output_type": "display_data"
    }
   ],
   "source": [
    "total_data_crime_per_year = df[['Jumlah Kasus', 'Tahun']].groupby(by='Tahun').sum()\n",
    "total_data_crime_per_year.plot(figsize=(10,5))\n",
    "plt.title('Trend Total Kejahatan Mayor periode 2008 - 2016')\n",
    "plt.xlabel('Tahun')\n",
    "plt.ylabel('Jumlah Kasus')\n",
    "plt.legend(loc='lower right')\n",
    "plt.show"
   ]
  },
  {
   "cell_type": "markdown",
   "metadata": {},
   "source": [
    "**Insight:**\n",
    "\n",
    "- Jumlah kasus tertinggi ada pada tahun 2008.\n",
    "- Terjadi penurunan kasus tertinggi yaitu pada tahun 2013. Namun pada rentang 2014-2016 jumlah kasus kembali naik secara signifikan."
   ]
  },
  {
   "cell_type": "markdown",
   "metadata": {},
   "source": [
    "## Histogram\n",
    "\n",
    "A histogram is a way of representing the frequency distribution of numeric dataset. The way it works is it partitions the x-axis into bins, assigns each data point in our dataset to a bin, and then counts the number of data points that have been assigned to each bin. So the y-axis is the frequency or the number of data points in each bin. Note that we can change the bin size and usually one needs to tweak it so that the distribution is displayed nicely.\n",
    "\n",
    "**Question:**\n",
    "\n",
    "(Make your own questions)"
   ]
  },
  {
   "cell_type": "code",
   "execution_count": 20,
   "metadata": {},
   "outputs": [
    {
     "data": {
      "text/html": [
       "<div>\n",
       "<style scoped>\n",
       "    .dataframe tbody tr th:only-of-type {\n",
       "        vertical-align: middle;\n",
       "    }\n",
       "\n",
       "    .dataframe tbody tr th {\n",
       "        vertical-align: top;\n",
       "    }\n",
       "\n",
       "    .dataframe thead th {\n",
       "        text-align: right;\n",
       "    }\n",
       "</style>\n",
       "<table border=\"1\" class=\"dataframe\">\n",
       "  <thead>\n",
       "    <tr style=\"text-align: right;\">\n",
       "      <th></th>\n",
       "      <th>2008</th>\n",
       "      <th>2009</th>\n",
       "      <th>2010</th>\n",
       "      <th>2011</th>\n",
       "      <th>2012</th>\n",
       "      <th>2013</th>\n",
       "      <th>2014</th>\n",
       "      <th>2015</th>\n",
       "      <th>2016</th>\n",
       "      <th>Total</th>\n",
       "    </tr>\n",
       "  </thead>\n",
       "  <tbody>\n",
       "    <tr>\n",
       "      <th>Westminster</th>\n",
       "      <td>47846</td>\n",
       "      <td>48456</td>\n",
       "      <td>48116</td>\n",
       "      <td>54243</td>\n",
       "      <td>59226</td>\n",
       "      <td>53852</td>\n",
       "      <td>47564</td>\n",
       "      <td>47395</td>\n",
       "      <td>48330</td>\n",
       "      <td>455028</td>\n",
       "    </tr>\n",
       "    <tr>\n",
       "      <th>Lambeth</th>\n",
       "      <td>31717</td>\n",
       "      <td>31225</td>\n",
       "      <td>31671</td>\n",
       "      <td>33224</td>\n",
       "      <td>33473</td>\n",
       "      <td>31868</td>\n",
       "      <td>31765</td>\n",
       "      <td>33164</td>\n",
       "      <td>34071</td>\n",
       "      <td>292178</td>\n",
       "    </tr>\n",
       "    <tr>\n",
       "      <th>Southwark</th>\n",
       "      <td>33470</td>\n",
       "      <td>30623</td>\n",
       "      <td>31320</td>\n",
       "      <td>30723</td>\n",
       "      <td>30737</td>\n",
       "      <td>31128</td>\n",
       "      <td>28912</td>\n",
       "      <td>30260</td>\n",
       "      <td>31636</td>\n",
       "      <td>278809</td>\n",
       "    </tr>\n",
       "    <tr>\n",
       "      <th>Camden</th>\n",
       "      <td>32010</td>\n",
       "      <td>31612</td>\n",
       "      <td>31804</td>\n",
       "      <td>33956</td>\n",
       "      <td>31472</td>\n",
       "      <td>28435</td>\n",
       "      <td>27198</td>\n",
       "      <td>29477</td>\n",
       "      <td>29183</td>\n",
       "      <td>275147</td>\n",
       "    </tr>\n",
       "    <tr>\n",
       "      <th>Newham</th>\n",
       "      <td>29752</td>\n",
       "      <td>28610</td>\n",
       "      <td>30728</td>\n",
       "      <td>27978</td>\n",
       "      <td>30067</td>\n",
       "      <td>27577</td>\n",
       "      <td>28005</td>\n",
       "      <td>29217</td>\n",
       "      <td>30090</td>\n",
       "      <td>262024</td>\n",
       "    </tr>\n",
       "  </tbody>\n",
       "</table>\n",
       "</div>"
      ],
      "text/plain": [
       "              2008   2009   2010   2011   2012   2013   2014   2015   2016  \\\n",
       "Westminster  47846  48456  48116  54243  59226  53852  47564  47395  48330   \n",
       "Lambeth      31717  31225  31671  33224  33473  31868  31765  33164  34071   \n",
       "Southwark    33470  30623  31320  30723  30737  31128  28912  30260  31636   \n",
       "Camden       32010  31612  31804  33956  31472  28435  27198  29477  29183   \n",
       "Newham       29752  28610  30728  27978  30067  27577  28005  29217  30090   \n",
       "\n",
       "              Total  \n",
       "Westminster  455028  \n",
       "Lambeth      292178  \n",
       "Southwark    278809  \n",
       "Camden       275147  \n",
       "Newham       262024  "
      ]
     },
     "execution_count": 20,
     "metadata": {},
     "output_type": "execute_result"
    }
   ],
   "source": [
    "data_wilayah_crime.head()"
   ]
  },
  {
   "cell_type": "code",
   "execution_count": 21,
   "metadata": {},
   "outputs": [
    {
     "data": {
      "image/png": "[encoded data removed]",
      "text/plain": [
       "<Figure size 720x432 with 1 Axes>"
      ]
     },
     "metadata": {},
     "output_type": "display_data"
    }
   ],
   "source": [
    "plt.figure(figsize=(10,6))\n",
    "sns.histplot(data_wilayah_crime[2008],kde=True)\n",
    "plt.title('Distribusi Total Kasus di Setiap Wilayah pada Tahun 2008')\n",
    "plt.xlabel('Jumlah Kasus')\n",
    "plt.ylabel('Jumlah Wilayah')\n",
    "plt.show()"
   ]
  },
  {
   "cell_type": "markdown",
   "metadata": {},
   "source": [
    "**Insight:**\n",
    "\n",
    "- Grafik Histogram di atas menunjukkan distribusi total kasus di setiap wilayah pada tahun 2008.\n",
    "- Grafik histogram berupa distribusi normal.\n",
    "- Nilai rata-rata di kisaran 22.000 - 27.000.\n"
   ]
  },
  {
   "cell_type": "markdown",
   "metadata": {},
   "source": [
    "## Bar Charts (Dataframe) <a id=\"10\"></a>\n",
    "\n",
    "A bar plot is a way of representing data where the *length* of the bars represents the magnitude/size of the feature/variable. Bar graphs usually represent numerical and categorical variables grouped in intervals. \n",
    "\n",
    "To create a bar plot, we can pass one of two arguments via `kind` parameter in `plot()`:\n",
    "\n",
    "* `kind=bar` creates a *vertical* bar plot\n",
    "* `kind=barh` creates a *horizontal* bar plot\n",
    "\n",
    "**Question:**\n",
    "\n",
    "- Wilayah dengan total kasus kejahatan tertinggi? Bagaimana trend nya?\n",
    "- Wilayah dengan total kasus kejahatan terendah? Bagaimana trend nya?"
   ]
  },
  {
   "cell_type": "code",
   "execution_count": 22,
   "metadata": {},
   "outputs": [
    {
     "data": {
      "text/html": [
       "<div>\n",
       "<style scoped>\n",
       "    .dataframe tbody tr th:only-of-type {\n",
       "        vertical-align: middle;\n",
       "    }\n",
       "\n",
       "    .dataframe tbody tr th {\n",
       "        vertical-align: top;\n",
       "    }\n",
       "\n",
       "    .dataframe thead th {\n",
       "        text-align: right;\n",
       "    }\n",
       "</style>\n",
       "<table border=\"1\" class=\"dataframe\">\n",
       "  <thead>\n",
       "    <tr style=\"text-align: right;\">\n",
       "      <th></th>\n",
       "      <th>2008</th>\n",
       "      <th>2009</th>\n",
       "      <th>2010</th>\n",
       "      <th>2011</th>\n",
       "      <th>2012</th>\n",
       "      <th>2013</th>\n",
       "      <th>2014</th>\n",
       "      <th>2015</th>\n",
       "      <th>2016</th>\n",
       "      <th>Total</th>\n",
       "    </tr>\n",
       "  </thead>\n",
       "  <tbody>\n",
       "    <tr>\n",
       "      <th>Westminster</th>\n",
       "      <td>47846</td>\n",
       "      <td>48456</td>\n",
       "      <td>48116</td>\n",
       "      <td>54243</td>\n",
       "      <td>59226</td>\n",
       "      <td>53852</td>\n",
       "      <td>47564</td>\n",
       "      <td>47395</td>\n",
       "      <td>48330</td>\n",
       "      <td>455028</td>\n",
       "    </tr>\n",
       "    <tr>\n",
       "      <th>Lambeth</th>\n",
       "      <td>31717</td>\n",
       "      <td>31225</td>\n",
       "      <td>31671</td>\n",
       "      <td>33224</td>\n",
       "      <td>33473</td>\n",
       "      <td>31868</td>\n",
       "      <td>31765</td>\n",
       "      <td>33164</td>\n",
       "      <td>34071</td>\n",
       "      <td>292178</td>\n",
       "    </tr>\n",
       "    <tr>\n",
       "      <th>Southwark</th>\n",
       "      <td>33470</td>\n",
       "      <td>30623</td>\n",
       "      <td>31320</td>\n",
       "      <td>30723</td>\n",
       "      <td>30737</td>\n",
       "      <td>31128</td>\n",
       "      <td>28912</td>\n",
       "      <td>30260</td>\n",
       "      <td>31636</td>\n",
       "      <td>278809</td>\n",
       "    </tr>\n",
       "    <tr>\n",
       "      <th>Camden</th>\n",
       "      <td>32010</td>\n",
       "      <td>31612</td>\n",
       "      <td>31804</td>\n",
       "      <td>33956</td>\n",
       "      <td>31472</td>\n",
       "      <td>28435</td>\n",
       "      <td>27198</td>\n",
       "      <td>29477</td>\n",
       "      <td>29183</td>\n",
       "      <td>275147</td>\n",
       "    </tr>\n",
       "    <tr>\n",
       "      <th>Newham</th>\n",
       "      <td>29752</td>\n",
       "      <td>28610</td>\n",
       "      <td>30728</td>\n",
       "      <td>27978</td>\n",
       "      <td>30067</td>\n",
       "      <td>27577</td>\n",
       "      <td>28005</td>\n",
       "      <td>29217</td>\n",
       "      <td>30090</td>\n",
       "      <td>262024</td>\n",
       "    </tr>\n",
       "  </tbody>\n",
       "</table>\n",
       "</div>"
      ],
      "text/plain": [
       "              2008   2009   2010   2011   2012   2013   2014   2015   2016  \\\n",
       "Westminster  47846  48456  48116  54243  59226  53852  47564  47395  48330   \n",
       "Lambeth      31717  31225  31671  33224  33473  31868  31765  33164  34071   \n",
       "Southwark    33470  30623  31320  30723  30737  31128  28912  30260  31636   \n",
       "Camden       32010  31612  31804  33956  31472  28435  27198  29477  29183   \n",
       "Newham       29752  28610  30728  27978  30067  27577  28005  29217  30090   \n",
       "\n",
       "              Total  \n",
       "Westminster  455028  \n",
       "Lambeth      292178  \n",
       "Southwark    278809  \n",
       "Camden       275147  \n",
       "Newham       262024  "
      ]
     },
     "execution_count": 22,
     "metadata": {},
     "output_type": "execute_result"
    }
   ],
   "source": [
    "data_wilayah_crime.head()"
   ]
  },
  {
   "cell_type": "code",
   "execution_count": 23,
   "metadata": {},
   "outputs": [
    {
     "data": {
      "image/png": "[encoded data removed]",
      "text/plain": [
       "<Figure size 864x432 with 1 Axes>"
      ]
     },
     "metadata": {},
     "output_type": "display_data"
    }
   ],
   "source": [
    "wil = data_wilayah_crime[years].head().transpose().plot(\n",
    "    kind='bar',figsize=(12,6),cmap='coolwarm')\n",
    "\n",
    "wil.set_title('Trend jumlah kejahatan di 5 Kota dengan total kejahatan tertinggi',\n",
    "             fontsize=16)\n",
    "wil.set_xlabel('Tahun', fontsize=12)\n",
    "wil.set_ylabel('Jumlah Kejahatan', fontsize=12)\n",
    "wil.legend(loc='upper left')\n",
    "\n",
    "plt.show()"
   ]
  },
  {
   "cell_type": "code",
   "execution_count": 24,
   "metadata": {},
   "outputs": [
    {
     "data": {
      "image/png": "[encoded data removed]",
      "text/plain": [
       "<Figure size 864x432 with 1 Axes>"
      ]
     },
     "metadata": {},
     "output_type": "display_data"
    }
   ],
   "source": [
    "wil = data_wilayah_crime[years].tail().transpose().plot(\n",
    "    kind='bar',figsize=(12,6),cmap='coolwarm')\n",
    "\n",
    "wil.set_title('Trend jumlah kejahatan di 5 Kota dengan total kejahatan tertinggi',\n",
    "             fontsize=16)\n",
    "wil.set_xlabel('Tahun', fontsize=12)\n",
    "wil.set_ylabel('Jumlah Kejahatan', fontsize=12)\n",
    "wil.legend(loc='lower left')\n",
    "\n",
    "plt.show()"
   ]
  },
  {
   "cell_type": "markdown",
   "metadata": {},
   "source": [
    "**Insight:**\n",
    "\n",
    "- Westminster menjadi wilayah dengan total kejahatan tertinggi. Bahkan jauh lebih tinggi daripada wilayah lain pada setiap tahunnya.\n",
    "- City of Londong menjadi wilayah dengan total kejahatan terendah. trend setiap tahunnya pun, kejahatan di City of London selalu yang paling rendah."
   ]
  },
  {
   "cell_type": "code",
   "execution_count": 25,
   "metadata": {
    "scrolled": false
   },
   "outputs": [
    {
     "name": "stderr",
     "output_type": "stream",
     "text": [
      "/var/folders/qd/sxt36t697f1gv6dnyy0_qjkr0000gn/T/ipykernel_1214/4114492952.py:1: SettingWithCopyWarning: \n",
      "A value is trying to be set on a copy of a slice from a DataFrame\n",
      "\n",
      "See the caveats in the documentation: https://pandas.pydata.org/pandas-docs/stable/user_guide/indexing.html#returning-a-view-versus-a-copy\n",
      "  criminal['Bulan'].replace({1:'Jan',\n"
     ]
    },
    {
     "data": {
      "image/png": "[encoded data removed]",
      "text/plain": [
       "<Figure size 432x288 with 1 Axes>"
      ]
     },
     "metadata": {},
     "output_type": "display_data"
    }
   ],
   "source": [
    "criminal['Bulan'].replace({1:'Jan',\n",
    "                          2:'Feb',\n",
    "                          3:'Mar',\n",
    "                          4:'Apr',\n",
    "                          5:'May',\n",
    "                          6:'Jun',\n",
    "                          7:'Jul',\n",
    "                          8:'Aug',\n",
    "                          9:'Sep',\n",
    "                          10:'Oct',\n",
    "                          11:'Nov',\n",
    "                          12:'Dec'}, inplace=True)\n",
    "\n",
    "crime_per_month = criminal[['Jumlah Kasus','Bulan']].groupby('Bulan').sum()\n",
    "\n",
    "plt.bar(x=crime_per_month.index,height=crime_per_month['Jumlah Kasus'])\n",
    "plt.title('Total Jumlah Kasus dalam setiap Bulan',fontsize=18)\n",
    "plt.xlabel('Bulan')\n",
    "plt.ylabel('Jumlah Kasus')\n",
    "\n",
    "plt.show()"
   ]
  },
  {
   "cell_type": "markdown",
   "metadata": {},
   "source": [
    "**Insight:**\n",
    "\n",
    "- Rata-rata total jumlah kasus per bulan berada di kisaran 175.000 kejadian."
   ]
  },
  {
   "cell_type": "markdown",
   "metadata": {},
   "source": [
    "## Pie Charts <a id=\"6\"></a>\n",
    "\n",
    "A `pie chart` is a circualr graphic that displays numeric proportions by dividing a circle (or pie) into proportional slices. You are most likely already familiar with pie charts as it is widely used in business and media. We can create pie charts in Matplotlib by passing in the `kind=pie` keyword.\n",
    "\n",
    "**Question:**\n",
    "\n",
    "(Make your own questions)"
   ]
  },
  {
   "cell_type": "code",
   "execution_count": 26,
   "metadata": {},
   "outputs": [
    {
     "data": {
      "text/html": [
       "<div>\n",
       "<style scoped>\n",
       "    .dataframe tbody tr th:only-of-type {\n",
       "        vertical-align: middle;\n",
       "    }\n",
       "\n",
       "    .dataframe tbody tr th {\n",
       "        vertical-align: top;\n",
       "    }\n",
       "\n",
       "    .dataframe thead th {\n",
       "        text-align: right;\n",
       "    }\n",
       "</style>\n",
       "<table border=\"1\" class=\"dataframe\">\n",
       "  <thead>\n",
       "    <tr style=\"text-align: right;\">\n",
       "      <th></th>\n",
       "      <th>Jumlah Kasus</th>\n",
       "    </tr>\n",
       "    <tr>\n",
       "      <th>Kejahatan Mayor</th>\n",
       "      <th></th>\n",
       "    </tr>\n",
       "  </thead>\n",
       "  <tbody>\n",
       "    <tr>\n",
       "      <th>Theft and Handling</th>\n",
       "      <td>2661861</td>\n",
       "    </tr>\n",
       "    <tr>\n",
       "      <th>Violence Against the Person</th>\n",
       "      <td>1558081</td>\n",
       "    </tr>\n",
       "    <tr>\n",
       "      <th>Burglary</th>\n",
       "      <td>754293</td>\n",
       "    </tr>\n",
       "    <tr>\n",
       "      <th>Criminal Damage</th>\n",
       "      <td>630938</td>\n",
       "    </tr>\n",
       "    <tr>\n",
       "      <th>Drugs</th>\n",
       "      <td>470765</td>\n",
       "    </tr>\n",
       "    <tr>\n",
       "      <th>Robbery</th>\n",
       "      <td>258873</td>\n",
       "    </tr>\n",
       "    <tr>\n",
       "      <th>Other Notifiable Offences</th>\n",
       "      <td>106349</td>\n",
       "    </tr>\n",
       "    <tr>\n",
       "      <th>Fraud or Forgery</th>\n",
       "      <td>5325</td>\n",
       "    </tr>\n",
       "    <tr>\n",
       "      <th>Sexual Offences</th>\n",
       "      <td>1273</td>\n",
       "    </tr>\n",
       "  </tbody>\n",
       "</table>\n",
       "</div>"
      ],
      "text/plain": [
       "                             Jumlah Kasus\n",
       "Kejahatan Mayor                          \n",
       "Theft and Handling                2661861\n",
       "Violence Against the Person       1558081\n",
       "Burglary                           754293\n",
       "Criminal Damage                    630938\n",
       "Drugs                              470765\n",
       "Robbery                            258873\n",
       "Other Notifiable Offences          106349\n",
       "Fraud or Forgery                     5325\n",
       "Sexual Offences                      1273"
      ]
     },
     "execution_count": 26,
     "metadata": {},
     "output_type": "execute_result"
    }
   ],
   "source": [
    "df_major = df.groupby('Kejahatan Mayor', axis=0).sum()\n",
    "df_major.drop(['Tahun','Bulan'],axis=1,inplace=True)\n",
    "df_major.sort_values(by='Jumlah Kasus',ascending=False,inplace=True)\n",
    "df_major"
   ]
  },
  {
   "cell_type": "code",
   "execution_count": 27,
   "metadata": {},
   "outputs": [
    {
     "name": "stderr",
     "output_type": "stream",
     "text": [
      "No artists with labels found to put in legend.  Note that artists whose label start with an underscore are ignored when legend() is called with no argument.\n"
     ]
    },
    {
     "data": {
      "image/png": "[encoded data removed]",
      "text/plain": [
       "<Figure size 1080x720 with 1 Axes>"
      ]
     },
     "metadata": {},
     "output_type": "display_data"
    }
   ],
   "source": [
    "# Write your function below\n",
    "\n",
    "# ratio for each continent with which to offset each wedge.\n",
    "explode_list = [0.1, 0, 0, 0, 0, 0, 0, 0.1, 0.1]\n",
    "\n",
    "# Graded-Funtion Begin (~8 Lines)\n",
    "df_major.plot(kind='pie',\n",
    "              figsize=(15, 10),\n",
    "              autopct='%1.1f%%',\n",
    "              startangle=90,\n",
    "              shadow=True,\n",
    "              labels=None,\n",
    "              pctdistance=1.12,\n",
    "              explode=explode_list,\n",
    "              subplots=True,\n",
    "              cmap='prism'\n",
    "             )\n",
    "# Graded-Funtion End\n",
    "\n",
    "# scale the title up by 12% to match pctdistance\n",
    "plt.title('Persentase kasus kejahatan mayor', y=1.12,fontsize=20)\n",
    "plt.ylabel('Total', fontsize=16)\n",
    "plt.axis('equal')\n",
    "\n",
    "# add legend\n",
    "plt.legend(labels=df_major.index, loc='upper left')\n",
    "\n",
    "plt.show()"
   ]
  },
  {
   "cell_type": "markdown",
   "metadata": {},
   "source": [
    "**Insight:**\n",
    "\n",
    "Tiga kejahatan dengan persentase tertinggi:\n",
    "- Theft and handling (41,3%)\n",
    "- Violence against the person (24,2%)\n",
    "- Bulglary (11,7%)"
   ]
  },
  {
   "cell_type": "markdown",
   "metadata": {},
   "source": [
    "## Box Plots <a id=\"8\"></a>\n",
    "\n",
    "A `box plot` is a way of statistically representing the *distribution* of the data through five main dimensions: \n",
    "\n",
    "- **Minimun:** Smallest number in the dataset.\n",
    "- **First quartile:** Middle number between the `minimum` and the `median`.\n",
    "- **Second quartile (Median):** Middle number of the (sorted) dataset.\n",
    "- **Third quartile:** Middle number between `median` and `maximum`.\n",
    "- **Maximum:** Highest number in the dataset.\n",
    "\n",
    "**Question:**\n",
    "\n",
    "Bagaimana distribusi total kasus kejahatan di setiap wilayah?"
   ]
  },
  {
   "cell_type": "code",
   "execution_count": 28,
   "metadata": {},
   "outputs": [
    {
     "data": {
      "text/html": [
       "<div>\n",
       "<style scoped>\n",
       "    .dataframe tbody tr th:only-of-type {\n",
       "        vertical-align: middle;\n",
       "    }\n",
       "\n",
       "    .dataframe tbody tr th {\n",
       "        vertical-align: top;\n",
       "    }\n",
       "\n",
       "    .dataframe thead th {\n",
       "        text-align: right;\n",
       "    }\n",
       "</style>\n",
       "<table border=\"1\" class=\"dataframe\">\n",
       "  <thead>\n",
       "    <tr style=\"text-align: right;\">\n",
       "      <th></th>\n",
       "      <th>2008</th>\n",
       "      <th>2009</th>\n",
       "      <th>2010</th>\n",
       "      <th>2011</th>\n",
       "      <th>2012</th>\n",
       "      <th>2013</th>\n",
       "      <th>2014</th>\n",
       "      <th>2015</th>\n",
       "      <th>2016</th>\n",
       "      <th>Total</th>\n",
       "    </tr>\n",
       "  </thead>\n",
       "  <tbody>\n",
       "    <tr>\n",
       "      <th>Westminster</th>\n",
       "      <td>47846</td>\n",
       "      <td>48456</td>\n",
       "      <td>48116</td>\n",
       "      <td>54243</td>\n",
       "      <td>59226</td>\n",
       "      <td>53852</td>\n",
       "      <td>47564</td>\n",
       "      <td>47395</td>\n",
       "      <td>48330</td>\n",
       "      <td>455028</td>\n",
       "    </tr>\n",
       "    <tr>\n",
       "      <th>Lambeth</th>\n",
       "      <td>31717</td>\n",
       "      <td>31225</td>\n",
       "      <td>31671</td>\n",
       "      <td>33224</td>\n",
       "      <td>33473</td>\n",
       "      <td>31868</td>\n",
       "      <td>31765</td>\n",
       "      <td>33164</td>\n",
       "      <td>34071</td>\n",
       "      <td>292178</td>\n",
       "    </tr>\n",
       "    <tr>\n",
       "      <th>Southwark</th>\n",
       "      <td>33470</td>\n",
       "      <td>30623</td>\n",
       "      <td>31320</td>\n",
       "      <td>30723</td>\n",
       "      <td>30737</td>\n",
       "      <td>31128</td>\n",
       "      <td>28912</td>\n",
       "      <td>30260</td>\n",
       "      <td>31636</td>\n",
       "      <td>278809</td>\n",
       "    </tr>\n",
       "    <tr>\n",
       "      <th>Camden</th>\n",
       "      <td>32010</td>\n",
       "      <td>31612</td>\n",
       "      <td>31804</td>\n",
       "      <td>33956</td>\n",
       "      <td>31472</td>\n",
       "      <td>28435</td>\n",
       "      <td>27198</td>\n",
       "      <td>29477</td>\n",
       "      <td>29183</td>\n",
       "      <td>275147</td>\n",
       "    </tr>\n",
       "    <tr>\n",
       "      <th>Newham</th>\n",
       "      <td>29752</td>\n",
       "      <td>28610</td>\n",
       "      <td>30728</td>\n",
       "      <td>27978</td>\n",
       "      <td>30067</td>\n",
       "      <td>27577</td>\n",
       "      <td>28005</td>\n",
       "      <td>29217</td>\n",
       "      <td>30090</td>\n",
       "      <td>262024</td>\n",
       "    </tr>\n",
       "  </tbody>\n",
       "</table>\n",
       "</div>"
      ],
      "text/plain": [
       "              2008   2009   2010   2011   2012   2013   2014   2015   2016  \\\n",
       "Westminster  47846  48456  48116  54243  59226  53852  47564  47395  48330   \n",
       "Lambeth      31717  31225  31671  33224  33473  31868  31765  33164  34071   \n",
       "Southwark    33470  30623  31320  30723  30737  31128  28912  30260  31636   \n",
       "Camden       32010  31612  31804  33956  31472  28435  27198  29477  29183   \n",
       "Newham       29752  28610  30728  27978  30067  27577  28005  29217  30090   \n",
       "\n",
       "              Total  \n",
       "Westminster  455028  \n",
       "Lambeth      292178  \n",
       "Southwark    278809  \n",
       "Camden       275147  \n",
       "Newham       262024  "
      ]
     },
     "execution_count": 28,
     "metadata": {},
     "output_type": "execute_result"
    }
   ],
   "source": [
    "data_wilayah_crime.head()"
   ]
  },
  {
   "cell_type": "code",
   "execution_count": 29,
   "metadata": {
    "scrolled": true
   },
   "outputs": [
    {
     "data": {
      "image/png": "[encoded data removed]",
      "text/plain": [
       "<Figure size 864x432 with 1 Axes>"
      ]
     },
     "metadata": {},
     "output_type": "display_data"
    }
   ],
   "source": [
    "# Write your function below\n",
    "\n",
    "data_wilayah_crime[years].plot(kind='box',figsize=(12,6),cmap='seismic')\n",
    "plt.title('Boxplot Distribusi Total Kasus Kejahatan di Setiap Wilayah',fontsize=16)\n",
    "plt.xlabel('Tahun')\n",
    "plt.ylabel('Jumlah Kasus')\n",
    "\n",
    "plt.show()"
   ]
  },
  {
   "cell_type": "code",
   "execution_count": 30,
   "metadata": {},
   "outputs": [
    {
     "data": {
      "text/html": [
       "<div>\n",
       "<style scoped>\n",
       "    .dataframe tbody tr th:only-of-type {\n",
       "        vertical-align: middle;\n",
       "    }\n",
       "\n",
       "    .dataframe tbody tr th {\n",
       "        vertical-align: top;\n",
       "    }\n",
       "\n",
       "    .dataframe thead th {\n",
       "        text-align: right;\n",
       "    }\n",
       "</style>\n",
       "<table border=\"1\" class=\"dataframe\">\n",
       "  <thead>\n",
       "    <tr style=\"text-align: right;\">\n",
       "      <th></th>\n",
       "      <th>2008</th>\n",
       "      <th>2009</th>\n",
       "      <th>2010</th>\n",
       "      <th>2011</th>\n",
       "      <th>2012</th>\n",
       "      <th>2013</th>\n",
       "      <th>2014</th>\n",
       "      <th>2015</th>\n",
       "      <th>2016</th>\n",
       "      <th>Total</th>\n",
       "    </tr>\n",
       "  </thead>\n",
       "  <tbody>\n",
       "    <tr>\n",
       "      <th>count</th>\n",
       "      <td>33.000000</td>\n",
       "      <td>33.000000</td>\n",
       "      <td>33.000000</td>\n",
       "      <td>33.000000</td>\n",
       "      <td>33.000000</td>\n",
       "      <td>33.000000</td>\n",
       "      <td>33.000000</td>\n",
       "      <td>33.000000</td>\n",
       "      <td>33.000000</td>\n",
       "      <td>33.000000</td>\n",
       "    </tr>\n",
       "    <tr>\n",
       "      <th>mean</th>\n",
       "      <td>22383.060606</td>\n",
       "      <td>21733.757576</td>\n",
       "      <td>21676.484848</td>\n",
       "      <td>21967.121212</td>\n",
       "      <td>22343.303030</td>\n",
       "      <td>20800.212121</td>\n",
       "      <td>20611.606061</td>\n",
       "      <td>21564.363636</td>\n",
       "      <td>22306.696970</td>\n",
       "      <td>195386.606061</td>\n",
       "    </tr>\n",
       "    <tr>\n",
       "      <th>std</th>\n",
       "      <td>8472.899684</td>\n",
       "      <td>8456.505277</td>\n",
       "      <td>8640.040332</td>\n",
       "      <td>9415.621198</td>\n",
       "      <td>9974.924813</td>\n",
       "      <td>9172.160418</td>\n",
       "      <td>8357.962573</td>\n",
       "      <td>8605.496648</td>\n",
       "      <td>8828.228749</td>\n",
       "      <td>79148.057551</td>\n",
       "    </tr>\n",
       "    <tr>\n",
       "      <th>min</th>\n",
       "      <td>0.000000</td>\n",
       "      <td>0.000000</td>\n",
       "      <td>0.000000</td>\n",
       "      <td>69.000000</td>\n",
       "      <td>157.000000</td>\n",
       "      <td>110.000000</td>\n",
       "      <td>115.000000</td>\n",
       "      <td>151.000000</td>\n",
       "      <td>178.000000</td>\n",
       "      <td>780.000000</td>\n",
       "    </tr>\n",
       "    <tr>\n",
       "      <th>25%</th>\n",
       "      <td>17656.000000</td>\n",
       "      <td>17713.000000</td>\n",
       "      <td>17130.000000</td>\n",
       "      <td>16686.000000</td>\n",
       "      <td>15990.000000</td>\n",
       "      <td>15759.000000</td>\n",
       "      <td>15426.000000</td>\n",
       "      <td>16346.000000</td>\n",
       "      <td>16903.000000</td>\n",
       "      <td>149447.000000</td>\n",
       "    </tr>\n",
       "    <tr>\n",
       "      <th>50%</th>\n",
       "      <td>23330.000000</td>\n",
       "      <td>21858.000000</td>\n",
       "      <td>21941.000000</td>\n",
       "      <td>21994.000000</td>\n",
       "      <td>22647.000000</td>\n",
       "      <td>20705.000000</td>\n",
       "      <td>21101.000000</td>\n",
       "      <td>22076.000000</td>\n",
       "      <td>22730.000000</td>\n",
       "      <td>203879.000000</td>\n",
       "    </tr>\n",
       "    <tr>\n",
       "      <th>75%</th>\n",
       "      <td>26273.000000</td>\n",
       "      <td>25182.000000</td>\n",
       "      <td>24818.000000</td>\n",
       "      <td>24980.000000</td>\n",
       "      <td>26784.000000</td>\n",
       "      <td>25633.000000</td>\n",
       "      <td>24893.000000</td>\n",
       "      <td>26941.000000</td>\n",
       "      <td>27174.000000</td>\n",
       "      <td>228613.000000</td>\n",
       "    </tr>\n",
       "    <tr>\n",
       "      <th>max</th>\n",
       "      <td>47846.000000</td>\n",
       "      <td>48456.000000</td>\n",
       "      <td>48116.000000</td>\n",
       "      <td>54243.000000</td>\n",
       "      <td>59226.000000</td>\n",
       "      <td>53852.000000</td>\n",
       "      <td>47564.000000</td>\n",
       "      <td>47395.000000</td>\n",
       "      <td>48330.000000</td>\n",
       "      <td>455028.000000</td>\n",
       "    </tr>\n",
       "  </tbody>\n",
       "</table>\n",
       "</div>"
      ],
      "text/plain": [
       "               2008          2009          2010          2011          2012  \\\n",
       "count     33.000000     33.000000     33.000000     33.000000     33.000000   \n",
       "mean   22383.060606  21733.757576  21676.484848  21967.121212  22343.303030   \n",
       "std     8472.899684   8456.505277   8640.040332   9415.621198   9974.924813   \n",
       "min        0.000000      0.000000      0.000000     69.000000    157.000000   \n",
       "25%    17656.000000  17713.000000  17130.000000  16686.000000  15990.000000   \n",
       "50%    23330.000000  21858.000000  21941.000000  21994.000000  22647.000000   \n",
       "75%    26273.000000  25182.000000  24818.000000  24980.000000  26784.000000   \n",
       "max    47846.000000  48456.000000  48116.000000  54243.000000  59226.000000   \n",
       "\n",
       "               2013          2014          2015          2016          Total  \n",
       "count     33.000000     33.000000     33.000000     33.000000      33.000000  \n",
       "mean   20800.212121  20611.606061  21564.363636  22306.696970  195386.606061  \n",
       "std     9172.160418   8357.962573   8605.496648   8828.228749   79148.057551  \n",
       "min      110.000000    115.000000    151.000000    178.000000     780.000000  \n",
       "25%    15759.000000  15426.000000  16346.000000  16903.000000  149447.000000  \n",
       "50%    20705.000000  21101.000000  22076.000000  22730.000000  203879.000000  \n",
       "75%    25633.000000  24893.000000  26941.000000  27174.000000  228613.000000  \n",
       "max    53852.000000  47564.000000  47395.000000  48330.000000  455028.000000  "
      ]
     },
     "execution_count": 30,
     "metadata": {},
     "output_type": "execute_result"
    }
   ],
   "source": [
    "data_wilayah_crime.describe()"
   ]
  },
  {
   "cell_type": "markdown",
   "metadata": {},
   "source": [
    "**Insight:**\n",
    "\n",
    "- Rata-rata total kasus kejahatan kisaran 20.800 - 23.000 kejadian.\n",
    "- Tahun 2012 terjadi range yang sangat ekstrim jika dibandingan dengan tahun lainnya, dengan nilai mininim 157 kejadian dan maksimum 59.226 kejadian."
   ]
  },
  {
   "cell_type": "markdown",
   "metadata": {},
   "source": [
    "## Scatter Plots <a id=\"10\"></a>\n",
    "\n",
    "A `scatter plot` (2D) is a useful method of comparing variables against each other. `Scatter` plots look similar to `line plots` in that they both map independent and dependent variables on a 2D graph. While the datapoints are connected together by a line in a line plot, they are not connected in a scatter plot. The data in a scatter plot is considered to express a trend. With further analysis using tools like regression, we can mathematically calculate this relationship and use it to predict trends outside the dataset.\n",
    "\n",
    "**Question:**\n",
    "\n",
    "- Scatter plot total jumlah kasus tahun 2008-2016"
   ]
  },
  {
   "cell_type": "code",
   "execution_count": 31,
   "metadata": {},
   "outputs": [
    {
     "data": {
      "text/html": [
       "<div>\n",
       "<style scoped>\n",
       "    .dataframe tbody tr th:only-of-type {\n",
       "        vertical-align: middle;\n",
       "    }\n",
       "\n",
       "    .dataframe tbody tr th {\n",
       "        vertical-align: top;\n",
       "    }\n",
       "\n",
       "    .dataframe thead th {\n",
       "        text-align: right;\n",
       "    }\n",
       "</style>\n",
       "<table border=\"1\" class=\"dataframe\">\n",
       "  <thead>\n",
       "    <tr style=\"text-align: right;\">\n",
       "      <th></th>\n",
       "      <th>Jumlah Kasus</th>\n",
       "    </tr>\n",
       "    <tr>\n",
       "      <th>Tahun</th>\n",
       "      <th></th>\n",
       "    </tr>\n",
       "  </thead>\n",
       "  <tbody>\n",
       "    <tr>\n",
       "      <th>2008</th>\n",
       "      <td>738641</td>\n",
       "    </tr>\n",
       "    <tr>\n",
       "      <th>2009</th>\n",
       "      <td>717214</td>\n",
       "    </tr>\n",
       "    <tr>\n",
       "      <th>2010</th>\n",
       "      <td>715324</td>\n",
       "    </tr>\n",
       "    <tr>\n",
       "      <th>2011</th>\n",
       "      <td>724915</td>\n",
       "    </tr>\n",
       "    <tr>\n",
       "      <th>2012</th>\n",
       "      <td>737329</td>\n",
       "    </tr>\n",
       "    <tr>\n",
       "      <th>2013</th>\n",
       "      <td>686407</td>\n",
       "    </tr>\n",
       "    <tr>\n",
       "      <th>2014</th>\n",
       "      <td>680183</td>\n",
       "    </tr>\n",
       "    <tr>\n",
       "      <th>2015</th>\n",
       "      <td>711624</td>\n",
       "    </tr>\n",
       "    <tr>\n",
       "      <th>2016</th>\n",
       "      <td>736121</td>\n",
       "    </tr>\n",
       "  </tbody>\n",
       "</table>\n",
       "</div>"
      ],
      "text/plain": [
       "       Jumlah Kasus\n",
       "Tahun              \n",
       "2008         738641\n",
       "2009         717214\n",
       "2010         715324\n",
       "2011         724915\n",
       "2012         737329\n",
       "2013         686407\n",
       "2014         680183\n",
       "2015         711624\n",
       "2016         736121"
      ]
     },
     "execution_count": 31,
     "metadata": {},
     "output_type": "execute_result"
    }
   ],
   "source": [
    "total_data_crime_per_year"
   ]
  },
  {
   "cell_type": "code",
   "execution_count": 32,
   "metadata": {},
   "outputs": [],
   "source": [
    "total_data_crime_per_year.index = map(int,total_data_crime_per_year.index)\n",
    "total_data_crime_per_year.reset_index(inplace=True)\n",
    "total_data_crime_per_year.columns = ['Tahun','Jumlah Kasus']"
   ]
  },
  {
   "cell_type": "code",
   "execution_count": 33,
   "metadata": {},
   "outputs": [
    {
     "data": {
      "text/html": [
       "<div>\n",
       "<style scoped>\n",
       "    .dataframe tbody tr th:only-of-type {\n",
       "        vertical-align: middle;\n",
       "    }\n",
       "\n",
       "    .dataframe tbody tr th {\n",
       "        vertical-align: top;\n",
       "    }\n",
       "\n",
       "    .dataframe thead th {\n",
       "        text-align: right;\n",
       "    }\n",
       "</style>\n",
       "<table border=\"1\" class=\"dataframe\">\n",
       "  <thead>\n",
       "    <tr style=\"text-align: right;\">\n",
       "      <th></th>\n",
       "      <th>Tahun</th>\n",
       "      <th>Jumlah Kasus</th>\n",
       "    </tr>\n",
       "  </thead>\n",
       "  <tbody>\n",
       "    <tr>\n",
       "      <th>0</th>\n",
       "      <td>2008</td>\n",
       "      <td>738641</td>\n",
       "    </tr>\n",
       "    <tr>\n",
       "      <th>1</th>\n",
       "      <td>2009</td>\n",
       "      <td>717214</td>\n",
       "    </tr>\n",
       "    <tr>\n",
       "      <th>2</th>\n",
       "      <td>2010</td>\n",
       "      <td>715324</td>\n",
       "    </tr>\n",
       "    <tr>\n",
       "      <th>3</th>\n",
       "      <td>2011</td>\n",
       "      <td>724915</td>\n",
       "    </tr>\n",
       "    <tr>\n",
       "      <th>4</th>\n",
       "      <td>2012</td>\n",
       "      <td>737329</td>\n",
       "    </tr>\n",
       "    <tr>\n",
       "      <th>5</th>\n",
       "      <td>2013</td>\n",
       "      <td>686407</td>\n",
       "    </tr>\n",
       "    <tr>\n",
       "      <th>6</th>\n",
       "      <td>2014</td>\n",
       "      <td>680183</td>\n",
       "    </tr>\n",
       "    <tr>\n",
       "      <th>7</th>\n",
       "      <td>2015</td>\n",
       "      <td>711624</td>\n",
       "    </tr>\n",
       "    <tr>\n",
       "      <th>8</th>\n",
       "      <td>2016</td>\n",
       "      <td>736121</td>\n",
       "    </tr>\n",
       "  </tbody>\n",
       "</table>\n",
       "</div>"
      ],
      "text/plain": [
       "   Tahun  Jumlah Kasus\n",
       "0   2008        738641\n",
       "1   2009        717214\n",
       "2   2010        715324\n",
       "3   2011        724915\n",
       "4   2012        737329\n",
       "5   2013        686407\n",
       "6   2014        680183\n",
       "7   2015        711624\n",
       "8   2016        736121"
      ]
     },
     "execution_count": 33,
     "metadata": {},
     "output_type": "execute_result"
    }
   ],
   "source": [
    "total_data_crime_per_year"
   ]
  },
  {
   "cell_type": "code",
   "execution_count": 34,
   "metadata": {
    "scrolled": false
   },
   "outputs": [
    {
     "name": "stderr",
     "output_type": "stream",
     "text": [
      "No artists with labels found to put in legend.  Note that artists whose label start with an underscore are ignored when legend() is called with no argument.\n"
     ]
    },
    {
     "data": {
      "image/png": "[encoded data removed]",
      "text/plain": [
       "<Figure size 720x360 with 1 Axes>"
      ]
     },
     "metadata": {},
     "output_type": "display_data"
    }
   ],
   "source": [
    "total_data_crime_per_year.plot(kind='scatter',\n",
    "                               x='Tahun',\n",
    "                               y='Jumlah Kasus',\n",
    "                               figsize=(10,5),\n",
    "                              color='darkblue')\n",
    "plt.title('Trend Total Kejahatan Mayor periode 2008 - 2016')\n",
    "plt.xlabel('Tahun')\n",
    "plt.ylabel('Jumlah Kasus')\n",
    "plt.legend(loc='lower right')\n",
    "plt.show()"
   ]
  },
  {
   "cell_type": "markdown",
   "metadata": {},
   "source": [
    "**Insight:**\n",
    "\n",
    "- Trend total kejadian sempat mengalami penurunan pada tahun 2013 & 2014, namun naik kembali pada tahun 2015 & 2016."
   ]
  },
  {
   "cell_type": "markdown",
   "metadata": {},
   "source": [
    "## Word Clouds <a id=\"8\"></a>\n",
    "\n",
    "\n",
    "`Word` clouds (also known as text clouds or tag clouds) work in a simple way: the more a specific word appears in a source of textual data (such as a speech, blog post, or database), the bigger and bolder it appears in the word cloud."
   ]
  },
  {
   "cell_type": "code",
   "execution_count": 35,
   "metadata": {},
   "outputs": [
    {
     "name": "stdout",
     "output_type": "stream",
     "text": [
      "Wordcloud is installed and imported!\n"
     ]
    }
   ],
   "source": [
    "# install wordcloud\n",
    "# !conda install -c conda-forge wordcloud --yes\n",
    "\n",
    "#!pip install wordcloud  ---> sudah terinstall\n",
    "\n",
    "# import package and its set of stopwords\n",
    "from wordcloud import WordCloud, STOPWORDS\n",
    "\n",
    "print ('Wordcloud is installed and imported!')"
   ]
  },
  {
   "cell_type": "code",
   "execution_count": 36,
   "metadata": {},
   "outputs": [],
   "source": [
    "stopwords = set(STOPWORDS)"
   ]
  },
  {
   "cell_type": "code",
   "execution_count": 37,
   "metadata": {},
   "outputs": [],
   "source": [
    "df_wordcloud = df[\n",
    "    df['Tahun']==2008\n",
    "][['Kejahatan Mayor','Jumlah Kasus']]"
   ]
  },
  {
   "cell_type": "code",
   "execution_count": 38,
   "metadata": {},
   "outputs": [],
   "source": [
    "# Menghapus spasi yang terdapat pada Kejahatan Mayor\n",
    "df_wordcloud['Kejahatan Mayor'] = df_wordcloud['Kejahatan Mayor'].apply(lambda x: ''.join(x.split()))"
   ]
  },
  {
   "cell_type": "code",
   "execution_count": 39,
   "metadata": {},
   "outputs": [],
   "source": [
    "df_wordcloud = df_wordcloud.groupby('Kejahatan Mayor').sum()\n",
    "df_wordcloud.index.name = None"
   ]
  },
  {
   "cell_type": "code",
   "execution_count": 40,
   "metadata": {},
   "outputs": [
    {
     "data": {
      "text/plain": [
       "738641"
      ]
     },
     "execution_count": 40,
     "metadata": {},
     "output_type": "execute_result"
    }
   ],
   "source": [
    "total_crime = df_wordcloud['Jumlah Kasus'].sum()\n",
    "total_crime"
   ]
  },
  {
   "cell_type": "code",
   "execution_count": 41,
   "metadata": {},
   "outputs": [
    {
     "data": {
      "text/plain": [
       "'Burglary Burglary Burglary Burglary Burglary Burglary Burglary Burglary Burglary Burglary Burglary CriminalDamage CriminalDamage CriminalDamage CriminalDamage CriminalDamage CriminalDamage CriminalDamage CriminalDamage CriminalDamage CriminalDamage CriminalDamage CriminalDamage Drugs Drugs Drugs Drugs Drugs Drugs Drugs Drugs Drugs OtherNotifiableOffences Robbery Robbery Robbery Robbery TheftandHandling TheftandHandling TheftandHandling TheftandHandling TheftandHandling TheftandHandling TheftandHandling TheftandHandling TheftandHandling TheftandHandling TheftandHandling TheftandHandling TheftandHandling TheftandHandling TheftandHandling TheftandHandling TheftandHandling TheftandHandling TheftandHandling TheftandHandling TheftandHandling TheftandHandling TheftandHandling TheftandHandling TheftandHandling TheftandHandling TheftandHandling TheftandHandling TheftandHandling TheftandHandling TheftandHandling TheftandHandling TheftandHandling TheftandHandling TheftandHandling TheftandHandling TheftandHandling TheftandHandling ViolenceAgainstthePerson ViolenceAgainstthePerson ViolenceAgainstthePerson ViolenceAgainstthePerson ViolenceAgainstthePerson ViolenceAgainstthePerson ViolenceAgainstthePerson ViolenceAgainstthePerson ViolenceAgainstthePerson ViolenceAgainstthePerson ViolenceAgainstthePerson ViolenceAgainstthePerson ViolenceAgainstthePerson ViolenceAgainstthePerson ViolenceAgainstthePerson ViolenceAgainstthePerson ViolenceAgainstthePerson ViolenceAgainstthePerson ViolenceAgainstthePerson ViolenceAgainstthePerson ViolenceAgainstthePerson '"
      ]
     },
     "execution_count": 41,
     "metadata": {},
     "output_type": "execute_result"
    }
   ],
   "source": [
    "max_words = 100\n",
    "word_string = ''\n",
    "\n",
    "for crime in df_wordcloud.index.values:\n",
    "    if len(crime.split(' ')) == 1:\n",
    "        repeat_num_times = int(\n",
    "            df_wordcloud.loc[crime,'Jumlah Kasus']/float(total_crime)*max_words)\n",
    "        word_string = word_string + ((crime+' ')* repeat_num_times)\n",
    "\n",
    "word_string"
   ]
  },
  {
   "cell_type": "code",
   "execution_count": 42,
   "metadata": {},
   "outputs": [
    {
     "data": {
      "text/plain": [
       "<wordcloud.wordcloud.WordCloud at 0x14fe3c280>"
      ]
     },
     "execution_count": 42,
     "metadata": {},
     "output_type": "execute_result"
    }
   ],
   "source": [
    "# instantiate a word cloud object\n",
    "df_wordcloud = WordCloud(\n",
    "    background_color='white',\n",
    "    max_words=100,\n",
    "    stopwords=stopwords\n",
    ")\n",
    "\n",
    "# generate the word cloud\n",
    "df_wordcloud.generate(word_string)"
   ]
  },
  {
   "cell_type": "code",
   "execution_count": 48,
   "metadata": {
    "scrolled": false
   },
   "outputs": [
    {
     "data": {
      "image/png": "[encoded data removed]",
      "text/plain": [
       "<Figure size 1440x576 with 1 Axes>"
      ]
     },
     "metadata": {},
     "output_type": "display_data"
    }
   ],
   "source": [
    "# Write your function below\n",
    "\n",
    "# Graded-Funtion Begin (~1 Lines)\n",
    "plt.figure(figsize=(20,8))\n",
    "plt.imshow(df_wordcloud, interpolation='bilinear')\n",
    "\n",
    "# Graded-Funtion End\n",
    "\n",
    "plt.axis('off')\n",
    "plt.show()"
   ]
  },
  {
   "cell_type": "markdown",
   "metadata": {},
   "source": [
    "## Folium\n",
    "\n",
    "Folium is a powerful Python library that helps you create several types of Leaflet maps. The fact that the Folium results are interactive makes this library very useful for dashboard building.\n",
    "\n",
    "From the official Folium documentation page:\n",
    "\n",
    "> Folium builds on the data wrangling strengths of the Python ecosystem and the mapping strengths of the Leaflet.js library. Manipulate your data in Python, then visualize it in on a Leaflet map via Folium.\n",
    "\n",
    "> Folium makes it easy to visualize data that's been manipulated in Python on an interactive Leaflet map. It enables both the binding of data to a map for choropleth visualizations as well as passing Vincent/Vega visualizations as markers on the map.\n",
    "\n",
    "> The library has a number of built-in tilesets from OpenStreetMap, Mapbox, and Stamen, and supports custom tilesets with Mapbox or Cloudmade API keys. Folium supports both GeoJSON and TopoJSON overlays, as well as the binding of data to those overlays to create choropleth maps with color-brewer color schemes."
   ]
  },
  {
   "cell_type": "code",
   "execution_count": 44,
   "metadata": {},
   "outputs": [
    {
     "name": "stdout",
     "output_type": "stream",
     "text": [
      "Folium installed and imported!\n"
     ]
    }
   ],
   "source": [
    "#!conda install -c conda-forge folium=0.5.0 --yes\n",
    "#!pip install folium ---> sudah terinstall\n",
    "import folium\n",
    "\n",
    "print('Folium installed and imported!')"
   ]
  },
  {
   "cell_type": "code",
   "execution_count": 45,
   "metadata": {},
   "outputs": [
    {
     "data": {
      "text/html": [
       "<div style=\"width:100%;\"><div style=\"position:relative;width:100%;height:0;padding-bottom:60%;\"><span style=\"color:#565656\">Make this Notebook Trusted to load map: File -> Trust Notebook</span><iframe srcdoc=\"&lt;!DOCTYPE html&gt;\n",
       "&lt;head&gt;    \n",
       "    &lt;meta http-equiv=&quot;content-type&quot; content=&quot;text/html; charset=UTF-8&quot; /&gt;\n",
       "    \n",
       "        &lt;script&gt;\n",
       "            L_NO_TOUCH = false;\n",
       "            L_DISABLE_3D = false;\n",
       "        &lt;/script&gt;\n",
       "    \n",
       "    &lt;style&gt;html, body {width: 100%;height: 100%;margin: 0;padding: 0;}&lt;/style&gt;\n",
       "    &lt;style&gt;#map {position:absolute;top:0;bottom:0;right:0;left:0;}&lt;/style&gt;\n",
       "    &lt;script src=&quot;https://cdn.jsdelivr.net/npm/leaflet@1.6.0/dist/leaflet.js&quot;&gt;&lt;/script&gt;\n",
       "    &lt;script src=&quot;https://code.jquery.com/jquery-1.12.4.min.js&quot;&gt;&lt;/script&gt;\n",
       "    &lt;script src=&quot;https://maxcdn.bootstrapcdn.com/bootstrap/3.2.0/js/bootstrap.min.js&quot;&gt;&lt;/script&gt;\n",
       "    &lt;script src=&quot;https://cdnjs.cloudflare.com/ajax/libs/Leaflet.awesome-markers/2.0.2/leaflet.awesome-markers.js&quot;&gt;&lt;/script&gt;\n",
       "    &lt;link rel=&quot;stylesheet&quot; href=&quot;https://cdn.jsdelivr.net/npm/leaflet@1.6.0/dist/leaflet.css&quot;/&gt;\n",
       "    &lt;link rel=&quot;stylesheet&quot; href=&quot;https://maxcdn.bootstrapcdn.com/bootstrap/3.2.0/css/bootstrap.min.css&quot;/&gt;\n",
       "    &lt;link rel=&quot;stylesheet&quot; href=&quot;https://maxcdn.bootstrapcdn.com/bootstrap/3.2.0/css/bootstrap-theme.min.css&quot;/&gt;\n",
       "    &lt;link rel=&quot;stylesheet&quot; href=&quot;https://maxcdn.bootstrapcdn.com/font-awesome/4.6.3/css/font-awesome.min.css&quot;/&gt;\n",
       "    &lt;link rel=&quot;stylesheet&quot; href=&quot;https://cdnjs.cloudflare.com/ajax/libs/Leaflet.awesome-markers/2.0.2/leaflet.awesome-markers.css&quot;/&gt;\n",
       "    &lt;link rel=&quot;stylesheet&quot; href=&quot;https://cdn.jsdelivr.net/gh/python-visualization/folium/folium/templates/leaflet.awesome.rotate.min.css&quot;/&gt;\n",
       "    \n",
       "            &lt;meta name=&quot;viewport&quot; content=&quot;width=device-width,\n",
       "                initial-scale=1.0, maximum-scale=1.0, user-scalable=no&quot; /&gt;\n",
       "            &lt;style&gt;\n",
       "                #map_7cd4fdc20742627cef4e88e9d487e76b {\n",
       "                    position: relative;\n",
       "                    width: 100.0%;\n",
       "                    height: 100.0%;\n",
       "                    left: 0.0%;\n",
       "                    top: 0.0%;\n",
       "                }\n",
       "            &lt;/style&gt;\n",
       "        \n",
       "&lt;/head&gt;\n",
       "&lt;body&gt;    \n",
       "    \n",
       "            &lt;div class=&quot;folium-map&quot; id=&quot;map_7cd4fdc20742627cef4e88e9d487e76b&quot; &gt;&lt;/div&gt;\n",
       "        \n",
       "&lt;/body&gt;\n",
       "&lt;script&gt;    \n",
       "    \n",
       "            var map_7cd4fdc20742627cef4e88e9d487e76b = L.map(\n",
       "                &quot;map_7cd4fdc20742627cef4e88e9d487e76b&quot;,\n",
       "                {\n",
       "                    center: [0, 0],\n",
       "                    crs: L.CRS.EPSG3857,\n",
       "                    zoom: 1,\n",
       "                    zoomControl: true,\n",
       "                    preferCanvas: false,\n",
       "                }\n",
       "            );\n",
       "\n",
       "            \n",
       "\n",
       "        \n",
       "    \n",
       "            var tile_layer_78afad64fb4d44edb675a9cf9afe5e3c = L.tileLayer(\n",
       "                &quot;https://{s}.tile.openstreetmap.org/{z}/{x}/{y}.png&quot;,\n",
       "                {&quot;attribution&quot;: &quot;Data by \\u0026copy; \\u003ca href=\\&quot;http://openstreetmap.org\\&quot;\\u003eOpenStreetMap\\u003c/a\\u003e, under \\u003ca href=\\&quot;http://www.openstreetmap.org/copyright\\&quot;\\u003eODbL\\u003c/a\\u003e.&quot;, &quot;detectRetina&quot;: false, &quot;maxNativeZoom&quot;: 18, &quot;maxZoom&quot;: 18, &quot;minZoom&quot;: 0, &quot;noWrap&quot;: false, &quot;opacity&quot;: 1, &quot;subdomains&quot;: &quot;abc&quot;, &quot;tms&quot;: false}\n",
       "            ).addTo(map_7cd4fdc20742627cef4e88e9d487e76b);\n",
       "        \n",
       "&lt;/script&gt;\" style=\"position:absolute;width:100%;height:100%;left:0;top:0;border:none !important;\" allowfullscreen webkitallowfullscreen mozallowfullscreen></iframe></div></div>"
      ],
      "text/plain": [
       "<folium.folium.Map at 0x14fe28a00>"
      ]
     },
     "execution_count": 45,
     "metadata": {},
     "output_type": "execute_result"
    }
   ],
   "source": [
    "# define the world map\n",
    "world_map = folium.Map()\n",
    "\n",
    "# display world map\n",
    "world_map"
   ]
  },
  {
   "cell_type": "code",
   "execution_count": 46,
   "metadata": {},
   "outputs": [
    {
     "data": {
      "text/html": [
       "<div style=\"width:100%;\"><div style=\"position:relative;width:100%;height:0;padding-bottom:60%;\"><span style=\"color:#565656\">Make this Notebook Trusted to load map: File -> Trust Notebook</span><iframe srcdoc=\"&lt;!DOCTYPE html&gt;\n",
       "&lt;head&gt;    \n",
       "    &lt;meta http-equiv=&quot;content-type&quot; content=&quot;text/html; charset=UTF-8&quot; /&gt;\n",
       "    \n",
       "        &lt;script&gt;\n",
       "            L_NO_TOUCH = false;\n",
       "            L_DISABLE_3D = false;\n",
       "        &lt;/script&gt;\n",
       "    \n",
       "    &lt;style&gt;html, body {width: 100%;height: 100%;margin: 0;padding: 0;}&lt;/style&gt;\n",
       "    &lt;style&gt;#map {position:absolute;top:0;bottom:0;right:0;left:0;}&lt;/style&gt;\n",
       "    &lt;script src=&quot;https://cdn.jsdelivr.net/npm/leaflet@1.6.0/dist/leaflet.js&quot;&gt;&lt;/script&gt;\n",
       "    &lt;script src=&quot;https://code.jquery.com/jquery-1.12.4.min.js&quot;&gt;&lt;/script&gt;\n",
       "    &lt;script src=&quot;https://maxcdn.bootstrapcdn.com/bootstrap/3.2.0/js/bootstrap.min.js&quot;&gt;&lt;/script&gt;\n",
       "    &lt;script src=&quot;https://cdnjs.cloudflare.com/ajax/libs/Leaflet.awesome-markers/2.0.2/leaflet.awesome-markers.js&quot;&gt;&lt;/script&gt;\n",
       "    &lt;link rel=&quot;stylesheet&quot; href=&quot;https://cdn.jsdelivr.net/npm/leaflet@1.6.0/dist/leaflet.css&quot;/&gt;\n",
       "    &lt;link rel=&quot;stylesheet&quot; href=&quot;https://maxcdn.bootstrapcdn.com/bootstrap/3.2.0/css/bootstrap.min.css&quot;/&gt;\n",
       "    &lt;link rel=&quot;stylesheet&quot; href=&quot;https://maxcdn.bootstrapcdn.com/bootstrap/3.2.0/css/bootstrap-theme.min.css&quot;/&gt;\n",
       "    &lt;link rel=&quot;stylesheet&quot; href=&quot;https://maxcdn.bootstrapcdn.com/font-awesome/4.6.3/css/font-awesome.min.css&quot;/&gt;\n",
       "    &lt;link rel=&quot;stylesheet&quot; href=&quot;https://cdnjs.cloudflare.com/ajax/libs/Leaflet.awesome-markers/2.0.2/leaflet.awesome-markers.css&quot;/&gt;\n",
       "    &lt;link rel=&quot;stylesheet&quot; href=&quot;https://cdn.jsdelivr.net/gh/python-visualization/folium/folium/templates/leaflet.awesome.rotate.min.css&quot;/&gt;\n",
       "    \n",
       "            &lt;meta name=&quot;viewport&quot; content=&quot;width=device-width,\n",
       "                initial-scale=1.0, maximum-scale=1.0, user-scalable=no&quot; /&gt;\n",
       "            &lt;style&gt;\n",
       "                #map_e58d2b552837a53c30f2abce03fef7ac {\n",
       "                    position: relative;\n",
       "                    width: 100.0%;\n",
       "                    height: 100.0%;\n",
       "                    left: 0.0%;\n",
       "                    top: 0.0%;\n",
       "                }\n",
       "            &lt;/style&gt;\n",
       "        \n",
       "&lt;/head&gt;\n",
       "&lt;body&gt;    \n",
       "    \n",
       "            &lt;div class=&quot;folium-map&quot; id=&quot;map_e58d2b552837a53c30f2abce03fef7ac&quot; &gt;&lt;/div&gt;\n",
       "        \n",
       "&lt;/body&gt;\n",
       "&lt;script&gt;    \n",
       "    \n",
       "            var map_e58d2b552837a53c30f2abce03fef7ac = L.map(\n",
       "                &quot;map_e58d2b552837a53c30f2abce03fef7ac&quot;,\n",
       "                {\n",
       "                    center: [51.509865, -0.118092],\n",
       "                    crs: L.CRS.EPSG3857,\n",
       "                    zoom: 10,\n",
       "                    zoomControl: true,\n",
       "                    preferCanvas: false,\n",
       "                }\n",
       "            );\n",
       "\n",
       "            \n",
       "\n",
       "        \n",
       "    \n",
       "            var tile_layer_56e040003788ebef935fd890a9a82cfc = L.tileLayer(\n",
       "                &quot;https://{s}.tile.openstreetmap.org/{z}/{x}/{y}.png&quot;,\n",
       "                {&quot;attribution&quot;: &quot;Data by \\u0026copy; \\u003ca href=\\&quot;http://openstreetmap.org\\&quot;\\u003eOpenStreetMap\\u003c/a\\u003e, under \\u003ca href=\\&quot;http://www.openstreetmap.org/copyright\\&quot;\\u003eODbL\\u003c/a\\u003e.&quot;, &quot;detectRetina&quot;: false, &quot;maxNativeZoom&quot;: 18, &quot;maxZoom&quot;: 18, &quot;minZoom&quot;: 0, &quot;noWrap&quot;: false, &quot;opacity&quot;: 1, &quot;subdomains&quot;: &quot;abc&quot;, &quot;tms&quot;: false}\n",
       "            ).addTo(map_e58d2b552837a53c30f2abce03fef7ac);\n",
       "        \n",
       "&lt;/script&gt;\" style=\"position:absolute;width:100%;height:100%;left:0;top:0;border:none !important;\" allowfullscreen webkitallowfullscreen mozallowfullscreen></iframe></div></div>"
      ],
      "text/plain": [
       "<folium.folium.Map at 0x14fe536d0>"
      ]
     },
     "execution_count": 46,
     "metadata": {},
     "output_type": "execute_result"
    }
   ],
   "source": [
    "london_lat = 51.509865\n",
    "london_long = -0.118092\n",
    "\n",
    "london_map = folium.Map(location=[london_lat,london_long], zoom_start=10)\n",
    "\n",
    "london_map\n"
   ]
  },
  {
   "cell_type": "markdown",
   "metadata": {},
   "source": [
    "Thanks For Completing This Labs!"
   ]
  }
 ],
 "metadata": {
  "kernelspec": {
   "display_name": "Python 3 (ipykernel)",
   "language": "python",
   "name": "python3"
  },
  "language_info": {
   "codemirror_mode": {
    "name": "ipython",
    "version": 3
   },
   "file_extension": ".py",
   "mimetype": "text/x-python",
   "name": "python",
   "nbconvert_exporter": "python",
   "pygments_lexer": "ipython3",
   "version": "3.8.12"
  },
  "toc": {
   "base_numbering": 1,
   "nav_menu": {},
   "number_sections": true,
   "sideBar": true,
   "skip_h1_title": false,
   "title_cell": "Table of Contents",
   "title_sidebar": "Contents",
   "toc_cell": false,
   "toc_position": {},
   "toc_section_display": true,
   "toc_window_display": false
  }
 },
 "nbformat": 4,
 "nbformat_minor": 4
}
