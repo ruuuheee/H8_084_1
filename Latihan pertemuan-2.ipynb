{
 "cells": [
  {
   "cell_type": "code",
   "execution_count": 1,
   "id": "230208a1-ad95-42e6-8640-40ee4e5e6194",
   "metadata": {},
   "outputs": [
    {
     "name": "stdout",
     "output_type": "stream",
     "text": [
      "beneeerr\n",
      "yaa ada\n",
      "yaa ada\n"
     ]
    }
   ],
   "source": [
    "a = 10\n",
    "b = 20\n",
    "\n",
    "if a < b:\n",
    "    print('beneeerr')\n",
    "    \n",
    "if 'ban' in 'bandung':\n",
    "    print('yaa ada')\n",
    "    \n",
    "if 'bogor' in ['bandung','jakarta','bogor']:\n",
    "    print('yaa ada')"
   ]
  },
  {
   "cell_type": "code",
   "execution_count": 2,
   "id": "3d349dba-fe88-4924-bf83-172d8500260b",
   "metadata": {},
   "outputs": [
    {
     "name": "stdout",
     "output_type": "stream",
     "text": [
      "lulus 1\n",
      "lanjuttt....\n",
      "yowiss\n",
      "oke\n"
     ]
    }
   ],
   "source": [
    "if 'ban' in 'bandung':\n",
    "    print('lulus 1')\n",
    "    print('lanjuttt....')\n",
    "    \n",
    "    if 2 > 5:\n",
    "        print('lulus 2..')\n",
    "        print('lanjut lagiii..')\n",
    "        \n",
    "    else:\n",
    "        print('yowiss')\n",
    "        \n",
    "print('oke')\n",
    "        "
   ]
  },
  {
   "cell_type": "code",
   "execution_count": 3,
   "id": "ebd925de-00c7-48b9-a3c7-2420a9fc465b",
   "metadata": {},
   "outputs": [
    {
     "name": "stdout",
     "output_type": "stream",
     "text": [
      "yes betul\n",
      "lanjut\n",
      "lanjut lagi..\n"
     ]
    }
   ],
   "source": [
    "a = 50\n",
    "b = 20\n",
    "c = 30\n",
    "\n",
    "if a > b:\n",
    "    print('yes betul')\n",
    "    print('lanjut')\n",
    "    \n",
    "    if a > c:\n",
    "        print('lanjut lagi..')\n",
    "        \n",
    "    else:\n",
    "        print('selesai')"
   ]
  },
  {
   "cell_type": "code",
   "execution_count": 4,
   "id": "e24edbae-3c00-483a-8a8d-914908276b12",
   "metadata": {},
   "outputs": [
    {
     "name": "stdout",
     "output_type": "stream",
     "text": [
      "beli cireng ajalah\n"
     ]
    }
   ],
   "source": [
    "hargaBuku = 20000\n",
    "hargaMajalah = 5000\n",
    "hargaCireng = 1000\n",
    "uang = 3000\n",
    "\n",
    "if uang >= hargaBuku:\n",
    "    print('beli buku')\n",
    "    \n",
    "elif uang >= hargaMajalah and uang <= hargaBuku:\n",
    "    print('beli majalah')\n",
    "    \n",
    "elif uang <= hargaMajalah and uang >= hargaCireng:\n",
    "    print('beli cireng ajalah')\n",
    "    \n",
    "else:\n",
    "    print('uang tidak cukup')"
   ]
  },
  {
   "cell_type": "code",
   "execution_count": 5,
   "id": "58b4823d",
   "metadata": {},
   "outputs": [
    {
     "name": "stdout",
     "output_type": "stream",
     "text": [
      "Hello Hacktiv8\n"
     ]
    }
   ],
   "source": [
    "name = 'Hacktiv8'\n",
    "if name == 'Fred':\n",
    "    print('Hello Fred')\n",
    "elif name == 'Xander':\n",
    "    print('Hello Xander')\n",
    "elif name == 'Hacktiv8':\n",
    "    print('Hello Hacktiv8')\n",
    "elif name == 'Arnold':\n",
    "    print('Hello Arnold')\n",
    "else:\n",
    "    print(\"I don't know who you are!\")"
   ]
  },
  {
   "cell_type": "code",
   "execution_count": 6,
   "id": "7ae75699",
   "metadata": {},
   "outputs": [
    {
     "name": "stdout",
     "output_type": "stream",
     "text": [
      "corge\n",
      "grault\n"
     ]
    }
   ],
   "source": [
    "x = 5\n",
    "\n",
    "if x == 1: print('foo'); print('bar'); print('baz')\n",
    "elif x == 2: print('qux'); print('quux')\n",
    "else: print('corge'); print('grault')"
   ]
  },
  {
   "cell_type": "code",
   "execution_count": 7,
   "id": "76196643",
   "metadata": {},
   "outputs": [
    {
     "name": "stdout",
     "output_type": "stream",
     "text": [
      "2\n"
     ]
    }
   ],
   "source": [
    "if 'a' in 'xo':\n",
    "\n",
    "  print('1')\n",
    "\n",
    "elif 1/1:\n",
    "\n",
    "  print('2')"
   ]
  },
  {
   "cell_type": "code",
   "execution_count": 8,
   "id": "1cad9862",
   "metadata": {},
   "outputs": [
    {
     "name": "stdout",
     "output_type": "stream",
     "text": [
      "Let's go to the beach\n"
     ]
    }
   ],
   "source": [
    "raining = False\n",
    "print(\"Let's go to the\", 'beach' if not raining else 'library')"
   ]
  },
  {
   "cell_type": "code",
   "execution_count": 9,
   "id": "e9d49e72",
   "metadata": {},
   "outputs": [
    {
     "data": {
      "text/plain": [
       "'adult'"
      ]
     },
     "execution_count": 9,
     "metadata": {},
     "output_type": "execute_result"
    }
   ],
   "source": [
    "age = 30\n",
    "s = 'teen' if age < 21 else 'adult'\n",
    "s"
   ]
  },
  {
   "cell_type": "code",
   "execution_count": 10,
   "id": "1afc1194",
   "metadata": {},
   "outputs": [
    {
     "data": {
      "text/plain": [
       "'yes'"
      ]
     },
     "execution_count": 10,
     "metadata": {},
     "output_type": "execute_result"
    }
   ],
   "source": [
    "'yes' if ('bar' in ['foo', 'bar', 'baz']) else 'no'"
   ]
  },
  {
   "cell_type": "code",
   "execution_count": 11,
   "id": "e1ce0445",
   "metadata": {},
   "outputs": [
    {
     "name": "stdout",
     "output_type": "stream",
     "text": [
      "2\n"
     ]
    }
   ],
   "source": [
    "a = 1\n",
    "b = 2\n",
    "\n",
    "if a > b:\n",
    "    m = a\n",
    "else:\n",
    "    m = b\n",
    "    \n",
    "    \n",
    "print(m)"
   ]
  },
  {
   "cell_type": "code",
   "execution_count": 12,
   "id": "e427d718",
   "metadata": {},
   "outputs": [
    {
     "name": "stdout",
     "output_type": "stream",
     "text": [
      "foo\n"
     ]
    }
   ],
   "source": [
    "if True:\n",
    "    pass\n",
    "\n",
    "print('foo')"
   ]
  },
  {
   "cell_type": "code",
   "execution_count": 13,
   "id": "38722924",
   "metadata": {},
   "outputs": [
    {
     "name": "stdout",
     "output_type": "stream",
     "text": [
      "3\n",
      "1\n",
      "-1\n"
     ]
    }
   ],
   "source": [
    "n = 5\n",
    "while n > 0:\n",
    "    n -= 2\n",
    "    print(n)"
   ]
  },
  {
   "cell_type": "code",
   "execution_count": 14,
   "id": "c7cacc04",
   "metadata": {},
   "outputs": [
    {
     "name": "stdout",
     "output_type": "stream",
     "text": [
      "1\n",
      "5\n",
      "9\n",
      "13\n",
      "17\n",
      "21\n",
      "25\n",
      "29\n"
     ]
    }
   ],
   "source": [
    "i = 1\n",
    "while i < 30:\n",
    "  print(i)\n",
    "  i += 4\n"
   ]
  },
  {
   "cell_type": "code",
   "execution_count": 15,
   "id": "caed8110",
   "metadata": {},
   "outputs": [
    {
     "name": "stdout",
     "output_type": "stream",
     "text": [
      "1\n",
      "2.6\n",
      "4.2\n",
      "5.800000000000001\n",
      "7.4\n",
      "9.0\n",
      "end\n"
     ]
    }
   ],
   "source": [
    "n = 1\n",
    "while n < 10:\n",
    "    print(n)\n",
    "    n += 1.6\n",
    "    if n == 9:\n",
    "        break\n",
    "print(n)\n",
    "print('end')"
   ]
  },
  {
   "cell_type": "code",
   "execution_count": 16,
   "id": "8cac8fbf",
   "metadata": {},
   "outputs": [
    {
     "name": "stdout",
     "output_type": "stream",
     "text": [
      "mother\n"
     ]
    }
   ],
   "source": [
    "age = 20\n",
    "gender = 'F'\n",
    "\n",
    "if age < 18:\n",
    "    if gender == 'M':\n",
    "        print('son')\n",
    "    else:\n",
    "        print('daughter')\n",
    "elif age >= 18 and age < 65:\n",
    "    if gender == 'M':\n",
    "        print('father')\n",
    "    else:\n",
    "        print('mother')\n",
    "else:\n",
    "    if gender == 'M':\n",
    "        print('grandfather')\n",
    "    else:\n",
    "        print('grandmother')"
   ]
  },
  {
   "cell_type": "code",
   "execution_count": 17,
   "id": "cf5b521d",
   "metadata": {},
   "outputs": [
    {
     "name": "stdout",
     "output_type": "stream",
     "text": [
      "foo\n",
      "> baz\n",
      "> qux\n",
      "bar\n",
      "> baz\n",
      "> qux\n"
     ]
    }
   ],
   "source": [
    "a = ['foo', 'bar']\n",
    "\n",
    "while len(a):\n",
    "    print(a.pop(0))\n",
    "    \n",
    "    b = ['baz', 'qux']\n",
    "    \n",
    "    while len(b):\n",
    "        print('>', b.pop(0))"
   ]
  },
  {
   "cell_type": "code",
   "execution_count": 18,
   "id": "b726fe1a",
   "metadata": {},
   "outputs": [
    {
     "name": "stdout",
     "output_type": "stream",
     "text": [
      "List a sebelum pop  ['foo', 'bar']\n",
      "foo\n",
      "List a sekarang :  ['bar']\n",
      "List b sebelum pop  ['axx', 'bxx']\n",
      "> axx\n",
      "List b sekarang :  ['bxx']\n",
      "> bxx\n",
      "List b sekarang :  []\n",
      "\n",
      "List a sebelum pop  ['bar']\n",
      "bar\n",
      "List a sekarang :  []\n",
      "List b sebelum pop  ['axx', 'bxx']\n",
      "> axx\n",
      "List b sekarang :  ['bxx']\n",
      "> bxx\n",
      "List b sekarang :  []\n",
      "\n"
     ]
    }
   ],
   "source": [
    "a = ['foo', 'bar']\n",
    "\n",
    "while len(a):\n",
    "    print('List a sebelum pop ', a)\n",
    "    print(a.pop(0))\n",
    "    print('List a sekarang : ', a)\n",
    "    \n",
    "    b = ['axx', 'bxx']\n",
    "    print('List b sebelum pop ', b)\n",
    "    \n",
    "    while len(b):\n",
    "        print('>',b.pop(0))\n",
    "        print('List b sekarang : ', b)\n",
    "    print('')"
   ]
  },
  {
   "cell_type": "code",
   "execution_count": 19,
   "id": "0ae388e4",
   "metadata": {},
   "outputs": [
    {
     "name": "stdout",
     "output_type": "stream",
     "text": [
      "1\n",
      "3\n",
      "4\n"
     ]
    }
   ],
   "source": [
    "for i in [1,3,4]:\n",
    "    print(i)"
   ]
  },
  {
   "cell_type": "code",
   "execution_count": 20,
   "id": "c0058fb3",
   "metadata": {},
   "outputs": [
    {
     "name": "stdout",
     "output_type": "stream",
     "text": [
      "g: {'foo': 1, 'bar': 2, 'baz': 3}\n",
      "\n",
      "foo\n",
      "bar\n",
      "baz\n",
      "\n",
      "1\n",
      "2\n",
      "3\n",
      "\n",
      "foo --> 1\n",
      "bar --> 2\n",
      "baz --> 3\n"
     ]
    }
   ],
   "source": [
    "g = {'foo': 1, 'bar': 2, 'baz': 3}\n",
    "print('g:', g)\n",
    "print('')\n",
    "\n",
    "for k in g:\n",
    "    print(k)\n",
    "    \n",
    "print('')\n",
    "\n",
    "for k in g:\n",
    "    print(g[k])\n",
    "    \n",
    "print('')\n",
    "\n",
    "for k,l in g.items():\n",
    "    print(k, '-->',l)"
   ]
  },
  {
   "cell_type": "code",
   "execution_count": 21,
   "id": "5264f4c3",
   "metadata": {},
   "outputs": [
    {
     "name": "stdout",
     "output_type": "stream",
     "text": [
      "foo\n",
      "bar\n",
      "baz\n"
     ]
    }
   ],
   "source": [
    "d = {'foo': 1, 'bar': 2, 'baz': 3}\n",
    "for k in d:\n",
    "    print(k)"
   ]
  },
  {
   "cell_type": "code",
   "execution_count": 22,
   "id": "38f7d2ae",
   "metadata": {},
   "outputs": [
    {
     "name": "stdout",
     "output_type": "stream",
     "text": [
      "0\n",
      "1\n",
      "2\n",
      "3\n",
      "4\n",
      "10\n"
     ]
    }
   ],
   "source": [
    "for n in (0, 1, 2, 3, 4,10):\n",
    "    print(n)"
   ]
  },
  {
   "cell_type": "code",
   "execution_count": 23,
   "id": "5cbb9620",
   "metadata": {},
   "outputs": [
    {
     "name": "stdout",
     "output_type": "stream",
     "text": [
      "0\n",
      "1\n",
      "2\n",
      "3\n",
      "4\n",
      "5\n",
      "6\n",
      "7\n",
      "8\n",
      "9\n"
     ]
    }
   ],
   "source": [
    "x = range(10)\n",
    "for n in x:\n",
    "    print(n)"
   ]
  },
  {
   "cell_type": "code",
   "execution_count": 24,
   "id": "10ff374d",
   "metadata": {},
   "outputs": [
    {
     "name": "stdout",
     "output_type": "stream",
     "text": [
      "foo\n"
     ]
    }
   ],
   "source": [
    "for i in ['foo', 'bar', 'baz', 'qux']:\n",
    "    if 'b' in i:\n",
    "        break\n",
    "    print(i)"
   ]
  },
  {
   "cell_type": "code",
   "execution_count": 25,
   "id": "ca11190c",
   "metadata": {},
   "outputs": [
    {
     "name": "stdout",
     "output_type": "stream",
     "text": [
      "foo\n",
      "qux\n"
     ]
    }
   ],
   "source": [
    "for i in ['foo', 'bar', 'baz', 'qux']:\n",
    "    if 'b' in i:\n",
    "        continue\n",
    "    print(i)"
   ]
  },
  {
   "cell_type": "code",
   "execution_count": 26,
   "id": "6085336f",
   "metadata": {},
   "outputs": [
    {
     "name": "stdout",
     "output_type": "stream",
     "text": [
      "foo\n",
      "bar\n",
      "baz\n",
      "qux\n",
      "Done.\n"
     ]
    }
   ],
   "source": [
    "for i in ['foo', 'bar', 'baz', 'qux']:\n",
    "    print(i)\n",
    "else:\n",
    "    print('Done.')"
   ]
  },
  {
   "cell_type": "code",
   "execution_count": 27,
   "id": "42c33363",
   "metadata": {},
   "outputs": [
    {
     "name": "stdout",
     "output_type": "stream",
     "text": [
      "KONVERSI SATUAN TEMPERATUR CELCIUS & FAHRENHEIT\n",
      "\n",
      "Ketikan temperatur yang ingin dikonversi, eg. 45F, 120C: 120C\n",
      "Temperaturnya adalah 248 derajat  Fahrenheit\n"
     ]
    }
   ],
   "source": [
    "print(\"KONVERSI SATUAN TEMPERATUR CELCIUS & FAHRENHEIT\")\n",
    "print(\"\")\n",
    "\n",
    "temp = input(\"Ketikan temperatur yang ingin dikonversi, eg. 45F, 120C: \")\n",
    "degree = int(temp[:-1])\n",
    "i_conversion = temp[-1]\n",
    "\n",
    "if i_conversion == \"C\":\n",
    "    result = int(round((9 * degree) / 5 + 32))\n",
    "    derajat_converted = \" Fahrenheit\"\n",
    "elif i_conversion == \"F\":\n",
    "    result = int(round((degree - 32) * 5 / 9))\n",
    "    derajat_converted = \" Celcius\"\n",
    "else:\n",
    "    print(\"Masukan input yang benar\")\n",
    "\n",
    "print(\"Temperaturnya adalah\", result, \"derajat\",derajat_converted)"
   ]
  },
  {
   "cell_type": "code",
   "execution_count": 28,
   "id": "c7a23ca1",
   "metadata": {},
   "outputs": [
    {
     "data": {
      "text/plain": [
       "'C'"
      ]
     },
     "execution_count": 28,
     "metadata": {},
     "output_type": "execute_result"
    }
   ],
   "source": [
    "temp[-1]"
   ]
  },
  {
   "cell_type": "code",
   "execution_count": 29,
   "id": "64c3521c",
   "metadata": {},
   "outputs": [
    {
     "data": {
      "text/plain": [
       "'120C'"
      ]
     },
     "execution_count": 29,
     "metadata": {},
     "output_type": "execute_result"
    }
   ],
   "source": [
    "temp"
   ]
  },
  {
   "cell_type": "code",
   "execution_count": 30,
   "id": "a78c625d",
   "metadata": {},
   "outputs": [
    {
     "data": {
      "text/plain": [
       "120"
      ]
     },
     "execution_count": 30,
     "metadata": {},
     "output_type": "execute_result"
    }
   ],
   "source": [
    "degree"
   ]
  },
  {
   "cell_type": "code",
   "execution_count": 31,
   "id": "f2558765",
   "metadata": {},
   "outputs": [
    {
     "data": {
      "text/plain": [
       "'C'"
      ]
     },
     "execution_count": 31,
     "metadata": {},
     "output_type": "execute_result"
    }
   ],
   "source": [
    "i_conversion"
   ]
  },
  {
   "cell_type": "code",
   "execution_count": 32,
   "id": "ebc2ffb9",
   "metadata": {},
   "outputs": [
    {
     "data": {
      "text/plain": [
       "' Fahrenheit'"
      ]
     },
     "execution_count": 32,
     "metadata": {},
     "output_type": "execute_result"
    }
   ],
   "source": [
    "derajat_converted"
   ]
  },
  {
   "cell_type": "code",
   "execution_count": null,
   "id": "7c1ebaea",
   "metadata": {},
   "outputs": [],
   "source": []
  }
 ],
 "metadata": {
  "kernelspec": {
   "display_name": "Python 3 (ipykernel)",
   "language": "python",
   "name": "python3"
  },
  "language_info": {
   "codemirror_mode": {
    "name": "ipython",
    "version": 3
   },
   "file_extension": ".py",
   "mimetype": "text/x-python",
   "name": "python",
   "nbconvert_exporter": "python",
   "pygments_lexer": "ipython3",
   "version": "3.8.12"
  }
 },
 "nbformat": 4,
 "nbformat_minor": 5
}
