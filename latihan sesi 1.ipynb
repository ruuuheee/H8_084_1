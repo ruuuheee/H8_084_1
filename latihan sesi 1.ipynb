{
 "cells": [
  {
   "cell_type": "code",
   "execution_count": 8,
   "id": "d0001fae",
   "metadata": {},
   "outputs": [
    {
     "name": "stdout",
     "output_type": "stream",
     "text": [
      "ahaaaay 2\n"
     ]
    }
   ],
   "source": [
    "a = \"ahaaaay\"\n",
    "d = 2\n",
    "print(a,d)"
   ]
  },
  {
   "cell_type": "code",
   "execution_count": 2,
   "id": "32074a62",
   "metadata": {},
   "outputs": [
    {
     "name": "stdout",
     "output_type": "stream",
     "text": [
      "ahaaaayuhuuuyihiiiiiy\n"
     ]
    }
   ],
   "source": [
    "print(a+b+c)"
   ]
  },
  {
   "cell_type": "code",
   "execution_count": 3,
   "id": "70230290",
   "metadata": {},
   "outputs": [
    {
     "data": {
      "text/plain": [
       "'ahaaaayahaaaay'"
      ]
     },
     "execution_count": 3,
     "metadata": {},
     "output_type": "execute_result"
    }
   ],
   "source": [
    "a*2"
   ]
  },
  {
   "cell_type": "code",
   "execution_count": 4,
   "id": "07ff9454",
   "metadata": {},
   "outputs": [],
   "source": [
    "d=2"
   ]
  },
  {
   "cell_type": "code",
   "execution_count": 7,
   "id": "ba081791",
   "metadata": {},
   "outputs": [
    {
     "name": "stdout",
     "output_type": "stream",
     "text": [
      "ahaaaay 2\n"
     ]
    }
   ],
   "source": [
    "print(a,d)"
   ]
  },
  {
   "cell_type": "code",
   "execution_count": 9,
   "id": "9a36ad4e",
   "metadata": {},
   "outputs": [
    {
     "name": "stdout",
     "output_type": "stream",
     "text": [
      "aaaa uhuuuy\n"
     ]
    }
   ],
   "source": [
    "print('aaaa',b)"
   ]
  },
  {
   "cell_type": "code",
   "execution_count": 29,
   "id": "344c2272",
   "metadata": {},
   "outputs": [],
   "source": [
    "daftar = ['satu', 'dua', 'tiga', 'empat']"
   ]
  },
  {
   "cell_type": "code",
   "execution_count": 30,
   "id": "d7688df8",
   "metadata": {},
   "outputs": [
    {
     "name": "stdout",
     "output_type": "stream",
     "text": [
      "empat\n"
     ]
    }
   ],
   "source": [
    "print(daftar[3])"
   ]
  },
  {
   "cell_type": "code",
   "execution_count": 31,
   "id": "4fc365c6",
   "metadata": {},
   "outputs": [
    {
     "name": "stdout",
     "output_type": "stream",
     "text": [
      "empat\n"
     ]
    }
   ],
   "source": [
    "print(daftar[-1])"
   ]
  },
  {
   "cell_type": "code",
   "execution_count": 32,
   "id": "3652f855",
   "metadata": {},
   "outputs": [
    {
     "data": {
      "text/plain": [
       "['satu', 'dua', 'tiga', 'empat']"
      ]
     },
     "execution_count": 32,
     "metadata": {},
     "output_type": "execute_result"
    }
   ],
   "source": [
    "daftar[0:5]"
   ]
  },
  {
   "cell_type": "code",
   "execution_count": 33,
   "id": "d53e2c79",
   "metadata": {},
   "outputs": [
    {
     "name": "stdout",
     "output_type": "stream",
     "text": [
      "['satu', 'dua', 'tiga', 'empat', 'lima']\n"
     ]
    }
   ],
   "source": [
    "print(daftar+['lima'])"
   ]
  },
  {
   "cell_type": "code",
   "execution_count": 34,
   "id": "628585da",
   "metadata": {},
   "outputs": [
    {
     "name": "stdout",
     "output_type": "stream",
     "text": [
      "4\n"
     ]
    }
   ],
   "source": [
    "print(len(daftar))"
   ]
  },
  {
   "cell_type": "code",
   "execution_count": 35,
   "id": "0c5a9d47",
   "metadata": {},
   "outputs": [
    {
     "name": "stdout",
     "output_type": "stream",
     "text": [
      "dua\n",
      "tiga\n"
     ]
    }
   ],
   "source": [
    "print(min(daftar))\n",
    "print(max(daftar))"
   ]
  },
  {
   "cell_type": "code",
   "execution_count": 45,
   "id": "88c52f64",
   "metadata": {},
   "outputs": [],
   "source": [
    "daftar_baru =[1,2,3,4]"
   ]
  },
  {
   "cell_type": "code",
   "execution_count": 48,
   "id": "2d8f7377",
   "metadata": {},
   "outputs": [],
   "source": [
    "daftar[3] = \"lima\""
   ]
  },
  {
   "cell_type": "code",
   "execution_count": 49,
   "id": "3d1d353e",
   "metadata": {},
   "outputs": [
    {
     "data": {
      "text/plain": [
       "['satu', 'dua', 'tiga', 'lima']"
      ]
     },
     "execution_count": 49,
     "metadata": {},
     "output_type": "execute_result"
    }
   ],
   "source": [
    "daftar"
   ]
  },
  {
   "cell_type": "code",
   "execution_count": 51,
   "id": "b63a225f",
   "metadata": {},
   "outputs": [],
   "source": [
    "new_daftar = ('satu', 'dua', 'tiga', 'empat')"
   ]
  },
  {
   "cell_type": "code",
   "execution_count": null,
   "id": "dd1ed60b",
   "metadata": {},
   "outputs": [],
   "source": []
  },
  {
   "cell_type": "code",
   "execution_count": null,
   "id": "3e3297e7",
   "metadata": {},
   "outputs": [],
   "source": []
  },
  {
   "cell_type": "code",
   "execution_count": 55,
   "id": "ba409c36",
   "metadata": {},
   "outputs": [],
   "source": [
    "MLB_team = {\n",
    "    'Colorado': 'Rockies',\n",
    "    'Boston': 'Red Sox',\n",
    "    'Minnesota': 'Twins',\n",
    "    'Milwaukee': 'Brewers',\n",
    "    'Seattle': 'Mariners'\n",
    "}"
   ]
  },
  {
   "cell_type": "code",
   "execution_count": 56,
   "id": "426ede1b",
   "metadata": {},
   "outputs": [
    {
     "data": {
      "text/plain": [
       "{'Colorado': 'Rockies',\n",
       " 'Boston': 'Red Sox',\n",
       " 'Minnesota': 'Twins',\n",
       " 'Milwaukee': 'Brewers',\n",
       " 'Seattle': 'Mariners'}"
      ]
     },
     "execution_count": 56,
     "metadata": {},
     "output_type": "execute_result"
    }
   ],
   "source": [
    "MLB_team"
   ]
  },
  {
   "cell_type": "code",
   "execution_count": 58,
   "id": "a3cfd39c",
   "metadata": {},
   "outputs": [
    {
     "name": "stdout",
     "output_type": "stream",
     "text": [
      "Rockies\n"
     ]
    }
   ],
   "source": [
    "print(MLB_team['Colorado'])"
   ]
  },
  {
   "cell_type": "code",
   "execution_count": 59,
   "id": "82c976ec",
   "metadata": {},
   "outputs": [],
   "source": [
    "MLB_team['Kansas'] = 'Persib'"
   ]
  },
  {
   "cell_type": "code",
   "execution_count": 60,
   "id": "19f7f5c1",
   "metadata": {},
   "outputs": [
    {
     "data": {
      "text/plain": [
       "{'Colorado': 'Rockies',\n",
       " 'Boston': 'Red Sox',\n",
       " 'Minnesota': 'Twins',\n",
       " 'Milwaukee': 'Brewers',\n",
       " 'Seattle': 'Mariners',\n",
       " 'Kansas': 'Persib'}"
      ]
     },
     "execution_count": 60,
     "metadata": {},
     "output_type": "execute_result"
    }
   ],
   "source": [
    "MLB_team"
   ]
  },
  {
   "cell_type": "code",
   "execution_count": 61,
   "id": "c9707077",
   "metadata": {},
   "outputs": [],
   "source": [
    "MLB_team['Boston'] = 'Persija'"
   ]
  },
  {
   "cell_type": "code",
   "execution_count": 62,
   "id": "adb42a03",
   "metadata": {},
   "outputs": [
    {
     "data": {
      "text/plain": [
       "{'Colorado': 'Rockies',\n",
       " 'Boston': 'Persija',\n",
       " 'Minnesota': 'Twins',\n",
       " 'Milwaukee': 'Brewers',\n",
       " 'Seattle': 'Mariners',\n",
       " 'Kansas': 'Persib'}"
      ]
     },
     "execution_count": 62,
     "metadata": {},
     "output_type": "execute_result"
    }
   ],
   "source": [
    "MLB_team"
   ]
  },
  {
   "cell_type": "code",
   "execution_count": 63,
   "id": "9f31166c",
   "metadata": {},
   "outputs": [],
   "source": [
    "person = {}\n",
    "type(person)\n",
    "\n",
    "person['fname'] = 'Hack'\n",
    "person['lname'] = 'PTP'\n",
    "person['age'] = 51\n",
    "person['spouse'] = 'Edna'\n",
    "person['children'] = ['Ralph', 'Betty', 'Joey']\n",
    "person['pets'] = {'dog': 'Fido', 'cat': 'Sox'}"
   ]
  },
  {
   "cell_type": "code",
   "execution_count": 65,
   "id": "5b732c7d",
   "metadata": {},
   "outputs": [],
   "source": [
    "person['fname'] = 'WOOOOOOOY'"
   ]
  },
  {
   "cell_type": "code",
   "execution_count": 66,
   "id": "1b887d4d",
   "metadata": {},
   "outputs": [
    {
     "data": {
      "text/plain": [
       "{'fname': 'WOOOOOOOY',\n",
       " 'lname': 'PTP',\n",
       " 'age': 51,\n",
       " 'spouse': 'Edna',\n",
       " 'children': ['Ralph', 'Betty', 'Joey'],\n",
       " 'pets': {'dog': 'Fido', 'cat': 'Sox'}}"
      ]
     },
     "execution_count": 66,
     "metadata": {},
     "output_type": "execute_result"
    }
   ],
   "source": [
    "person"
   ]
  }
 ],
 "metadata": {
  "kernelspec": {
   "display_name": "Python 3 (ipykernel)",
   "language": "python",
   "name": "python3"
  },
  "language_info": {
   "codemirror_mode": {
    "name": "ipython",
    "version": 3
   },
   "file_extension": ".py",
   "mimetype": "text/x-python",
   "name": "python",
   "nbconvert_exporter": "python",
   "pygments_lexer": "ipython3",
   "version": "3.8.12"
  }
 },
 "nbformat": 4,
 "nbformat_minor": 5
}
