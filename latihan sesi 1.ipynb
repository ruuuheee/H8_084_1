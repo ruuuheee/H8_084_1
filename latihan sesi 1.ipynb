{
 "cells": [
  {
   "cell_type": "code",
   "execution_count": 8,
   "id": "9afbf61b",
   "metadata": {},
   "outputs": [
    {
     "name": "stdout",
     "output_type": "stream",
     "text": [
      "ahaaaay 2\n"
     ]
    }
   ],
   "source": [
    "a = \"ahaaaay\"\n",
    "d = 2\n",
    "print(a,d)"
   ]
  },
  {
   "cell_type": "code",
   "execution_count": 2,
   "id": "b19017c4",
   "metadata": {},
   "outputs": [
    {
     "name": "stdout",
     "output_type": "stream",
     "text": [
      "ahaaaayuhuuuyihiiiiiy\n"
     ]
    }
   ],
   "source": [
    "print(a+b+c)"
   ]
  },
  {
   "cell_type": "code",
   "execution_count": 3,
   "id": "e4945256",
   "metadata": {},
   "outputs": [
    {
     "data": {
      "text/plain": [
       "'ahaaaayahaaaay'"
      ]
     },
     "execution_count": 3,
     "metadata": {},
     "output_type": "execute_result"
    }
   ],
   "source": [
    "a*2"
   ]
  },
  {
   "cell_type": "code",
   "execution_count": 4,
   "id": "85b7df78",
   "metadata": {},
   "outputs": [],
   "source": [
    "d=2"
   ]
  },
  {
   "cell_type": "code",
   "execution_count": 7,
   "id": "0105fa1c",
   "metadata": {},
   "outputs": [
    {
     "name": "stdout",
     "output_type": "stream",
     "text": [
      "ahaaaay 2\n"
     ]
    }
   ],
   "source": [
    "print(a,d)"
   ]
  },
  {
   "cell_type": "code",
   "execution_count": 9,
   "id": "7fec3421",
   "metadata": {},
   "outputs": [
    {
     "name": "stdout",
     "output_type": "stream",
     "text": [
      "aaaa uhuuuy\n"
     ]
    }
   ],
   "source": [
    "print('aaaa',b)"
   ]
  },
  {
   "cell_type": "code",
   "execution_count": 29,
   "id": "6d278613",
   "metadata": {},
   "outputs": [],
   "source": [
    "daftar = ['satu', 'dua', 'tiga', 'empat']"
   ]
  },
  {
   "cell_type": "code",
   "execution_count": 30,
   "id": "025390e0",
   "metadata": {},
   "outputs": [
    {
     "name": "stdout",
     "output_type": "stream",
     "text": [
      "empat\n"
     ]
    }
   ],
   "source": [
    "print(daftar[3])"
   ]
  },
  {
   "cell_type": "code",
   "execution_count": 31,
   "id": "a5b50679",
   "metadata": {},
   "outputs": [
    {
     "name": "stdout",
     "output_type": "stream",
     "text": [
      "empat\n"
     ]
    }
   ],
   "source": [
    "print(daftar[-1])"
   ]
  },
  {
   "cell_type": "code",
   "execution_count": 32,
   "id": "8056d978",
   "metadata": {},
   "outputs": [
    {
     "data": {
      "text/plain": [
       "['satu', 'dua', 'tiga', 'empat']"
      ]
     },
     "execution_count": 32,
     "metadata": {},
     "output_type": "execute_result"
    }
   ],
   "source": [
    "daftar[0:5]"
   ]
  },
  {
   "cell_type": "code",
   "execution_count": 33,
   "id": "d1d6bef9",
   "metadata": {},
   "outputs": [
    {
     "name": "stdout",
     "output_type": "stream",
     "text": [
      "['satu', 'dua', 'tiga', 'empat', 'lima']\n"
     ]
    }
   ],
   "source": [
    "print(daftar+['lima'])"
   ]
  },
  {
   "cell_type": "code",
   "execution_count": 34,
   "id": "43af5ae2",
   "metadata": {},
   "outputs": [
    {
     "name": "stdout",
     "output_type": "stream",
     "text": [
      "4\n"
     ]
    }
   ],
   "source": [
    "print(len(daftar))"
   ]
  },
  {
   "cell_type": "code",
   "execution_count": 35,
   "id": "3614a656",
   "metadata": {},
   "outputs": [
    {
     "name": "stdout",
     "output_type": "stream",
     "text": [
      "dua\n",
      "tiga\n"
     ]
    }
   ],
   "source": [
    "print(min(daftar))\n",
    "print(max(daftar))"
   ]
  },
  {
   "cell_type": "code",
   "execution_count": 45,
   "id": "8af803ad",
   "metadata": {},
   "outputs": [],
   "source": [
    "daftar_baru =[1,2,3,4]"
   ]
  },
  {
   "cell_type": "code",
   "execution_count": 48,
   "id": "7107f6d9",
   "metadata": {},
   "outputs": [],
   "source": [
    "daftar[3] = \"lima\""
   ]
  },
  {
   "cell_type": "code",
   "execution_count": 49,
   "id": "d862fae7",
   "metadata": {},
   "outputs": [
    {
     "data": {
      "text/plain": [
       "['satu', 'dua', 'tiga', 'lima']"
      ]
     },
     "execution_count": 49,
     "metadata": {},
     "output_type": "execute_result"
    }
   ],
   "source": [
    "daftar"
   ]
  },
  {
   "cell_type": "code",
   "execution_count": 51,
   "id": "7c536941",
   "metadata": {},
   "outputs": [],
   "source": [
    "new_daftar = ('satu', 'dua', 'tiga', 'empat')"
   ]
  },
  {
   "cell_type": "code",
   "execution_count": 53,
   "id": "ea5aa9e4",
   "metadata": {},
   "outputs": [
    {
     "ename": "TypeError",
     "evalue": "'tuple' object does not support item assignment",
     "output_type": "error",
     "traceback": [
      "\u001b[0;31m---------------------------------------------------------------------------\u001b[0m",
      "\u001b[0;31mTypeError\u001b[0m                                 Traceback (most recent call last)",
      "Input \u001b[0;32mIn [53]\u001b[0m, in \u001b[0;36m<cell line: 1>\u001b[0;34m()\u001b[0m\n\u001b[0;32m----> 1\u001b[0m new_daftar[\u001b[38;5;241m3\u001b[39m] \u001b[38;5;241m=\u001b[39m \u001b[38;5;124m\"\u001b[39m\u001b[38;5;124mlima\u001b[39m\u001b[38;5;124m\"\u001b[39m\n",
      "\u001b[0;31mTypeError\u001b[0m: 'tuple' object does not support item assignment"
     ]
    }
   ],
   "source": [
    "new_daftar[3] = \"lima\""
   ]
  },
  {
   "cell_type": "code",
   "execution_count": 54,
   "id": "6b76e09b",
   "metadata": {},
   "outputs": [
    {
     "ename": "TypeError",
     "evalue": "'tuple' object doesn't support item deletion",
     "output_type": "error",
     "traceback": [
      "\u001b[0;31m---------------------------------------------------------------------------\u001b[0m",
      "\u001b[0;31mTypeError\u001b[0m                                 Traceback (most recent call last)",
      "Input \u001b[0;32mIn [54]\u001b[0m, in \u001b[0;36m<cell line: 1>\u001b[0;34m()\u001b[0m\n\u001b[0;32m----> 1\u001b[0m \u001b[38;5;28;01mdel\u001b[39;00m new_daftar[\u001b[38;5;241m0\u001b[39m]\n",
      "\u001b[0;31mTypeError\u001b[0m: 'tuple' object doesn't support item deletion"
     ]
    }
   ],
   "source": [
    "del new_daftar[0]"
   ]
  },
  {
   "cell_type": "code",
   "execution_count": 55,
   "id": "c9bedbfb",
   "metadata": {},
   "outputs": [],
   "source": [
    "MLB_team = {\n",
    "    'Colorado': 'Rockies',\n",
    "    'Boston': 'Red Sox',\n",
    "    'Minnesota': 'Twins',\n",
    "    'Milwaukee': 'Brewers',\n",
    "    'Seattle': 'Mariners'\n",
    "}"
   ]
  },
  {
   "cell_type": "code",
   "execution_count": 56,
   "id": "328257b9",
   "metadata": {},
   "outputs": [
    {
     "data": {
      "text/plain": [
       "{'Colorado': 'Rockies',\n",
       " 'Boston': 'Red Sox',\n",
       " 'Minnesota': 'Twins',\n",
       " 'Milwaukee': 'Brewers',\n",
       " 'Seattle': 'Mariners'}"
      ]
     },
     "execution_count": 56,
     "metadata": {},
     "output_type": "execute_result"
    }
   ],
   "source": [
    "MLB_team"
   ]
  },
  {
   "cell_type": "code",
   "execution_count": 58,
   "id": "bfb0372a",
   "metadata": {},
   "outputs": [
    {
     "name": "stdout",
     "output_type": "stream",
     "text": [
      "Rockies\n"
     ]
    }
   ],
   "source": [
    "print(MLB_team['Colorado'])"
   ]
  },
  {
   "cell_type": "code",
   "execution_count": 59,
   "id": "6041a9e6",
   "metadata": {},
   "outputs": [],
   "source": [
    "MLB_team['Kansas'] = 'Persib'"
   ]
  },
  {
   "cell_type": "code",
   "execution_count": 60,
   "id": "3019e1d2",
   "metadata": {},
   "outputs": [
    {
     "data": {
      "text/plain": [
       "{'Colorado': 'Rockies',\n",
       " 'Boston': 'Red Sox',\n",
       " 'Minnesota': 'Twins',\n",
       " 'Milwaukee': 'Brewers',\n",
       " 'Seattle': 'Mariners',\n",
       " 'Kansas': 'Persib'}"
      ]
     },
     "execution_count": 60,
     "metadata": {},
     "output_type": "execute_result"
    }
   ],
   "source": [
    "MLB_team"
   ]
  },
  {
   "cell_type": "code",
   "execution_count": 61,
   "id": "e6ddbeb4",
   "metadata": {},
   "outputs": [],
   "source": [
    "MLB_team['Boston'] = 'Persija'"
   ]
  },
  {
   "cell_type": "code",
   "execution_count": 62,
   "id": "26337028",
   "metadata": {},
   "outputs": [
    {
     "data": {
      "text/plain": [
       "{'Colorado': 'Rockies',\n",
       " 'Boston': 'Persija',\n",
       " 'Minnesota': 'Twins',\n",
       " 'Milwaukee': 'Brewers',\n",
       " 'Seattle': 'Mariners',\n",
       " 'Kansas': 'Persib'}"
      ]
     },
     "execution_count": 62,
     "metadata": {},
     "output_type": "execute_result"
    }
   ],
   "source": [
    "MLB_team"
   ]
  },
  {
   "cell_type": "code",
   "execution_count": 63,
   "id": "4a6c5293",
   "metadata": {},
   "outputs": [],
   "source": [
    "person = {}\n",
    "type(person)\n",
    "\n",
    "person['fname'] = 'Hack'\n",
    "person['lname'] = 'PTP'\n",
    "person['age'] = 51\n",
    "person['spouse'] = 'Edna'\n",
    "person['children'] = ['Ralph', 'Betty', 'Joey']\n",
    "person['pets'] = {'dog': 'Fido', 'cat': 'Sox'}"
   ]
  },
  {
   "cell_type": "code",
   "execution_count": 65,
   "id": "b6f43d34",
   "metadata": {},
   "outputs": [],
   "source": [
    "person['fname'] = 'WOOOOOOOY'"
   ]
  },
  {
   "cell_type": "code",
   "execution_count": 66,
   "id": "31722ba8",
   "metadata": {},
   "outputs": [
    {
     "data": {
      "text/plain": [
       "{'fname': 'WOOOOOOOY',\n",
       " 'lname': 'PTP',\n",
       " 'age': 51,\n",
       " 'spouse': 'Edna',\n",
       " 'children': ['Ralph', 'Betty', 'Joey'],\n",
       " 'pets': {'dog': 'Fido', 'cat': 'Sox'}}"
      ]
     },
     "execution_count": 66,
     "metadata": {},
     "output_type": "execute_result"
    }
   ],
   "source": [
    "person"
   ]
  }
 ],
 "metadata": {
  "kernelspec": {
   "display_name": "Python 3 (ipykernel)",
   "language": "python",
   "name": "python3"
  },
  "language_info": {
   "codemirror_mode": {
    "name": "ipython",
    "version": 3
   },
   "file_extension": ".py",
   "mimetype": "text/x-python",
   "name": "python",
   "nbconvert_exporter": "python",
   "pygments_lexer": "ipython3",
   "version": "3.8.12"
  }
 },
 "nbformat": 4,
 "nbformat_minor": 5
}
