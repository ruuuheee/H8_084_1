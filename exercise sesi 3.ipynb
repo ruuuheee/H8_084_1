{
 "cells": [
  {
   "cell_type": "markdown",
   "id": "033de2e1",
   "metadata": {},
   "source": [
    "# SOAL 1"
   ]
  },
  {
   "cell_type": "code",
   "execution_count": 1,
   "id": "60e121a5",
   "metadata": {},
   "outputs": [
    {
     "name": "stdout",
     "output_type": "stream",
     "text": [
      "Masukan bilangan : 90\n",
      "Bilangan  90 termasuk bilangan GENAP\n"
     ]
    }
   ],
   "source": [
    "bilangan = input(\"Masukan bilangan : \")\n",
    "bilangan_int = int(bilangan)\n",
    "\n",
    "\n",
    "if bilangan_int == 0:\n",
    "    print(\"Bilangan 0 (nol) bukan bilangan ganjil atau genap\")\n",
    "    print(\"silakan ulangi.\")\n",
    "elif bilangan_int < 0:\n",
    "    print(\"Bilangan yang anda masukan adalah bilangan negatif, silakan ulangi dengan memasukan bilangan bulat positif.\")\n",
    "else:\n",
    "    sisa = bilangan_int%2\n",
    "    if sisa == 0:\n",
    "        print(\"Bilangan \", bilangan_int, \"termasuk bilangan GENAP\")\n",
    "    else:\n",
    "        print(\"Bilangan \", bilangan_int, \"termasuk bilangan GANJIL\")"
   ]
  },
  {
   "cell_type": "code",
   "execution_count": null,
   "id": "b857faf7",
   "metadata": {},
   "outputs": [],
   "source": []
  },
  {
   "cell_type": "markdown",
   "id": "dbeb165a",
   "metadata": {},
   "source": [
    "# SOAL 2"
   ]
  },
  {
   "cell_type": "code",
   "execution_count": 2,
   "id": "001a6cbd",
   "metadata": {},
   "outputs": [
    {
     "name": "stdout",
     "output_type": "stream",
     "text": [
      "Selamat datang di menu perhitungan luas\n",
      "Masukan angka 1 untuk menghitung luas segitiga\n",
      "Masukan angka 2 untuk menghitung luas persegi\n",
      "\n",
      "Silakan pilih perhitungan luas yang diinginkan : 2\n",
      "\n",
      "Perhitungan luas persegi\n",
      "Masukan panjang sisi persegi :90\n",
      "Luas persegi tersebut adalah  8100\n"
     ]
    }
   ],
   "source": [
    "print(\"Selamat datang di menu perhitungan luas\")\n",
    "print(\"Masukan angka 1 untuk menghitung luas segitiga\")\n",
    "print(\"Masukan angka 2 untuk menghitung luas persegi\")\n",
    "print(\"\")\n",
    "\n",
    "pilih = input(\"Silakan pilih perhitungan luas yang diinginkan : \")\n",
    "angka = int(pilih)\n",
    "print(\"\")\n",
    "\n",
    "if angka == 1:\n",
    "    print(\"Perhitungan luas segitiga\")\n",
    "    alas = input(\"Masukan alas segitiga :\")    \n",
    "    alas_int = int(alas)\n",
    "    tinggi = input(\"Masukan tinggi segitiga :\")\n",
    "    tinggi_int = int(tinggi)\n",
    "    luas_segitiga = alas_int*tinggi_int/2\n",
    "    print(\"Luas segitiga tersebut adalah \",luas_segitiga)\n",
    "\n",
    "elif angka == 2:    \n",
    "    print(\"Perhitungan luas persegi\")\n",
    "    panjang = input(\"Masukan panjang sisi persegi :\")    \n",
    "    panjang_int = int(panjang)\n",
    "    luas_persegi = panjang_int**2\n",
    "    print(\"Luas persegi tersebut adalah \", luas_persegi)\n",
    "        \n",
    "if angka != 1 and angka !=2:\n",
    "    print(\"Pilih angka sesuai pilihan yang tersedia.\")"
   ]
  },
  {
   "cell_type": "code",
   "execution_count": null,
   "id": "a51cf605",
   "metadata": {},
   "outputs": [],
   "source": [
    "    "
   ]
  },
  {
   "cell_type": "markdown",
   "id": "42a19bb7",
   "metadata": {},
   "source": [
    "# SOAL 3"
   ]
  },
  {
   "cell_type": "code",
   "execution_count": 3,
   "id": "99063fd0",
   "metadata": {},
   "outputs": [
    {
     "name": "stdout",
     "output_type": "stream",
     "text": [
      "Masukkan jumlah hari : 890\n",
      "890 hari =  2 tahun 5 bulan 2 minggu 6 hari\n"
     ]
    }
   ],
   "source": [
    "import math\n",
    "\n",
    "input_hari = input(\"Masukkan jumlah hari : \")\n",
    "hari = int(input_hari)\n",
    "\n",
    "if hari >= 0 and hari < 360:\n",
    "    tahun1 = 0\n",
    "    \n",
    "    bulan1 = math.floor(hari/30)\n",
    "    sisahari1 = hari - (bulan1*30)\n",
    "    \n",
    "    minggu1 = math.floor(sisahari1/7)\n",
    "    sisahari2 = sisahari1 - (minggu1*7)\n",
    "    \n",
    "    print(hari, \"hari = \", tahun1, \"tahun\", bulan1, \"bulan\", minggu1, \"minggu\", sisahari2, \"hari\")\n",
    "\n",
    "elif hari >= 360:\n",
    "    tahun2 = math.floor(hari/360)\n",
    "    sisahari3 = hari - (tahun2*360)\n",
    "    \n",
    "    bulan2 = math.floor(sisahari3/30)\n",
    "    sisahari4 = sisahari3 - (bulan2*30)\n",
    "    \n",
    "    minggu2 = math.floor(sisahari4/7)\n",
    "    sisahari5 = sisahari4 - (minggu2*7)\n",
    "    \n",
    "    print(hari, \"hari = \", tahun2, \"tahun\", bulan2, \"bulan\", minggu2, \"minggu\", sisahari5, \"hari\")\n",
    "\n",
    "else:\n",
    "    print(\"masukan jumlah hari dengan benar.\")"
   ]
  },
  {
   "cell_type": "code",
   "execution_count": null,
   "id": "728ef0be",
   "metadata": {},
   "outputs": [],
   "source": []
  }
 ],
 "metadata": {
  "kernelspec": {
   "display_name": "Python 3 (ipykernel)",
   "language": "python",
   "name": "python3"
  },
  "language_info": {
   "codemirror_mode": {
    "name": "ipython",
    "version": 3
   },
   "file_extension": ".py",
   "mimetype": "text/x-python",
   "name": "python",
   "nbconvert_exporter": "python",
   "pygments_lexer": "ipython3",
   "version": "3.8.12"
  }
 },
 "nbformat": 4,
 "nbformat_minor": 5
}
